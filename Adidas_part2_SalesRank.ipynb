{
  "nbformat": 4,
  "nbformat_minor": 0,
  "metadata": {
    "colab": {
      "name": "Adidas_part2_SalesRank.ipynb",
      "provenance": [],
      "collapsed_sections": []
    },
    "kernelspec": {
      "name": "python3",
      "display_name": "Python 3"
    }
  },
  "cells": [
    {
      "cell_type": "markdown",
      "metadata": {
        "id": "XY1WfI7dawkM",
        "colab_type": "text"
      },
      "source": [
        "# **Preprocessing**"
      ]
    },
    {
      "cell_type": "code",
      "metadata": {
        "id": "8lZVjJosL0AA",
        "colab_type": "code",
        "outputId": "9471ab04-5393-464c-f7d1-9cdce1d827e9",
        "colab": {
          "base_uri": "https://localhost:8080/",
          "height": 37
        }
      },
      "source": [
        "import json\n",
        "import pandas as pd\n",
        "import numpy as np\n",
        "\n",
        "from google.colab import drive\n",
        "drive.mount('/content/drive')\n",
        "barbellsreviews = json.load(open('drive/My Drive/Colab Notebooks/APRD6343_NEW/adidasreviews2.json','r'))"
      ],
      "execution_count": 0,
      "outputs": [
        {
          "output_type": "stream",
          "text": [
            "Drive already mounted at /content/drive; to attempt to forcibly remount, call drive.mount(\"/content/drive\", force_remount=True).\n"
          ],
          "name": "stdout"
        }
      ]
    },
    {
      "cell_type": "code",
      "metadata": {
        "id": "JdSrwyQvLx_x",
        "colab_type": "code",
        "colab": {}
      },
      "source": [
        "barbellstext = []\n",
        "for areview in barbellsreviews:\n",
        "  areview = barbellsreviews[areview]\n",
        "  if 'reviewText' in areview:\n",
        "    barbellstext.append(areview['reviewText'])\n",
        "\n",
        "# convert review texts to dictionary\n",
        "barbellsdict = dict(zip(range(len(barbellstext)), barbellstext))"
      ],
      "execution_count": 0,
      "outputs": []
    },
    {
      "cell_type": "code",
      "metadata": {
        "id": "Zf2bvN9XkRfI",
        "colab_type": "code",
        "outputId": "b4727d24-a75b-4b1c-d784-d34ddb75c892",
        "colab": {
          "base_uri": "https://localhost:8080/",
          "height": 1000
        }
      },
      "source": [
        "! pip install tmtoolkit\n",
        "\n",
        "import nltk\n",
        "nltk.download('stopwords')\n",
        "nltk.download('punkt')\n",
        "nltk.download('averaged_perceptron_tagger')\n",
        "nltk.download('wordnet')"
      ],
      "execution_count": 0,
      "outputs": [
        {
          "output_type": "stream",
          "text": [
            "Collecting tmtoolkit\n",
            "\u001b[?25l  Downloading https://files.pythonhosted.org/packages/78/4b/03d1620dc30f99bb03bbcebcb93795f88a49e5875756ebc3871092f04e82/tmtoolkit-0.9.0-py3-none-any.whl (19.9MB)\n",
            "\u001b[K     |████████████████████████████████| 19.9MB 222kB/s \n",
            "\u001b[?25hRequirement already satisfied: numpy>=1.17.0 in /usr/local/lib/python3.6/dist-packages (from tmtoolkit) (1.17.5)\n",
            "Collecting deprecation>=2.0.0\n",
            "  Downloading https://files.pythonhosted.org/packages/b9/2a/d5084a8781398cea745c01237b95d9762c382697c63760a95cc6a814ad3a/deprecation-2.0.7-py2.py3-none-any.whl\n",
            "Requirement already satisfied: scipy>=1.3.0 in /usr/local/lib/python3.6/dist-packages (from tmtoolkit) (1.4.1)\n",
            "Collecting nltk>=3.4.0\n",
            "\u001b[?25l  Downloading https://files.pythonhosted.org/packages/f6/1d/d925cfb4f324ede997f6d47bea4d9babba51b49e87a767c170b77005889d/nltk-3.4.5.zip (1.5MB)\n",
            "\u001b[K     |████████████████████████████████| 1.5MB 35.6MB/s \n",
            "\u001b[?25hCollecting germalemma>=0.1.3\n",
            "\u001b[?25l  Downloading https://files.pythonhosted.org/packages/c1/94/b335fa67ec8dd6fca977769c17f657526f66e0bcb3a10f44f890ea16555a/germalemma-0.1.3-py3-none-any.whl (2.3MB)\n",
            "\u001b[K     |████████████████████████████████| 2.3MB 36.9MB/s \n",
            "\u001b[?25hCollecting globre>=0.1.5\n",
            "  Downloading https://files.pythonhosted.org/packages/5a/ce/a9e2f3317a458f8c591a1f95d4061d4e241f529ba678292acdcf2d804783/globre-0.1.5.tar.gz\n",
            "Requirement already satisfied: pandas>=0.25.0 in /usr/local/lib/python3.6/dist-packages (from tmtoolkit) (0.25.3)\n",
            "Requirement already satisfied: matplotlib>=3.1.0 in /usr/local/lib/python3.6/dist-packages (from tmtoolkit) (3.1.3)\n",
            "Collecting xlrd>=1.2.0\n",
            "\u001b[?25l  Downloading https://files.pythonhosted.org/packages/b0/16/63576a1a001752e34bf8ea62e367997530dc553b689356b9879339cf45a4/xlrd-1.2.0-py2.py3-none-any.whl (103kB)\n",
            "\u001b[K     |████████████████████████████████| 112kB 48.8MB/s \n",
            "\u001b[?25hRequirement already satisfied: packaging in /usr/local/lib/python3.6/dist-packages (from deprecation>=2.0.0->tmtoolkit) (20.1)\n",
            "Requirement already satisfied: six in /usr/local/lib/python3.6/dist-packages (from nltk>=3.4.0->tmtoolkit) (1.12.0)\n",
            "Collecting PatternLite>=3.6\n",
            "\u001b[?25l  Downloading https://files.pythonhosted.org/packages/50/f5/1894eb24102cae0e433c18366ec2a8d945b42cbf128303b67454db8587d8/PatternLite-3.6-py3-none-any.whl (22.1MB)\n",
            "\u001b[K     |████████████████████████████████| 22.1MB 72.1MB/s \n",
            "\u001b[?25hCollecting Pyphen>=0.9.5\n",
            "\u001b[?25l  Downloading https://files.pythonhosted.org/packages/15/82/08a3629dce8d1f3d91db843bb36d4d7db6b6269d5067259613a0d5c8a9db/Pyphen-0.9.5-py2.py3-none-any.whl (3.0MB)\n",
            "\u001b[K     |████████████████████████████████| 3.0MB 29.9MB/s \n",
            "\u001b[?25hRequirement already satisfied: python-dateutil>=2.6.1 in /usr/local/lib/python3.6/dist-packages (from pandas>=0.25.0->tmtoolkit) (2.6.1)\n",
            "Requirement already satisfied: pytz>=2017.2 in /usr/local/lib/python3.6/dist-packages (from pandas>=0.25.0->tmtoolkit) (2018.9)\n",
            "Requirement already satisfied: cycler>=0.10 in /usr/local/lib/python3.6/dist-packages (from matplotlib>=3.1.0->tmtoolkit) (0.10.0)\n",
            "Requirement already satisfied: kiwisolver>=1.0.1 in /usr/local/lib/python3.6/dist-packages (from matplotlib>=3.1.0->tmtoolkit) (1.1.0)\n",
            "Requirement already satisfied: pyparsing!=2.0.4,!=2.1.2,!=2.1.6,>=2.0.1 in /usr/local/lib/python3.6/dist-packages (from matplotlib>=3.1.0->tmtoolkit) (2.4.6)\n",
            "Requirement already satisfied: setuptools in /usr/local/lib/python3.6/dist-packages (from kiwisolver>=1.0.1->matplotlib>=3.1.0->tmtoolkit) (45.1.0)\n",
            "Building wheels for collected packages: nltk, globre\n",
            "  Building wheel for nltk (setup.py) ... \u001b[?25l\u001b[?25hdone\n",
            "  Created wheel for nltk: filename=nltk-3.4.5-cp36-none-any.whl size=1449906 sha256=d1cc27f7504a02a1c9c1ba6503cf590b2e14cf34c6953b15803f490d1b093ff2\n",
            "  Stored in directory: /root/.cache/pip/wheels/96/86/f6/68ab24c23f207c0077381a5e3904b2815136b879538a24b483\n",
            "  Building wheel for globre (setup.py) ... \u001b[?25l\u001b[?25hdone\n",
            "  Created wheel for globre: filename=globre-0.1.5-cp36-none-any.whl size=19528 sha256=358e0330a71179b036e81b95f170e2ca1e47da47bbc03346afb5cfc1676f5ead\n",
            "  Stored in directory: /root/.cache/pip/wheels/c4/3f/7f/be546f6d880521a8a7a1fe84cbe135fa859be63084682d3292\n",
            "Successfully built nltk globre\n",
            "Installing collected packages: deprecation, nltk, PatternLite, Pyphen, germalemma, globre, xlrd, tmtoolkit\n",
            "  Found existing installation: nltk 3.2.5\n",
            "    Uninstalling nltk-3.2.5:\n",
            "      Successfully uninstalled nltk-3.2.5\n",
            "  Found existing installation: xlrd 1.1.0\n",
            "    Uninstalling xlrd-1.1.0:\n",
            "      Successfully uninstalled xlrd-1.1.0\n",
            "Successfully installed PatternLite-3.6 Pyphen-0.9.5 deprecation-2.0.7 germalemma-0.1.3 globre-0.1.5 nltk-3.4.5 tmtoolkit-0.9.0 xlrd-1.2.0\n"
          ],
          "name": "stdout"
        },
        {
          "output_type": "stream",
          "text": [
            "[nltk_data] Downloading package stopwords to /root/nltk_data...\n",
            "[nltk_data]   Unzipping corpora/stopwords.zip.\n",
            "[nltk_data] Downloading package punkt to /root/nltk_data...\n",
            "[nltk_data]   Unzipping tokenizers/punkt.zip.\n",
            "[nltk_data] Downloading package averaged_perceptron_tagger to\n",
            "[nltk_data]     /root/nltk_data...\n",
            "[nltk_data]   Unzipping taggers/averaged_perceptron_tagger.zip.\n",
            "[nltk_data] Downloading package wordnet to /root/nltk_data...\n",
            "[nltk_data]   Unzipping corpora/wordnet.zip.\n"
          ],
          "name": "stderr"
        },
        {
          "output_type": "execute_result",
          "data": {
            "text/plain": [
              "True"
            ]
          },
          "metadata": {
            "tags": []
          },
          "execution_count": 4
        }
      ]
    },
    {
      "cell_type": "code",
      "metadata": {
        "id": "S3F6WiKklZrv",
        "colab_type": "code",
        "colab": {}
      },
      "source": [
        "import random\n",
        "random.seed(20191120) # to make the sampling reproducible\n",
        "np.set_printoptions(precision=5)\n",
        "from tmtoolkit.corpus import Corpus\n",
        "corpus = Corpus()\n",
        "\n",
        "# add documents to corpus\n",
        "for key in barbellsdict:\n",
        "  corpus.add_doc(str(key), barbellsdict[key])"
      ],
      "execution_count": 0,
      "outputs": []
    },
    {
      "cell_type": "code",
      "metadata": {
        "id": "6snYyM82or8r",
        "colab_type": "code",
        "outputId": "5d15329f-503f-49ee-b7e9-4566e89037b8",
        "colab": {
          "base_uri": "https://localhost:8080/",
          "height": 57
        }
      },
      "source": [
        "print(len(corpus))\n",
        "corpus.doc_labels\n",
        "corpus['91']"
      ],
      "execution_count": 0,
      "outputs": [
        {
          "output_type": "stream",
          "text": [
            "27081\n"
          ],
          "name": "stdout"
        },
        {
          "output_type": "execute_result",
          "data": {
            "text/plain": [
              "'comfy shoe for casual wear on sore feet. but I do recommend wearing socks as the massage points can hurt a lot if you have soft feet (as i do). Also, this was the best price I had ever seen for these and it was a dramatic difference'"
            ]
          },
          "metadata": {
            "tags": []
          },
          "execution_count": 6
        }
      ]
    },
    {
      "cell_type": "code",
      "metadata": {
        "id": "8XC5EGelporA",
        "colab_type": "code",
        "outputId": "e6b79e20-d714-4e5f-98b5-888eb3c25095",
        "colab": {
          "base_uri": "https://localhost:8080/",
          "height": 365
        }
      },
      "source": [
        "import matplotlib\n",
        "matplotlib.pyplot.hist(corpus.doc_lengths.values()) "
      ],
      "execution_count": 0,
      "outputs": [
        {
          "output_type": "execute_result",
          "data": {
            "text/plain": [
              "(array([2.6547e+04, 4.7900e+02, 3.9000e+01, 1.1000e+01, 2.0000e+00,\n",
              "        1.0000e+00, 1.0000e+00, 0.0000e+00, 0.0000e+00, 1.0000e+00]),\n",
              " array([    0. ,  1024.1,  2048.2,  3072.3,  4096.4,  5120.5,  6144.6,\n",
              "         7168.7,  8192.8,  9216.9, 10241. ]),\n",
              " <a list of 10 Patch objects>)"
            ]
          },
          "metadata": {
            "tags": []
          },
          "execution_count": 7
        },
        {
          "output_type": "display_data",
          "data": {
            "image/png": "[encoded data removed]",
            "text/plain": [
              "<Figure size 432x288 with 1 Axes>"
            ]
          },
          "metadata": {
            "tags": []
          }
        }
      ]
    },
    {
      "cell_type": "code",
      "metadata": {
        "id": "iK2ndUIGqGgU",
        "colab_type": "code",
        "outputId": "bbdb69b0-5244-4b3c-c4fb-f7360f53f71d",
        "colab": {
          "base_uri": "https://localhost:8080/",
          "height": 37
        }
      },
      "source": [
        "# https://tmtoolkit.readthedocs.io/en/latest/preprocessing.html\n",
        "from tmtoolkit.preprocess import TMPreproc\n",
        "\n",
        "preproc = TMPreproc(corpus)\n",
        "preproc.pos_tag()\n",
        "preproc.lemmatize()\n",
        "preproc.tokens_to_lowercase()\n",
        "preproc.remove_special_chars_in_tokens()\n",
        "preproc.add_stopwords(['http','nt'])"
      ],
      "execution_count": 0,
      "outputs": [
        {
          "output_type": "execute_result",
          "data": {
            "text/plain": [
              "<TMPreproc [27081 documents]>"
            ]
          },
          "metadata": {
            "tags": []
          },
          "execution_count": 8
        }
      ]
    },
    {
      "cell_type": "code",
      "metadata": {
        "id": "jhy-cTvrrSby",
        "colab_type": "code",
        "outputId": "56055d0a-7f94-4acd-d0cf-d5afae7bd0dc",
        "colab": {
          "base_uri": "https://localhost:8080/",
          "height": 37
        }
      },
      "source": [
        "corpus['91']"
      ],
      "execution_count": 0,
      "outputs": [
        {
          "output_type": "execute_result",
          "data": {
            "text/plain": [
              "'comfy shoe for casual wear on sore feet. but I do recommend wearing socks as the massage points can hurt a lot if you have soft feet (as i do). Also, this was the best price I had ever seen for these and it was a dramatic difference'"
            ]
          },
          "metadata": {
            "tags": []
          },
          "execution_count": 9
        }
      ]
    },
    {
      "cell_type": "code",
      "metadata": {
        "id": "CWzRPUV2sNO9",
        "colab_type": "code",
        "outputId": "71c2e46e-af0a-4948-9900-489ce01f4368",
        "colab": {
          "base_uri": "https://localhost:8080/",
          "height": 1000
        }
      },
      "source": [
        "preproc.tokens['91']"
      ],
      "execution_count": 0,
      "outputs": [
        {
          "output_type": "execute_result",
          "data": {
            "text/plain": [
              "['comfy',\n",
              " 'shoe',\n",
              " 'for',\n",
              " 'casual',\n",
              " 'wear',\n",
              " 'on',\n",
              " 'sore',\n",
              " 'foot',\n",
              " '',\n",
              " 'but',\n",
              " 'i',\n",
              " 'do',\n",
              " 'recommend',\n",
              " 'wear',\n",
              " 'sock',\n",
              " 'as',\n",
              " 'the',\n",
              " 'massage',\n",
              " 'point',\n",
              " 'can',\n",
              " 'hurt',\n",
              " 'a',\n",
              " 'lot',\n",
              " 'if',\n",
              " 'you',\n",
              " 'have',\n",
              " 'soft',\n",
              " 'foot',\n",
              " '',\n",
              " 'as',\n",
              " 'i',\n",
              " 'do',\n",
              " '',\n",
              " '',\n",
              " 'also',\n",
              " '',\n",
              " 'this',\n",
              " 'be',\n",
              " 'the',\n",
              " 'best',\n",
              " 'price',\n",
              " 'i',\n",
              " 'have',\n",
              " 'ever',\n",
              " 'see',\n",
              " 'for',\n",
              " 'these',\n",
              " 'and',\n",
              " 'it',\n",
              " 'be',\n",
              " 'a',\n",
              " 'dramatic',\n",
              " 'difference']"
            ]
          },
          "metadata": {
            "tags": []
          },
          "execution_count": 10
        }
      ]
    },
    {
      "cell_type": "code",
      "metadata": {
        "id": "dqnuPfQsthpN",
        "colab_type": "code",
        "outputId": "7af86c19-baec-4f7c-c454-9085c59f99c0",
        "colab": {
          "base_uri": "https://localhost:8080/",
          "height": 37
        }
      },
      "source": [
        "preproc.vocabulary_size"
      ],
      "execution_count": 0,
      "outputs": [
        {
          "output_type": "execute_result",
          "data": {
            "text/plain": [
              "28950"
            ]
          },
          "metadata": {
            "tags": []
          },
          "execution_count": 11
        }
      ]
    },
    {
      "cell_type": "code",
      "metadata": {
        "id": "h1vLjOuKtlHv",
        "colab_type": "code",
        "colab": {}
      },
      "source": [
        "#preproc.stem()"
      ],
      "execution_count": 0,
      "outputs": []
    },
    {
      "cell_type": "code",
      "metadata": {
        "id": "Tn94Xq95tp9t",
        "colab_type": "code",
        "outputId": "b0af1bf9-eb16-4712-a500-b0908536ece6",
        "colab": {
          "base_uri": "https://localhost:8080/",
          "height": 1000
        }
      },
      "source": [
        "preproc.tokens['91']"
      ],
      "execution_count": 0,
      "outputs": [
        {
          "output_type": "execute_result",
          "data": {
            "text/plain": [
              "['comfy',\n",
              " 'shoe',\n",
              " 'for',\n",
              " 'casual',\n",
              " 'wear',\n",
              " 'on',\n",
              " 'sore',\n",
              " 'foot',\n",
              " '',\n",
              " 'but',\n",
              " 'i',\n",
              " 'do',\n",
              " 'recommend',\n",
              " 'wear',\n",
              " 'sock',\n",
              " 'as',\n",
              " 'the',\n",
              " 'massage',\n",
              " 'point',\n",
              " 'can',\n",
              " 'hurt',\n",
              " 'a',\n",
              " 'lot',\n",
              " 'if',\n",
              " 'you',\n",
              " 'have',\n",
              " 'soft',\n",
              " 'foot',\n",
              " '',\n",
              " 'as',\n",
              " 'i',\n",
              " 'do',\n",
              " '',\n",
              " '',\n",
              " 'also',\n",
              " '',\n",
              " 'this',\n",
              " 'be',\n",
              " 'the',\n",
              " 'best',\n",
              " 'price',\n",
              " 'i',\n",
              " 'have',\n",
              " 'ever',\n",
              " 'see',\n",
              " 'for',\n",
              " 'these',\n",
              " 'and',\n",
              " 'it',\n",
              " 'be',\n",
              " 'a',\n",
              " 'dramatic',\n",
              " 'difference']"
            ]
          },
          "metadata": {
            "tags": []
          },
          "execution_count": 13
        }
      ]
    },
    {
      "cell_type": "code",
      "metadata": {
        "id": "CFE3mZzouhoM",
        "colab_type": "code",
        "outputId": "a7e5f8e8-97b2-47c1-e2a0-4d5e7a1068b5",
        "colab": {
          "base_uri": "https://localhost:8080/",
          "height": 433
        }
      },
      "source": [
        "preproc.tokens_datatable"
      ],
      "execution_count": 0,
      "outputs": [
        {
          "output_type": "execute_result",
          "data": {
            "text/html": [
              "<div>\n",
              "<style scoped>\n",
              "    .dataframe tbody tr th:only-of-type {\n",
              "        vertical-align: middle;\n",
              "    }\n",
              "\n",
              "    .dataframe tbody tr th {\n",
              "        vertical-align: top;\n",
              "    }\n",
              "\n",
              "    .dataframe thead th {\n",
              "        text-align: right;\n",
              "    }\n",
              "</style>\n",
              "<table border=\"1\" class=\"dataframe\">\n",
              "  <thead>\n",
              "    <tr style=\"text-align: right;\">\n",
              "      <th></th>\n",
              "      <th>doc</th>\n",
              "      <th>position</th>\n",
              "      <th>token</th>\n",
              "      <th>meta_pos</th>\n",
              "    </tr>\n",
              "  </thead>\n",
              "  <tbody>\n",
              "    <tr>\n",
              "      <th>0</th>\n",
              "      <td>0</td>\n",
              "      <td>0</td>\n",
              "      <td>a</td>\n",
              "      <td>DT</td>\n",
              "    </tr>\n",
              "    <tr>\n",
              "      <th>1</th>\n",
              "      <td>0</td>\n",
              "      <td>1</td>\n",
              "      <td>great</td>\n",
              "      <td>JJ</td>\n",
              "    </tr>\n",
              "    <tr>\n",
              "      <th>2</th>\n",
              "      <td>0</td>\n",
              "      <td>2</td>\n",
              "      <td>shoe</td>\n",
              "      <td>NN</td>\n",
              "    </tr>\n",
              "    <tr>\n",
              "      <th>3</th>\n",
              "      <td>0</td>\n",
              "      <td>3</td>\n",
              "      <td></td>\n",
              "      <td>.</td>\n",
              "    </tr>\n",
              "    <tr>\n",
              "      <th>4</th>\n",
              "      <td>0</td>\n",
              "      <td>4</td>\n",
              "      <td>does</td>\n",
              "      <td>VBZ</td>\n",
              "    </tr>\n",
              "    <tr>\n",
              "      <th>...</th>\n",
              "      <td>...</td>\n",
              "      <td>...</td>\n",
              "      <td>...</td>\n",
              "      <td>...</td>\n",
              "    </tr>\n",
              "    <tr>\n",
              "      <th>20</th>\n",
              "      <td>9999</td>\n",
              "      <td>20</td>\n",
              "      <td>i</td>\n",
              "      <td>PRP</td>\n",
              "    </tr>\n",
              "    <tr>\n",
              "      <th>21</th>\n",
              "      <td>9999</td>\n",
              "      <td>21</td>\n",
              "      <td>d</td>\n",
              "      <td>MD</td>\n",
              "    </tr>\n",
              "    <tr>\n",
              "      <th>22</th>\n",
              "      <td>9999</td>\n",
              "      <td>22</td>\n",
              "      <td>recommend</td>\n",
              "      <td>VB</td>\n",
              "    </tr>\n",
              "    <tr>\n",
              "      <th>23</th>\n",
              "      <td>9999</td>\n",
              "      <td>23</td>\n",
              "      <td>it</td>\n",
              "      <td>PRP</td>\n",
              "    </tr>\n",
              "    <tr>\n",
              "      <th>24</th>\n",
              "      <td>9999</td>\n",
              "      <td>24</td>\n",
              "      <td></td>\n",
              "      <td>.</td>\n",
              "    </tr>\n",
              "  </tbody>\n",
              "</table>\n",
              "<p>1527310 rows × 4 columns</p>\n",
              "</div>"
            ],
            "text/plain": [
              "     doc  position      token meta_pos\n",
              "0      0         0          a       DT\n",
              "1      0         1      great       JJ\n",
              "2      0         2       shoe       NN\n",
              "3      0         3                   .\n",
              "4      0         4       does      VBZ\n",
              "..   ...       ...        ...      ...\n",
              "20  9999        20          i      PRP\n",
              "21  9999        21          d       MD\n",
              "22  9999        22  recommend       VB\n",
              "23  9999        23         it      PRP\n",
              "24  9999        24                   .\n",
              "\n",
              "[1527310 rows x 4 columns]"
            ]
          },
          "metadata": {
            "tags": []
          },
          "execution_count": 14
        }
      ]
    },
    {
      "cell_type": "code",
      "metadata": {
        "id": "kE41te-GvEPf",
        "colab_type": "code",
        "outputId": "c2f66c0d-331d-4427-88b2-7b8e5c51b436",
        "colab": {
          "base_uri": "https://localhost:8080/",
          "height": 57
        }
      },
      "source": [
        "preproc_smaller = preproc.copy()\n",
        "preproc_smaller.filter_for_pos('N')\n",
        "preproc_smaller.clean_tokens(remove_numbers = True, remove_shorter_than = 2)\n",
        "preproc_smaller.remove_common_tokens(df_threshold = 1)\n",
        "#preproc_smaller.remove_uncommon_tokens(df_threshold = 0.005)\n",
        "\n",
        "print(preproc.vocabulary_size)\n",
        "print(preproc_smaller.vocabulary_size)"
      ],
      "execution_count": 0,
      "outputs": [
        {
          "output_type": "stream",
          "text": [
            "28950\n",
            "18303\n"
          ],
          "name": "stdout"
        }
      ]
    },
    {
      "cell_type": "code",
      "metadata": {
        "id": "Px5Z4vAH5Z_e",
        "colab_type": "code",
        "outputId": "315882f7-463f-46e0-d734-0dd6a9910c7c",
        "colab": {
          "base_uri": "https://localhost:8080/",
          "height": 913
        }
      },
      "source": [
        "preproc_smaller.tokens_dataframe"
      ],
      "execution_count": 0,
      "outputs": [
        {
          "output_type": "execute_result",
          "data": {
            "text/html": [
              "<div>\n",
              "<style scoped>\n",
              "    .dataframe tbody tr th:only-of-type {\n",
              "        vertical-align: middle;\n",
              "    }\n",
              "\n",
              "    .dataframe tbody tr th {\n",
              "        vertical-align: top;\n",
              "    }\n",
              "\n",
              "    .dataframe thead th {\n",
              "        text-align: right;\n",
              "    }\n",
              "</style>\n",
              "<table border=\"1\" class=\"dataframe\">\n",
              "  <thead>\n",
              "    <tr style=\"text-align: right;\">\n",
              "      <th></th>\n",
              "      <th></th>\n",
              "      <th>token</th>\n",
              "      <th>meta_pos</th>\n",
              "    </tr>\n",
              "    <tr>\n",
              "      <th>doc</th>\n",
              "      <th>position</th>\n",
              "      <th></th>\n",
              "      <th></th>\n",
              "    </tr>\n",
              "  </thead>\n",
              "  <tbody>\n",
              "    <tr>\n",
              "      <th rowspan=\"4\" valign=\"top\">0</th>\n",
              "      <th>0</th>\n",
              "      <td>shoe</td>\n",
              "      <td>NN</td>\n",
              "    </tr>\n",
              "    <tr>\n",
              "      <th>1</th>\n",
              "      <td>lot</td>\n",
              "      <td>NN</td>\n",
              "    </tr>\n",
              "    <tr>\n",
              "      <th>2</th>\n",
              "      <td>really</td>\n",
              "      <td>NNP</td>\n",
              "    </tr>\n",
              "    <tr>\n",
              "      <th>3</th>\n",
              "      <td>style</td>\n",
              "      <td>NN</td>\n",
              "    </tr>\n",
              "    <tr>\n",
              "      <th>1</th>\n",
              "      <th>0</th>\n",
              "      <td>pair</td>\n",
              "      <td>NNS</td>\n",
              "    </tr>\n",
              "    <tr>\n",
              "      <th>...</th>\n",
              "      <th>...</th>\n",
              "      <td>...</td>\n",
              "      <td>...</td>\n",
              "    </tr>\n",
              "    <tr>\n",
              "      <th rowspan=\"3\" valign=\"top\">9998</th>\n",
              "      <th>5</th>\n",
              "      <td>floor</td>\n",
              "      <td>NNS</td>\n",
              "    </tr>\n",
              "    <tr>\n",
              "      <th>6</th>\n",
              "      <td>killer</td>\n",
              "      <td>NN</td>\n",
              "    </tr>\n",
              "    <tr>\n",
              "      <th>7</th>\n",
              "      <td>floor</td>\n",
              "      <td>NNS</td>\n",
              "    </tr>\n",
              "    <tr>\n",
              "      <th rowspan=\"2\" valign=\"top\">9999</th>\n",
              "      <th>0</th>\n",
              "      <td>water</td>\n",
              "      <td>NN</td>\n",
              "    </tr>\n",
              "    <tr>\n",
              "      <th>1</th>\n",
              "      <td>proof</td>\n",
              "      <td>NN</td>\n",
              "    </tr>\n",
              "  </tbody>\n",
              "</table>\n",
              "<p>289349 rows × 2 columns</p>\n",
              "</div>"
            ],
            "text/plain": [
              "                token meta_pos\n",
              "doc  position                 \n",
              "0    0           shoe       NN\n",
              "     1            lot       NN\n",
              "     2         really      NNP\n",
              "     3          style       NN\n",
              "1    0           pair      NNS\n",
              "...               ...      ...\n",
              "9998 5          floor      NNS\n",
              "     6         killer       NN\n",
              "     7          floor      NNS\n",
              "9999 0          water       NN\n",
              "     1          proof       NN\n",
              "\n",
              "[289349 rows x 2 columns]"
            ]
          },
          "metadata": {
            "tags": []
          },
          "execution_count": 51
        },
        {
          "output_type": "execute_result",
          "data": {
            "text/html": [
              "<div>\n",
              "<style scoped>\n",
              "    .dataframe tbody tr th:only-of-type {\n",
              "        vertical-align: middle;\n",
              "    }\n",
              "\n",
              "    .dataframe tbody tr th {\n",
              "        vertical-align: top;\n",
              "    }\n",
              "\n",
              "    .dataframe thead th {\n",
              "        text-align: right;\n",
              "    }\n",
              "</style>\n",
              "<table border=\"1\" class=\"dataframe\">\n",
              "  <thead>\n",
              "    <tr style=\"text-align: right;\">\n",
              "      <th></th>\n",
              "      <th></th>\n",
              "      <th>token</th>\n",
              "      <th>meta_pos</th>\n",
              "    </tr>\n",
              "    <tr>\n",
              "      <th>doc</th>\n",
              "      <th>position</th>\n",
              "      <th></th>\n",
              "      <th></th>\n",
              "    </tr>\n",
              "  </thead>\n",
              "  <tbody>\n",
              "    <tr>\n",
              "      <th rowspan=\"4\" valign=\"top\">0</th>\n",
              "      <th>0</th>\n",
              "      <td>shoe</td>\n",
              "      <td>NN</td>\n",
              "    </tr>\n",
              "    <tr>\n",
              "      <th>1</th>\n",
              "      <td>lot</td>\n",
              "      <td>NN</td>\n",
              "    </tr>\n",
              "    <tr>\n",
              "      <th>2</th>\n",
              "      <td>really</td>\n",
              "      <td>NNP</td>\n",
              "    </tr>\n",
              "    <tr>\n",
              "      <th>3</th>\n",
              "      <td>style</td>\n",
              "      <td>NN</td>\n",
              "    </tr>\n",
              "    <tr>\n",
              "      <th>1</th>\n",
              "      <th>0</th>\n",
              "      <td>pair</td>\n",
              "      <td>NNS</td>\n",
              "    </tr>\n",
              "    <tr>\n",
              "      <th>...</th>\n",
              "      <th>...</th>\n",
              "      <td>...</td>\n",
              "      <td>...</td>\n",
              "    </tr>\n",
              "    <tr>\n",
              "      <th rowspan=\"3\" valign=\"top\">9998</th>\n",
              "      <th>5</th>\n",
              "      <td>floor</td>\n",
              "      <td>NNS</td>\n",
              "    </tr>\n",
              "    <tr>\n",
              "      <th>6</th>\n",
              "      <td>killer</td>\n",
              "      <td>NN</td>\n",
              "    </tr>\n",
              "    <tr>\n",
              "      <th>7</th>\n",
              "      <td>floor</td>\n",
              "      <td>NNS</td>\n",
              "    </tr>\n",
              "    <tr>\n",
              "      <th rowspan=\"2\" valign=\"top\">9999</th>\n",
              "      <th>0</th>\n",
              "      <td>water</td>\n",
              "      <td>NN</td>\n",
              "    </tr>\n",
              "    <tr>\n",
              "      <th>1</th>\n",
              "      <td>proof</td>\n",
              "      <td>NN</td>\n",
              "    </tr>\n",
              "  </tbody>\n",
              "</table>\n",
              "<p>289349 rows × 2 columns</p>\n",
              "</div>"
            ],
            "text/plain": [
              "                token meta_pos\n",
              "doc  position                 \n",
              "0    0           shoe       NN\n",
              "     1            lot       NN\n",
              "     2         really      NNP\n",
              "     3          style       NN\n",
              "1    0           pair      NNS\n",
              "...               ...      ...\n",
              "9998 5          floor      NNS\n",
              "     6         killer       NN\n",
              "     7          floor      NNS\n",
              "9999 0          water       NN\n",
              "     1          proof       NN\n",
              "\n",
              "[289349 rows x 2 columns]"
            ]
          },
          "metadata": {
            "tags": []
          },
          "execution_count": 52
        }
      ]
    },
    {
      "cell_type": "code",
      "metadata": {
        "id": "Ffoi_2hxxcks",
        "colab_type": "code",
        "outputId": "1449b529-bef1-48eb-a4c0-03d303a74457",
        "colab": {
          "base_uri": "https://localhost:8080/",
          "height": 157
        }
      },
      "source": [
        "print(preproc.tokens['91'])\n",
        "print(preproc_smaller.tokens['91'])\n",
        "print(preproc.tokens['1'])\n",
        "print(preproc_smaller.tokens['1'])\n",
        "print(preproc.tokens['2000'])\n",
        "print(preproc_smaller.tokens['2000'])"
      ],
      "execution_count": 0,
      "outputs": [
        {
          "output_type": "stream",
          "text": [
            "['comfy', 'shoe', 'for', 'casual', 'wear', 'on', 'sore', 'foot', '', 'but', 'i', 'do', 'recommend', 'wear', 'sock', 'as', 'the', 'massage', 'point', 'can', 'hurt', 'a', 'lot', 'if', 'you', 'have', 'soft', 'foot', '', 'as', 'i', 'do', '', '', 'also', '', 'this', 'be', 'the', 'best', 'price', 'i', 'have', 'ever', 'see', 'for', 'these', 'and', 'it', 'be', 'a', 'dramatic', 'difference']\n",
            "['comfy', 'shoe', 'wear', 'sore', 'foot', 'sock', 'massage', 'point', 'lot', 'foot', 'price', 'difference']\n",
            "['i', 'have', '4', 'pair', 'of', 'these', 'shoe', 'and', 'i', 'love', 'them', 'to', 'death', '', 'they', 'be', 'as', 'close', 'to', 'indestructable', 'as', 'any', 'shoe', 'i', 've', 'ever', 'own', '', 'then', 'you', 're', 'probably', 'ask', 'why', 'i', 'have', 'so', 'many', '', 'well', '', 'the', 'answer', 'be', 'that', 'this', 'be', 'the', 'only', 'shoe', 'i', 'know', 'of', 'that', 'come', 'in', 'so', 'many', 'color', '', 'i', 've', 'see', 'at', 'least', '7', 'or', '8', 'color', '', 'and', 'work', 'with', 'just', 'about', 'everything', 'in', 'your', 'wardrobe', '', 'jeans', '', 'khakis', '', 'whatever', 'they', 'work', '', 'and', 'i', 'love', 'em', '', '', '']\n",
            "['pair', 'shoe', 'death', 'shoe', 'well', 'answer', 'shoe', 'color', 'color', 'everything', 'wardrobe', 'jeans']\n",
            "['these', 'sandal', 'be', 'very', 'comfortable', 'and', 'seem', 'well', 'build', '', 'the', 'rubberplastic', 'be', 'thick', 'and', 'soft', '', 'also', 'an', 'added', 'benefit', 'of', 'a', 'massage', 'while', 'you', 'walk', '', 'worth', 'a', 'purchase', '']\n",
            "['sandal', 'benefit', 'massage', 'purchase']\n"
          ],
          "name": "stdout"
        }
      ]
    },
    {
      "cell_type": "code",
      "metadata": {
        "id": "BUziT5ftzVhz",
        "colab_type": "code",
        "outputId": "f74bada8-d5b7-401a-b4c2-afc7420eeda9",
        "colab": {
          "base_uri": "https://localhost:8080/",
          "height": 57
        }
      },
      "source": [
        "doc_labels = np.array(preproc.doc_labels)\n",
        "doc_labels[:10]"
      ],
      "execution_count": 0,
      "outputs": [
        {
          "output_type": "execute_result",
          "data": {
            "text/plain": [
              "array(['0', '1', '10', '100', '1000', '10000', '10001', '10002', '10003',\n",
              "       '10004'], dtype='<U5')"
            ]
          },
          "metadata": {
            "tags": []
          },
          "execution_count": 54
        }
      ]
    },
    {
      "cell_type": "code",
      "metadata": {
        "id": "3Z_PNqqPzdYm",
        "colab_type": "code",
        "colab": {}
      },
      "source": [
        "vocab_bg = np.array(preproc.vocabulary)\n",
        "vocab_sm = np.array(preproc_smaller.vocabulary)"
      ],
      "execution_count": 0,
      "outputs": []
    },
    {
      "cell_type": "code",
      "metadata": {
        "colab_type": "code",
        "outputId": "80cd1011-5175-43de-aebd-b7bcb09ff918",
        "id": "IPbjRQ7R0l7Q",
        "colab": {
          "base_uri": "https://localhost:8080/",
          "height": 97
        }
      },
      "source": [
        "dtm_bg = preproc.dtm # dtm - document term matrix\n",
        "dtm_sm = preproc_smaller.dtm\n",
        "\n",
        "dtm_bg, dtm_sm"
      ],
      "execution_count": 0,
      "outputs": [
        {
          "output_type": "execute_result",
          "data": {
            "text/plain": [
              "(<27081x28950 sparse matrix of type '<class 'numpy.int32'>'\n",
              " \twith 1018872 stored elements in Compressed Sparse Row format>,\n",
              " <27081x18303 sparse matrix of type '<class 'numpy.int32'>'\n",
              " \twith 246482 stored elements in Compressed Sparse Row format>)"
            ]
          },
          "metadata": {
            "tags": []
          },
          "execution_count": 56
        }
      ]
    },
    {
      "cell_type": "markdown",
      "metadata": {
        "id": "edt0nce8a_rR",
        "colab_type": "text"
      },
      "source": [
        "# **Creating Models**"
      ]
    },
    {
      "cell_type": "code",
      "metadata": {
        "id": "Jgvs09X8f70a",
        "colab_type": "code",
        "outputId": "877721b8-1fcd-4665-ec34-08ca85a59e8f",
        "colab": {
          "base_uri": "https://localhost:8080/",
          "height": 457
        }
      },
      "source": [
        "!pip install tmtoolkit['lda']\n",
        "import logging\n",
        "import warnings\n",
        "from tmtoolkit.topicmod.tm_lda import compute_models_parallel"
      ],
      "execution_count": 0,
      "outputs": [
        {
          "output_type": "stream",
          "text": [
            "Requirement already satisfied: tmtoolkit[lda] in /usr/local/lib/python3.6/dist-packages (0.9.0)\n",
            "Requirement already satisfied: numpy>=1.17.0 in /usr/local/lib/python3.6/dist-packages (from tmtoolkit[lda]) (1.17.5)\n",
            "Requirement already satisfied: globre>=0.1.5 in /usr/local/lib/python3.6/dist-packages (from tmtoolkit[lda]) (0.1.5)\n",
            "Requirement already satisfied: germalemma>=0.1.3 in /usr/local/lib/python3.6/dist-packages (from tmtoolkit[lda]) (0.1.3)\n",
            "Requirement already satisfied: matplotlib>=3.1.0 in /usr/local/lib/python3.6/dist-packages (from tmtoolkit[lda]) (3.1.3)\n",
            "Requirement already satisfied: deprecation>=2.0.0 in /usr/local/lib/python3.6/dist-packages (from tmtoolkit[lda]) (2.0.7)\n",
            "Requirement already satisfied: nltk>=3.4.0 in /usr/local/lib/python3.6/dist-packages (from tmtoolkit[lda]) (3.4.5)\n",
            "Requirement already satisfied: pandas>=0.25.0 in /usr/local/lib/python3.6/dist-packages (from tmtoolkit[lda]) (0.25.3)\n",
            "Requirement already satisfied: xlrd>=1.2.0 in /usr/local/lib/python3.6/dist-packages (from tmtoolkit[lda]) (1.2.0)\n",
            "Requirement already satisfied: scipy>=1.3.0 in /usr/local/lib/python3.6/dist-packages (from tmtoolkit[lda]) (1.4.1)\n",
            "Requirement already satisfied: lda>=1.1.0; extra == \"lda\" in /usr/local/lib/python3.6/dist-packages (from tmtoolkit[lda]) (1.1.0)\n",
            "Requirement already satisfied: PatternLite>=3.6 in /usr/local/lib/python3.6/dist-packages (from germalemma>=0.1.3->tmtoolkit[lda]) (3.6)\n",
            "Requirement already satisfied: Pyphen>=0.9.5 in /usr/local/lib/python3.6/dist-packages (from germalemma>=0.1.3->tmtoolkit[lda]) (0.9.5)\n",
            "Requirement already satisfied: cycler>=0.10 in /usr/local/lib/python3.6/dist-packages (from matplotlib>=3.1.0->tmtoolkit[lda]) (0.10.0)\n",
            "Requirement already satisfied: pyparsing!=2.0.4,!=2.1.2,!=2.1.6,>=2.0.1 in /usr/local/lib/python3.6/dist-packages (from matplotlib>=3.1.0->tmtoolkit[lda]) (2.4.6)\n",
            "Requirement already satisfied: python-dateutil>=2.1 in /usr/local/lib/python3.6/dist-packages (from matplotlib>=3.1.0->tmtoolkit[lda]) (2.6.1)\n",
            "Requirement already satisfied: kiwisolver>=1.0.1 in /usr/local/lib/python3.6/dist-packages (from matplotlib>=3.1.0->tmtoolkit[lda]) (1.1.0)\n",
            "Requirement already satisfied: packaging in /usr/local/lib/python3.6/dist-packages (from deprecation>=2.0.0->tmtoolkit[lda]) (20.1)\n",
            "Requirement already satisfied: six in /usr/local/lib/python3.6/dist-packages (from nltk>=3.4.0->tmtoolkit[lda]) (1.12.0)\n",
            "Requirement already satisfied: pytz>=2017.2 in /usr/local/lib/python3.6/dist-packages (from pandas>=0.25.0->tmtoolkit[lda]) (2018.9)\n",
            "Requirement already satisfied: pbr<4,>=0.6 in /usr/local/lib/python3.6/dist-packages (from lda>=1.1.0; extra == \"lda\"->tmtoolkit[lda]) (3.1.1)\n",
            "Requirement already satisfied: setuptools in /usr/local/lib/python3.6/dist-packages (from kiwisolver>=1.0.1->matplotlib>=3.1.0->tmtoolkit[lda]) (45.1.0)\n"
          ],
          "name": "stdout"
        }
      ]
    },
    {
      "cell_type": "code",
      "metadata": {
        "id": "dF8s7IUIbFOx",
        "colab_type": "code",
        "colab": {}
      },
      "source": [
        "# suppress the \"INFO\" messages and warnings from Ida\n",
        "logger = logging.getLogger('lda')\n",
        "#logger.addHandler(logging.NullHandler())\n",
        "logger.addHandler(logging.NullHandler())\n",
        "logger.propagate = False\n",
        "\n",
        "warnings.filterwarnings('ignore')\n",
        "\n",
        "# set data to use\n",
        "dtms = {\n",
        "    'bigger': dtm_bg,\n",
        "    'smaller': dtm_sm\n",
        "}\n",
        "\n",
        "# and fixed hyperparameters\n",
        "lda_params = {\n",
        "    'n_topics': 51,\n",
        "    'eta': .01,  #beta parameter\n",
        "    'n_iter': 1000,\n",
        "    'random_state': 20191122  #to make resutls reproducible\n",
        "}\n"
      ],
      "execution_count": 0,
      "outputs": []
    },
    {
      "cell_type": "code",
      "metadata": {
        "id": "gTY7YyQTgSzM",
        "colab_type": "code",
        "colab": {}
      },
      "source": [
        "models = compute_models_parallel(dtms, constant_parameters=lda_params)"
      ],
      "execution_count": 0,
      "outputs": []
    },
    {
      "cell_type": "code",
      "metadata": {
        "id": "C3mC6x3Vc7t8",
        "colab_type": "code",
        "outputId": "6dda3b6a-4c45-4397-a671-b984b32b5c21",
        "colab": {
          "base_uri": "https://localhost:8080/",
          "height": 1000
        }
      },
      "source": [
        "from tmtoolkit.topicmod.model_io import print_ldamodel_topic_words\n",
        "\n",
        "model_sm = models['smaller'][0][1]\n",
        "print_ldamodel_topic_words(model_sm.topic_word_, vocab_sm, top_n = 5)"
      ],
      "execution_count": 0,
      "outputs": [
        {
          "output_type": "stream",
          "text": [
            "topic_1\n",
            "> #1. pair (0.316686)\n",
            "> #2. year (0.125191)\n",
            "> #3. one (0.067658)\n",
            "> #4. time (0.039988)\n",
            "> #5. adidas (0.028009)\n",
            "topic_2\n",
            "> #1. size (0.435709)\n",
            "> #2. order (0.086319)\n",
            "> #3. shoe (0.073605)\n",
            "> #4. half (0.055696)\n",
            "> #5. review (0.044056)\n",
            "topic_3\n",
            "> #1. son (0.153636)\n",
            "> #2. year (0.081660)\n",
            "> #3. daughter (0.055537)\n",
            "> #4. kid (0.051335)\n",
            "> #5. school (0.050422)\n",
            "topic_4\n",
            "> #1. bag (0.149466)\n",
            "> #2. pocket (0.067312)\n",
            "> #3. gym (0.044300)\n",
            "> #4. backpack (0.033369)\n",
            "> #5. water (0.028421)\n",
            "topic_5\n",
            "> #1. pant (0.223038)\n",
            "> #2. size (0.038770)\n",
            "> #3. leg (0.036696)\n",
            "> #4. length (0.036058)\n",
            "> #5. medium (0.031750)\n",
            "topic_6\n",
            "> #1. cleat (0.109436)\n",
            "> #2. soccer (0.093683)\n",
            "> #3. ball (0.052289)\n",
            "> #4. turf (0.034692)\n",
            "> #5. leather (0.028156)\n",
            "topic_7\n",
            "> #1. product (0.218498)\n",
            "> #2. quality (0.084600)\n",
            "> #3. time (0.046344)\n",
            "> #4. item (0.034315)\n",
            "> #5. price (0.031357)\n",
            "topic_8\n",
            "> #1. shoe (0.317189)\n",
            "> #2. lot (0.089389)\n",
            "> #3. color (0.077379)\n",
            "> #4. compliment (0.057493)\n",
            "> #5. people (0.040364)\n",
            "topic_9\n",
            "> #1. shoe (0.304857)\n",
            "> #2. lace (0.080463)\n",
            "> #3. foot (0.066038)\n",
            "> #4. tongue (0.032699)\n",
            "> #5. time (0.029814)\n",
            "topic_10\n",
            "> #1. shirt (0.203933)\n",
            "> #2. fit (0.031363)\n",
            "> #3. material (0.030063)\n",
            "> #4. medium (0.024701)\n",
            "> #5. wash (0.024701)\n",
            "topic_11\n",
            "> #1. star (0.054954)\n",
            "> #2. review (0.050331)\n",
            "> #3. thing (0.029523)\n",
            "> #4. people (0.029523)\n",
            "> #5. reason (0.029345)\n",
            "topic_12\n",
            "> #1. color (0.211361)\n",
            "> #2. picture (0.072117)\n",
            "> #3. blue (0.047722)\n",
            "> #4. shoe (0.044517)\n",
            "> #5. pink (0.044517)\n",
            "topic_13\n",
            "> #1. bit (0.095063)\n",
            "> #2. material (0.059732)\n",
            "> #3. size (0.050168)\n",
            "> #4. quality (0.039432)\n",
            "> #5. adidas (0.036699)\n",
            "topic_14\n",
            "> #1. shoe (0.283235)\n",
            "> #2. golf (0.163155)\n",
            "> #3. course (0.052062)\n",
            "> #4. round (0.039047)\n",
            "> #5. foot (0.031145)\n",
            "topic_15\n",
            "> #1. month (0.111414)\n",
            "> #2. shoe (0.097997)\n",
            "> #3. wear (0.066577)\n",
            "> #4. time (0.065049)\n",
            "> #5. use (0.050953)\n",
            "topic_16\n",
            "> #1. short (0.124730)\n",
            "> #2. brief (0.039136)\n",
            "> #3. boxer (0.037137)\n",
            "> #4. material (0.025813)\n",
            "> #5. fit (0.023482)\n",
            "topic_17\n",
            "> #1. shoe (0.137735)\n",
            "> #2. mile (0.047736)\n",
            "> #3. run (0.037607)\n",
            "> #4. runner (0.035162)\n",
            "> #5. running (0.030854)\n",
            "topic_18\n",
            "> #1. gift (0.118095)\n",
            "> #2. husband (0.091735)\n",
            "> #3. son (0.061790)\n",
            "> #4. christmas (0.059049)\n",
            "> #5. bought (0.037750)\n",
            "topic_19\n",
            "> #1. day (0.183970)\n",
            "> #2. foot (0.120234)\n",
            "> #3. hour (0.048907)\n",
            "> #4. work (0.048201)\n",
            "> #5. week (0.041315)\n",
            "topic_20\n",
            "> #1. price (0.156733)\n",
            "> #2. great (0.125679)\n",
            "> #3. quality (0.120468)\n",
            "> #4. product (0.083786)\n",
            "> #5. color (0.041477)\n",
            "topic_21\n",
            "> #1. jacket (0.065966)\n",
            "> #2. weather (0.057372)\n",
            "> #3. summer (0.055653)\n",
            "> #4. day (0.029654)\n",
            "> #5. weight (0.029009)\n",
            "topic_22\n",
            "> #1. adidas (0.195712)\n",
            "> #2. model (0.090134)\n",
            "> #3. shoe (0.069963)\n",
            "> #4. year (0.049247)\n",
            "> #5. pair (0.049247)\n",
            "topic_23\n",
            "> #1. adidas (0.182851)\n",
            "> #2. brand (0.092797)\n",
            "> #3. quality (0.072828)\n",
            "> #4. product (0.051685)\n",
            "> #5. price (0.046008)\n",
            "topic_24\n",
            "> #1. boot (0.129905)\n",
            "> #2. foot (0.041864)\n",
            "> #3. adidas (0.034730)\n",
            "> #4. pair (0.024969)\n",
            "> #5. fit (0.021965)\n",
            "topic_25\n",
            "> #1. shoe (0.166546)\n",
            "> #2. foot (0.085899)\n",
            "> #3. heel (0.048273)\n",
            "> #4. toe (0.034273)\n",
            "> #5. blister (0.033398)\n",
            "topic_26\n",
            "> #1. sock (0.208777)\n",
            "> #2. foot (0.130873)\n",
            "> #3. bottom (0.030738)\n",
            "> #4. way (0.028612)\n",
            "> #5. problem (0.024552)\n",
            "topic_27\n",
            "> #1. shoe (0.346510)\n",
            "> #2. son (0.055536)\n",
            "> #3. pair (0.045509)\n",
            "> #4. price (0.032975)\n",
            "> #5. money (0.031818)\n",
            "topic_28\n",
            "> #1. pair (0.104075)\n",
            "> #2. shoe (0.099301)\n",
            "> #3. adidas (0.085138)\n",
            "> #4. samba (0.043445)\n",
            "> #5. year (0.042013)\n",
            "topic_29\n",
            "> #1. material (0.036912)\n",
            "> #2. sole (0.033641)\n",
            "> #3. toe (0.032239)\n",
            "> #4. design (0.031928)\n",
            "> #5. part (0.030682)\n",
            "topic_30\n",
            "> #1. muy (0.039780)\n",
            "> #2. la (0.029835)\n",
            "> #3. que (0.027997)\n",
            "> #4. el (0.024905)\n",
            "> #5. para (0.023735)\n",
            "topic_31\n",
            "> #1. color (0.173390)\n",
            "> #2. fit (0.074969)\n",
            "> #3. quality (0.070146)\n",
            "> #4. material (0.044062)\n",
            "> #5. nice (0.043404)\n",
            "topic_32\n",
            "> #1. sandal (0.167371)\n",
            "> #2. foot (0.121205)\n",
            "> #3. slide (0.048210)\n",
            "> #4. pair (0.032549)\n",
            "> #5. house (0.031324)\n",
            "topic_33\n",
            "> #1. shoes (0.070726)\n",
            "> #2. great (0.039036)\n",
            "> #3. comfortable (0.028963)\n",
            "> #4. nice (0.024976)\n",
            "> #5. super (0.024766)\n",
            "topic_34\n",
            "> #1. watch (0.201161)\n",
            "> #2. time (0.089584)\n",
            "> #3. band (0.026996)\n",
            "> #4. face (0.019798)\n",
            "> #5. wrist (0.019198)\n",
            "topic_35\n",
            "> #1. shoe (0.261371)\n",
            "> #2. tennis (0.119810)\n",
            "> #3. basketball (0.052243)\n",
            "> #4. court (0.047958)\n",
            "> #5. support (0.033126)\n",
            "topic_36\n",
            "> #1. size (0.319178)\n",
            "> #2. shoe (0.179355)\n",
            "> #3. order (0.054723)\n",
            "> #4. amazon (0.027103)\n",
            "> #5. store (0.022097)\n",
            "topic_37\n",
            "> #1. shoe (0.242962)\n",
            "> #2. support (0.122400)\n",
            "> #3. foot (0.100827)\n",
            "> #4. arch (0.072523)\n",
            "> #5. insole (0.029836)\n",
            "topic_38\n",
            "> #1. love (0.079853)\n",
            "> #2. comfy (0.045035)\n",
            "> #3. im (0.034589)\n",
            "> #4. day (0.022518)\n",
            "> #5. perfect (0.021822)\n",
            "topic_39\n",
            "> #1. sport (0.081077)\n",
            "> #2. fit (0.054425)\n",
            "> #3. size (0.039868)\n",
            "> #4. great (0.039420)\n",
            "> #5. weight (0.036508)\n",
            "topic_40\n",
            "> #1. store (0.115297)\n",
            "> #2. price (0.108755)\n",
            "> #3. amazon (0.096730)\n",
            "> #4. shoe (0.083998)\n",
            "> #5. pair (0.039082)\n",
            "topic_41\n",
            "> #1. time (0.066331)\n",
            "> #2. day (0.065164)\n",
            "> #3. thing (0.042406)\n",
            "> #4. something (0.029763)\n",
            "> #5. bit (0.023149)\n",
            "topic_42\n",
            "> #1. sneaker (0.233290)\n",
            "> #2. pair (0.103201)\n",
            "> #3. adidas (0.056809)\n",
            "> #4. style (0.044311)\n",
            "> #5. color (0.029163)\n",
            "topic_43\n",
            "> #1. shoe (0.157855)\n",
            "> #2. gym (0.060982)\n",
            "> #3. weight (0.045737)\n",
            "> #4. training (0.039948)\n",
            "> #5. workout (0.034158)\n",
            "topic_44\n",
            "> #1. shoe (0.242366)\n",
            "> #2. adidas (0.086874)\n",
            "> #3. nike (0.085294)\n",
            "> #4. pair (0.044579)\n",
            "> #5. balance (0.029486)\n",
            "topic_45\n",
            "> #1. soccer (0.130157)\n",
            "> #2. son (0.113760)\n",
            "> #3. cleat (0.058318)\n",
            "> #4. daughter (0.057980)\n",
            "> #5. year (0.053923)\n",
            "topic_46\n",
            "> #1. shoe (0.211516)\n",
            "> #2. foot (0.105682)\n",
            "> #3. toe (0.089341)\n",
            "> #4. size (0.077429)\n",
            "> #5. box (0.060630)\n",
            "topic_47\n",
            "> #1. amazon (0.058238)\n",
            "> #2. product (0.048914)\n",
            "> #3. item (0.043188)\n",
            "> #4. seller (0.035990)\n",
            "> #5. order (0.034354)\n",
            "topic_48\n",
            "> #1. size (0.332082)\n",
            "> #2. men (0.078034)\n",
            "> #3. woman (0.067959)\n",
            "> #4. adidas (0.048204)\n",
            "> #5. fit (0.036549)\n",
            "topic_49\n",
            "> #1. shoe (0.214438)\n",
            "> #2. comfort (0.085544)\n",
            "> #3. fit (0.075868)\n",
            "> #4. great (0.069674)\n",
            "> #5. price (0.053611)\n",
            "topic_50\n",
            "> #1. shoe (0.310663)\n",
            "> #2. pair (0.117397)\n",
            "> #3. adidas (0.055196)\n",
            "> #4. running (0.048190)\n",
            "> #5. foot (0.039646)\n",
            "topic_51\n",
            "> #1. shoe (0.144015)\n",
            "> #2. water (0.077162)\n",
            "> #3. trail (0.035637)\n",
            "> #4. rock (0.025182)\n",
            "> #5. traction (0.022089)\n"
          ],
          "name": "stdout"
        }
      ]
    },
    {
      "cell_type": "code",
      "metadata": {
        "id": "kzOiQdVMfSjE",
        "colab_type": "code",
        "outputId": "715b91d6-d0a7-4fd3-ce5a-e34c3f81d3e0",
        "colab": {
          "base_uri": "https://localhost:8080/",
          "height": 1000
        }
      },
      "source": [
        "model_bg = models['bigger'][0][1]\n",
        "print_ldamodel_topic_words(model_bg.topic_word_, vocab_bg, top_n = 5)"
      ],
      "execution_count": 0,
      "outputs": [
        {
          "output_type": "stream",
          "text": [
            "topic_1\n",
            "> #1.  (0.116442)\n",
            "> #2. and (0.038615)\n",
            "> #3. these (0.033718)\n",
            "> #4. the (0.028971)\n",
            "> #5. be (0.028933)\n",
            "topic_2\n",
            "> #1.  (0.117040)\n",
            "> #2. they (0.077651)\n",
            "> #3. i (0.068137)\n",
            "> #4. and (0.061623)\n",
            "> #5. these (0.054530)\n",
            "topic_3\n",
            "> #1.  (0.168473)\n",
            "> #2. and (0.085187)\n",
            "> #3. be (0.076487)\n",
            "> #4. they (0.066477)\n",
            "> #5. fit (0.059044)\n",
            "topic_4\n",
            "> #1. he (0.108803)\n",
            "> #2. my (0.081357)\n",
            "> #3.  (0.078862)\n",
            "> #4. for (0.060565)\n",
            "> #5. son (0.060476)\n",
            "topic_5\n",
            "> #1.  (0.092383)\n",
            "> #2. my (0.083529)\n",
            "> #3. for (0.066001)\n",
            "> #4. she (0.059741)\n",
            "> #5. and (0.036936)\n",
            "topic_6\n",
            "> #1.  (0.113765)\n",
            "> #2. it (0.060146)\n",
            "> #3. shirt (0.046797)\n",
            "> #4. the (0.045912)\n",
            "> #5. be (0.039311)\n",
            "topic_7\n",
            "> #1.  (0.121449)\n",
            "> #2. a (0.042392)\n",
            "> #3. shoe (0.034885)\n",
            "> #4. the (0.031532)\n",
            "> #5. with (0.030764)\n",
            "topic_8\n",
            "> #1.  (0.113428)\n",
            "> #2. shoe (0.088821)\n",
            "> #3. the (0.064057)\n",
            "> #4. golf (0.043387)\n",
            "> #5. and (0.041064)\n",
            "topic_9\n",
            "> #1. the (0.128799)\n",
            "> #2.  (0.068235)\n",
            "> #3. of (0.046159)\n",
            "> #4. a (0.028894)\n",
            "> #5. be (0.025760)\n",
            "topic_10\n",
            "> #1.  (0.151648)\n",
            "> #2. the (0.071030)\n",
            "> #3. for (0.054950)\n",
            "> #4. price (0.050156)\n",
            "> #5. be (0.047943)\n",
            "topic_11\n",
            "> #1.  (0.100739)\n",
            "> #2. it (0.041193)\n",
            "> #3. the (0.039386)\n",
            "> #4. bag (0.037297)\n",
            "> #5. and (0.035547)\n",
            "topic_12\n",
            "> #1.  (0.124383)\n",
            "> #2. be (0.068520)\n",
            "> #3. the (0.059871)\n",
            "> #4. as (0.046897)\n",
            "> #5. and (0.046500)\n",
            "topic_13\n",
            "> #1.  (0.079882)\n",
            "> #2. the (0.071221)\n",
            "> #3. be (0.050914)\n",
            "> #4. i (0.040292)\n",
            "> #5. to (0.038566)\n",
            "topic_14\n",
            "> #1. the (0.133007)\n",
            "> #2.  (0.099499)\n",
            "> #3. be (0.055527)\n",
            "> #4. color (0.051554)\n",
            "> #5. and (0.027946)\n",
            "topic_15\n",
            "> #1.  (0.159875)\n",
            "> #2. and (0.056281)\n",
            "> #3. good (0.053542)\n",
            "> #4. very (0.044530)\n",
            "> #5. be (0.041173)\n",
            "topic_16\n",
            "> #1. i (0.109982)\n",
            "> #2.  (0.055833)\n",
            "> #3. them (0.054930)\n",
            "> #4. to (0.048631)\n",
            "> #5. and (0.027221)\n",
            "topic_17\n",
            "> #1.  (0.100039)\n",
            "> #2. they (0.094214)\n",
            "> #3. i (0.081619)\n",
            "> #4. nt (0.043685)\n",
            "> #5. be (0.042664)\n",
            "topic_18\n",
            "> #1.  (0.094471)\n",
            "> #2. shoe (0.055594)\n",
            "> #3. i (0.053473)\n",
            "> #4. run (0.046778)\n",
            "> #5. the (0.035731)\n",
            "topic_19\n",
            "> #1. i (0.089015)\n",
            "> #2.  (0.069851)\n",
            "> #3. shoe (0.066212)\n",
            "> #4. have (0.063703)\n",
            "> #5. the (0.060378)\n",
            "topic_20\n",
            "> #1.  (0.124549)\n",
            "> #2. shoe (0.080038)\n",
            "> #3. the (0.052672)\n",
            "> #4. and (0.052335)\n",
            "> #5. be (0.038746)\n",
            "topic_21\n",
            "> #1. i (0.128108)\n",
            "> #2.  (0.122937)\n",
            "> #3. buy (0.060492)\n",
            "> #4. them (0.051489)\n",
            "> #5. these (0.051308)\n",
            "topic_22\n",
            "> #1.  (0.127540)\n",
            "> #2. and (0.046378)\n",
            "> #3. shoe (0.045348)\n",
            "> #4. the (0.041461)\n",
            "> #5. on (0.034485)\n",
            "topic_23\n",
            "> #1.  (0.122241)\n",
            "> #2. be (0.099587)\n",
            "> #3. they (0.064290)\n",
            "> #4. to (0.040895)\n",
            "> #5. and (0.033406)\n",
            "topic_24\n",
            "> #1.  (0.696577)\n",
            "> #2. s (0.013000)\n",
            "> #3. adidas (0.012526)\n",
            "> #4. just (0.008947)\n",
            "> #5. no (0.005526)\n",
            "topic_25\n",
            "> #1.  (0.068599)\n",
            "> #2. the (0.062766)\n",
            "> #3. be (0.054729)\n",
            "> #4. of (0.035607)\n",
            "> #5. to (0.035002)\n",
            "topic_26\n",
            "> #1.  (0.068441)\n",
            "> #2. i (0.065886)\n",
            "> #3. to (0.043828)\n",
            "> #4. the (0.042837)\n",
            "> #5. a (0.035720)\n",
            "topic_27\n",
            "> #1.  (0.075455)\n",
            "> #2. have (0.053905)\n",
            "> #3. they (0.045897)\n",
            "> #4. and (0.042747)\n",
            "> #5. i (0.034710)\n",
            "topic_28\n",
            "> #1.  (0.114652)\n",
            "> #2. the (0.069108)\n",
            "> #3. it (0.062239)\n",
            "> #4. be (0.050332)\n",
            "> #5. watch (0.044171)\n",
            "topic_29\n",
            "> #1.  (0.110146)\n",
            "> #2. soccer (0.050533)\n",
            "> #3. the (0.049678)\n",
            "> #4. for (0.043529)\n",
            "> #5. and (0.041982)\n",
            "topic_30\n",
            "> #1.  (0.079976)\n",
            "> #2. i (0.070603)\n",
            "> #3. to (0.044659)\n",
            "> #4. be (0.034949)\n",
            "> #5. find (0.034398)\n",
            "topic_31\n",
            "> #1.  (0.128658)\n",
            "> #2. be (0.056080)\n",
            "> #3. the (0.052951)\n",
            "> #4. pant (0.040289)\n",
            "> #5. and (0.032261)\n",
            "topic_32\n",
            "> #1.  (0.142255)\n",
            "> #2. for (0.097043)\n",
            "> #3. and (0.049005)\n",
            "> #4. be (0.032050)\n",
            "> #5. use (0.030191)\n",
            "topic_33\n",
            "> #1.  (0.120724)\n",
            "> #2. y (0.034112)\n",
            "> #3. de (0.026958)\n",
            "> #4. muy (0.025665)\n",
            "> #5. la (0.023321)\n",
            "topic_34\n",
            "> #1. size (0.102525)\n",
            "> #2.  (0.069434)\n",
            "> #3. a (0.067425)\n",
            "> #4. i (0.050952)\n",
            "> #5. order (0.030791)\n",
            "topic_35\n",
            "> #1.  (0.071367)\n",
            "> #2. a (0.065673)\n",
            "> #3. i (0.057148)\n",
            "> #4. to (0.046309)\n",
            "> #5. them (0.044909)\n",
            "topic_36\n",
            "> #1. you (0.133801)\n",
            "> #2.  (0.119343)\n",
            "> #3. if (0.057564)\n",
            "> #4. your (0.036664)\n",
            "> #5. nt (0.035328)\n",
            "topic_37\n",
            "> #1.  (0.093154)\n",
            "> #2. i (0.071149)\n",
            "> #3. my (0.053955)\n",
            "> #4. and (0.041799)\n",
            "> #5. foot (0.040824)\n",
            "topic_38\n",
            "> #1. it (0.231873)\n",
            "> #2.  (0.111237)\n",
            "> #3. i (0.086819)\n",
            "> #4. s (0.058580)\n",
            "> #5. this (0.046428)\n",
            "topic_39\n",
            "> #1.  (0.129854)\n",
            "> #2. recommend (0.087367)\n",
            "> #3. i (0.055882)\n",
            "> #4. would (0.052660)\n",
            "> #5. to (0.052292)\n",
            "topic_40\n",
            "> #1. i (0.092478)\n",
            "> #2. nt (0.065082)\n",
            "> #3. it (0.060348)\n",
            "> #4. be (0.056078)\n",
            "> #5.  (0.051918)\n",
            "topic_41\n",
            "> #1. a (0.120941)\n",
            "> #2.  (0.094201)\n",
            "> #3. be (0.078351)\n",
            "> #4. but (0.056068)\n",
            "> #5. little (0.051144)\n",
            "topic_42\n",
            "> #1.  (0.095328)\n",
            "> #2. shoe (0.052484)\n",
            "> #3. foot (0.050002)\n",
            "> #4. have (0.044412)\n",
            "> #5. be (0.041146)\n",
            "topic_43\n",
            "> #1.  (0.111011)\n",
            "> #2. the (0.083650)\n",
            "> #3. be (0.048131)\n",
            "> #4. s (0.045780)\n",
            "> #5. adidas (0.036802)\n",
            "topic_44\n",
            "> #1. the (0.152424)\n",
            "> #2.  (0.046288)\n",
            "> #3. be (0.040268)\n",
            "> #4. of (0.038582)\n",
            "> #5. shoe (0.035788)\n",
            "topic_45\n",
            "> #1.  (0.139149)\n",
            "> #2. very (0.067488)\n",
            "> #3. be (0.064168)\n",
            "> #4. good (0.059681)\n",
            "> #5. and (0.057257)\n",
            "topic_46\n",
            "> #1. you (0.083348)\n",
            "> #2. be (0.060699)\n",
            "> #3. it (0.050041)\n",
            "> #4. i (0.043222)\n",
            "> #5. this (0.032916)\n",
            "topic_47\n",
            "> #1.  (0.092575)\n",
            "> #2. the (0.078633)\n",
            "> #3. sandal (0.041695)\n",
            "> #4. foot (0.032739)\n",
            "> #5. these (0.030804)\n",
            "topic_48\n",
            "> #1.  (0.454191)\n",
            "> #2. 34 (0.058382)\n",
            "> #3. i (0.039436)\n",
            "> #4. star (0.026806)\n",
            "> #5. the (0.023204)\n",
            "topic_49\n",
            "> #1.  (0.081987)\n",
            "> #2. the (0.056012)\n",
            "> #3. in (0.052651)\n",
            "> #4. be (0.042534)\n",
            "> #5. and (0.041414)\n",
            "topic_50\n",
            "> #1.  (0.107088)\n",
            "> #2. be (0.093230)\n",
            "> #3. i (0.092079)\n",
            "> #4. with (0.084621)\n",
            "> #5. very (0.081905)\n",
            "topic_51\n",
            "> #1. pair (0.097651)\n",
            "> #2. i (0.070942)\n",
            "> #3.  (0.068453)\n",
            "> #4. of (0.053653)\n",
            "> #5. my (0.043393)\n"
          ],
          "name": "stdout"
        }
      ]
    },
    {
      "cell_type": "code",
      "metadata": {
        "id": "Ww8TJikXDGxc",
        "colab_type": "code",
        "outputId": "87153ba1-b7e1-4385-b77a-3f263e05f4bf",
        "colab": {
          "base_uri": "https://localhost:8080/",
          "height": 37
        }
      },
      "source": [
        "import logging\n",
        "import warnings\n",
        "import lda\n",
        "warnings.filterwarnings('ignore')\n",
        "\n",
        "lda_tm = lda.LDA(n_topics=51, n_iter=1000, random_state=20191122, eta=.01 )\n",
        "lda_tm.fit(dtm_sm)"
      ],
      "execution_count": 0,
      "outputs": [
        {
          "output_type": "execute_result",
          "data": {
            "text/plain": [
              "<lda.lda.LDA at 0x7efbbef5e908>"
            ]
          },
          "metadata": {
            "tags": []
          },
          "execution_count": 62
        }
      ]
    },
    {
      "cell_type": "code",
      "metadata": {
        "id": "7lKMzlCLENO9",
        "colab_type": "code",
        "outputId": "c0d53b5c-d419-4bee-98af-e2e7be4730ec",
        "colab": {
          "base_uri": "https://localhost:8080/",
          "height": 1000
        }
      },
      "source": [
        "topic_word = lda_tm.topic_word_\n",
        "n_top_words = 10\n",
        "for i, topic_dist in enumerate(topic_word):\n",
        "  topic_word = np.array(vocab_sm)[np.argsort(topic_dist)][:-n_top_words - 1:-1]\n",
        "  print('Topic{}:{}'.format(i,' '.join(topic_word)))"
      ],
      "execution_count": 0,
      "outputs": [
        {
          "output_type": "stream",
          "text": [
            "Topic0:pair year one time adidas lot month replacement day others\n",
            "Topic1:size order shoe half review fit bit others snug reviewer\n",
            "Topic2:son year daughter kid school quality size month boy child\n",
            "Topic3:bag pocket gym backpack water room bottle side clothes item\n",
            "Topic4:pant size leg length medium fit waist way inch bit\n",
            "Topic5:cleat soccer ball turf leather shoe grass field indoor game\n",
            "Topic6:product quality time item price purchase excellent delivery thanks condition\n",
            "Topic7:shoe lot color compliment people time look everyone style anyone\n",
            "Topic8:shoe lace foot tongue time thing bit way side problem\n",
            "Topic9:shirt fit material medium wash fabric size tshirt sleeve xl\n",
            "Topic10:star review thing people reason way something anything issue word\n",
            "Topic11:color picture blue shoe pink stripe one orange person grey\n",
            "Topic12:bit material size quality adidas design look side thing part\n",
            "Topic13:shoe golf course round foot spike grip fit traction hole\n",
            "Topic14:month shoe wear time use week year pair day couple\n",
            "Topic15:short brief boxer material fit waist leg cotton compression bit\n",
            "Topic16:shoe mile run runner running foot support adidas cushioning marathon\n",
            "Topic17:gift husband son christmas bought time brother boyfriend birthday color\n",
            "Topic18:day foot hour work week time pain end couple mile\n",
            "Topic19:price great quality product color fit buy value highly purchase\n",
            "Topic20:jacket weather summer day weight air winter cool spring wear\n",
            "Topic21:adidas model shoe year pair time one version design brand\n",
            "Topic22:adidas brand quality product price fan name choice style sport\n",
            "Topic23:boot foot adidas pair fit day winter traction snow lace\n",
            "Topic24:shoe foot heel toe blister problem day week time pain\n",
            "Topic25:sock foot bottom way problem feel material top bit time\n",
            "Topic26:shoe son pair price money basketball look deal squeak time\n",
            "Topic27:pair shoe adidas samba year sambas leather superstar style tongue\n",
            "Topic28:material sole toe design part side rubber way leather area\n",
            "Topic29:muy la que el para son producto los lo con\n",
            "Topic30:color fit quality material nice design feel style great look\n",
            "Topic31:sandal foot slide pair house strap flop slipper flip shower\n",
            "Topic32:shoes great comfortable nice super good buy perfect one fits\n",
            "Topic33:watch time band face wrist button function feature light number\n",
            "Topic34:shoe tennis basketball court support ankle player pair barricade traction\n",
            "Topic35:size shoe order amazon store problem half us sizing one\n",
            "Topic36:shoe support foot arch insole sole cushion heel fit bit\n",
            "Topic37:love comfy im day perfect work thing cute order husband\n",
            "Topic38:sport fit size great weight bra color bit use work\n",
            "Topic39:store price amazon shoe pair adidas shipping sale deal time\n",
            "Topic40:time day thing something bit trip anything break problem home\n",
            "Topic41:sneaker pair adidas style color time look price jean everything\n",
            "Topic42:shoe gym weight training workout running pair class cross foot\n",
            "Topic43:shoe adidas nike pair balance foot brand new running price\n",
            "Topic44:soccer son cleat daughter year season game team practice school\n",
            "Topic45:shoe foot toe size box width room fit adidas right\n",
            "Topic46:amazon product item seller order return service shipping time customer\n",
            "Topic47:size men woman adidas fit way chart kid sizing order\n",
            "Topic48:shoe comfort fit great price style look feel buy anyone\n",
            "Topic49:shoe pair adidas running foot trail year kanadia run tread\n",
            "Topic50:shoe water trail rock traction bottom surface mud sole grip\n"
          ],
          "name": "stdout"
        }
      ]
    },
    {
      "cell_type": "code",
      "metadata": {
        "id": "htDhbqdzGOvR",
        "colab_type": "code",
        "outputId": "b5da5ad0-4ba7-48ba-c667-9dc2500a1f3e",
        "colab": {
          "base_uri": "https://localhost:8080/",
          "height": 530
        }
      },
      "source": [
        "from tmtoolkit.topicmod.model_io import ldamodel_top_topic_words\n",
        "tm = pd.DataFrame(ldamodel_top_topic_words(model_sm.topic_word_, vocab_sm, top_n=5)).reset_index()\n",
        "tm = tm.drop(columns = 'topic')\n",
        "tm.head(15)"
      ],
      "execution_count": 0,
      "outputs": [
        {
          "output_type": "execute_result",
          "data": {
            "text/html": [
              "<div>\n",
              "<style scoped>\n",
              "    .dataframe tbody tr th:only-of-type {\n",
              "        vertical-align: middle;\n",
              "    }\n",
              "\n",
              "    .dataframe tbody tr th {\n",
              "        vertical-align: top;\n",
              "    }\n",
              "\n",
              "    .dataframe thead th {\n",
              "        text-align: right;\n",
              "    }\n",
              "</style>\n",
              "<table border=\"1\" class=\"dataframe\">\n",
              "  <thead>\n",
              "    <tr style=\"text-align: right;\">\n",
              "      <th></th>\n",
              "      <th>rank_1</th>\n",
              "      <th>rank_2</th>\n",
              "      <th>rank_3</th>\n",
              "      <th>rank_4</th>\n",
              "      <th>rank_5</th>\n",
              "    </tr>\n",
              "  </thead>\n",
              "  <tbody>\n",
              "    <tr>\n",
              "      <th>0</th>\n",
              "      <td>pair (0.3167)</td>\n",
              "      <td>year (0.1252)</td>\n",
              "      <td>one (0.06766)</td>\n",
              "      <td>time (0.03999)</td>\n",
              "      <td>adidas (0.02801)</td>\n",
              "    </tr>\n",
              "    <tr>\n",
              "      <th>1</th>\n",
              "      <td>size (0.4357)</td>\n",
              "      <td>order (0.08632)</td>\n",
              "      <td>shoe (0.0736)</td>\n",
              "      <td>half (0.0557)</td>\n",
              "      <td>review (0.04406)</td>\n",
              "    </tr>\n",
              "    <tr>\n",
              "      <th>2</th>\n",
              "      <td>son (0.1536)</td>\n",
              "      <td>year (0.08166)</td>\n",
              "      <td>daughter (0.05554)</td>\n",
              "      <td>kid (0.05134)</td>\n",
              "      <td>school (0.05042)</td>\n",
              "    </tr>\n",
              "    <tr>\n",
              "      <th>3</th>\n",
              "      <td>bag (0.1495)</td>\n",
              "      <td>pocket (0.06731)</td>\n",
              "      <td>gym (0.0443)</td>\n",
              "      <td>backpack (0.03337)</td>\n",
              "      <td>water (0.02842)</td>\n",
              "    </tr>\n",
              "    <tr>\n",
              "      <th>4</th>\n",
              "      <td>pant (0.223)</td>\n",
              "      <td>size (0.03877)</td>\n",
              "      <td>leg (0.0367)</td>\n",
              "      <td>length (0.03606)</td>\n",
              "      <td>medium (0.03175)</td>\n",
              "    </tr>\n",
              "    <tr>\n",
              "      <th>5</th>\n",
              "      <td>cleat (0.1094)</td>\n",
              "      <td>soccer (0.09368)</td>\n",
              "      <td>ball (0.05229)</td>\n",
              "      <td>turf (0.03469)</td>\n",
              "      <td>leather (0.02816)</td>\n",
              "    </tr>\n",
              "    <tr>\n",
              "      <th>6</th>\n",
              "      <td>product (0.2185)</td>\n",
              "      <td>quality (0.0846)</td>\n",
              "      <td>time (0.04634)</td>\n",
              "      <td>item (0.03431)</td>\n",
              "      <td>price (0.03136)</td>\n",
              "    </tr>\n",
              "    <tr>\n",
              "      <th>7</th>\n",
              "      <td>shoe (0.3172)</td>\n",
              "      <td>lot (0.08939)</td>\n",
              "      <td>color (0.07738)</td>\n",
              "      <td>compliment (0.05749)</td>\n",
              "      <td>people (0.04036)</td>\n",
              "    </tr>\n",
              "    <tr>\n",
              "      <th>8</th>\n",
              "      <td>shoe (0.3049)</td>\n",
              "      <td>lace (0.08046)</td>\n",
              "      <td>foot (0.06604)</td>\n",
              "      <td>tongue (0.0327)</td>\n",
              "      <td>time (0.02981)</td>\n",
              "    </tr>\n",
              "    <tr>\n",
              "      <th>9</th>\n",
              "      <td>shirt (0.2039)</td>\n",
              "      <td>fit (0.03136)</td>\n",
              "      <td>material (0.03006)</td>\n",
              "      <td>medium (0.0247)</td>\n",
              "      <td>wash (0.0247)</td>\n",
              "    </tr>\n",
              "    <tr>\n",
              "      <th>10</th>\n",
              "      <td>star (0.05495)</td>\n",
              "      <td>review (0.05033)</td>\n",
              "      <td>thing (0.02952)</td>\n",
              "      <td>people (0.02952)</td>\n",
              "      <td>reason (0.02935)</td>\n",
              "    </tr>\n",
              "    <tr>\n",
              "      <th>11</th>\n",
              "      <td>color (0.2114)</td>\n",
              "      <td>picture (0.07212)</td>\n",
              "      <td>blue (0.04772)</td>\n",
              "      <td>shoe (0.04452)</td>\n",
              "      <td>pink (0.04452)</td>\n",
              "    </tr>\n",
              "    <tr>\n",
              "      <th>12</th>\n",
              "      <td>bit (0.09506)</td>\n",
              "      <td>material (0.05973)</td>\n",
              "      <td>size (0.05017)</td>\n",
              "      <td>quality (0.03943)</td>\n",
              "      <td>adidas (0.0367)</td>\n",
              "    </tr>\n",
              "    <tr>\n",
              "      <th>13</th>\n",
              "      <td>shoe (0.2832)</td>\n",
              "      <td>golf (0.1632)</td>\n",
              "      <td>course (0.05206)</td>\n",
              "      <td>round (0.03905)</td>\n",
              "      <td>foot (0.03114)</td>\n",
              "    </tr>\n",
              "    <tr>\n",
              "      <th>14</th>\n",
              "      <td>month (0.1114)</td>\n",
              "      <td>shoe (0.098)</td>\n",
              "      <td>wear (0.06658)</td>\n",
              "      <td>time (0.06505)</td>\n",
              "      <td>use (0.05095)</td>\n",
              "    </tr>\n",
              "  </tbody>\n",
              "</table>\n",
              "</div>"
            ],
            "text/plain": [
              "              rank_1  ...             rank_5\n",
              "0      pair (0.3167)  ...   adidas (0.02801)\n",
              "1      size (0.4357)  ...   review (0.04406)\n",
              "2       son (0.1536)  ...   school (0.05042)\n",
              "3       bag (0.1495)  ...    water (0.02842)\n",
              "4       pant (0.223)  ...   medium (0.03175)\n",
              "5     cleat (0.1094)  ...  leather (0.02816)\n",
              "6   product (0.2185)  ...    price (0.03136)\n",
              "7      shoe (0.3172)  ...   people (0.04036)\n",
              "8      shoe (0.3049)  ...     time (0.02981)\n",
              "9     shirt (0.2039)  ...      wash (0.0247)\n",
              "10    star (0.05495)  ...   reason (0.02935)\n",
              "11    color (0.2114)  ...     pink (0.04452)\n",
              "12     bit (0.09506)  ...    adidas (0.0367)\n",
              "13     shoe (0.2832)  ...     foot (0.03114)\n",
              "14    month (0.1114)  ...      use (0.05095)\n",
              "\n",
              "[15 rows x 5 columns]"
            ]
          },
          "metadata": {
            "tags": []
          },
          "execution_count": 64
        }
      ]
    },
    {
      "cell_type": "code",
      "metadata": {
        "id": "SgDKnAoj36F7",
        "colab_type": "code",
        "outputId": "a3662ac5-9485-4bfb-d8e6-944723c2316e",
        "colab": {
          "base_uri": "https://localhost:8080/",
          "height": 1000
        }
      },
      "source": [
        "import re\n",
        "barbellstopics = ''\n",
        "for i in range(len(tm)):\n",
        "  words = list(tm.iloc[i,:])\n",
        "  aline = str(i)+': '+' '.join([re.sub(r'\\s\\(.*?\\)','', w) for w in words])\n",
        "  barbellstopics += aline + '\\n'\n",
        "\n",
        "print(barbellstopics)"
      ],
      "execution_count": 0,
      "outputs": [
        {
          "output_type": "stream",
          "text": [
            "0: pair year one time adidas\n",
            "1: size order shoe half review\n",
            "2: son year daughter kid school\n",
            "3: bag pocket gym backpack water\n",
            "4: pant size leg length medium\n",
            "5: cleat soccer ball turf leather\n",
            "6: product quality time item price\n",
            "7: shoe lot color compliment people\n",
            "8: shoe lace foot tongue time\n",
            "9: shirt fit material medium wash\n",
            "10: star review thing people reason\n",
            "11: color picture blue shoe pink\n",
            "12: bit material size quality adidas\n",
            "13: shoe golf course round foot\n",
            "14: month shoe wear time use\n",
            "15: short brief boxer material fit\n",
            "16: shoe mile run runner running\n",
            "17: gift husband son christmas bought\n",
            "18: day foot hour work week\n",
            "19: price great quality product color\n",
            "20: jacket weather summer day weight\n",
            "21: adidas model shoe year pair\n",
            "22: adidas brand quality product price\n",
            "23: boot foot adidas pair fit\n",
            "24: shoe foot heel toe blister\n",
            "25: sock foot bottom way problem\n",
            "26: shoe son pair price money\n",
            "27: pair shoe adidas samba year\n",
            "28: material sole toe design part\n",
            "29: muy la que el para\n",
            "30: color fit quality material nice\n",
            "31: sandal foot slide pair house\n",
            "32: shoes great comfortable nice super\n",
            "33: watch time band face wrist\n",
            "34: shoe tennis basketball court support\n",
            "35: size shoe order amazon store\n",
            "36: shoe support foot arch insole\n",
            "37: love comfy im day perfect\n",
            "38: sport fit size great weight\n",
            "39: store price amazon shoe pair\n",
            "40: time day thing something bit\n",
            "41: sneaker pair adidas style color\n",
            "42: shoe gym weight training workout\n",
            "43: shoe adidas nike pair balance\n",
            "44: soccer son cleat daughter year\n",
            "45: shoe foot toe size box\n",
            "46: amazon product item seller order\n",
            "47: size men woman adidas fit\n",
            "48: shoe comfort fit great price\n",
            "49: shoe pair adidas running foot\n",
            "50: shoe water trail rock traction\n",
            "\n"
          ],
          "name": "stdout"
        }
      ]
    },
    {
      "cell_type": "code",
      "metadata": {
        "id": "wqg6m2qbo_zD",
        "colab_type": "code",
        "colab": {}
      },
      "source": [
        "outputfile = open('drive/My Drive/Colab Notebooks/APRD6343_NEW//adidastopics2.txt', 'w')\n",
        "\n",
        "outputfile.write(barbellstopics)\n",
        "outputfile.close()"
      ],
      "execution_count": 0,
      "outputs": []
    },
    {
      "cell_type": "markdown",
      "metadata": {
        "id": "WQEcAEmVsEW1",
        "colab_type": "text"
      },
      "source": [
        "# **Eval**"
      ]
    },
    {
      "cell_type": "code",
      "metadata": {
        "id": "DE7Yl96hsDZc",
        "colab_type": "code",
        "outputId": "edfd763f-a167-4f2c-dacd-9c34314dcc98",
        "colab": {
          "base_uri": "https://localhost:8080/",
          "height": 77
        }
      },
      "source": [
        "const_params = {'n_iter':1000,'eta':0.1,'random_state':20191122}\n",
        "ks = list(range(1,25,2))\n",
        "print(ks)\n",
        "varying_params = [dict(n_topics=k,alpha=1/k) for k in ks]\n",
        "print(varying_params)"
      ],
      "execution_count": 0,
      "outputs": [
        {
          "output_type": "stream",
          "text": [
            "[1, 3, 5, 7, 9, 11, 13, 15, 17, 19, 21, 23]\n",
            "[{'n_topics': 1, 'alpha': 1.0}, {'n_topics': 3, 'alpha': 0.3333333333333333}, {'n_topics': 5, 'alpha': 0.2}, {'n_topics': 7, 'alpha': 0.14285714285714285}, {'n_topics': 9, 'alpha': 0.1111111111111111}, {'n_topics': 11, 'alpha': 0.09090909090909091}, {'n_topics': 13, 'alpha': 0.07692307692307693}, {'n_topics': 15, 'alpha': 0.06666666666666667}, {'n_topics': 17, 'alpha': 0.058823529411764705}, {'n_topics': 19, 'alpha': 0.05263157894736842}, {'n_topics': 21, 'alpha': 0.047619047619047616}, {'n_topics': 23, 'alpha': 0.043478260869565216}]\n"
          ],
          "name": "stdout"
        }
      ]
    },
    {
      "cell_type": "code",
      "metadata": {
        "id": "qSyUVqG1ruPO",
        "colab_type": "code",
        "colab": {}
      },
      "source": [
        "from tmtoolkit.topicmod import tm_lda\n",
        "eval_results= tm_lda.evaluate_topic_models(dtm_sm,\n",
        "    varying_params,\n",
        "    const_params)"
      ],
      "execution_count": 0,
      "outputs": []
    },
    {
      "cell_type": "code",
      "metadata": {
        "id": "fIRZ6kW9v2go",
        "colab_type": "code",
        "outputId": "a0ef7dee-22cb-4e77-dc4c-32e647fb5e30",
        "colab": {
          "base_uri": "https://localhost:8080/",
          "height": 57
        }
      },
      "source": [
        "from tmtoolkit.topicmod.evaluate import results_by_parameter\n",
        "from tmtoolkit.topicmod.visualize import plot_eval_results\n",
        "\n",
        "results_by_n_topics = results_by_parameter(eval_results, 'n_topics')\n",
        "print(results_by_n_topics)"
      ],
      "execution_count": 0,
      "outputs": [
        {
          "output_type": "stream",
          "text": [
            "[(1, {'cao_juan_2009': nan, 'arun_2010': 796.7360855775535, 'coherence_mimno_2011': -2.6628224416905812}), (3, {'cao_juan_2009': 0.3060682804611642, 'arun_2010': 708.2926472105813, 'coherence_mimno_2011': -4.1976096118378114}), (5, {'cao_juan_2009': 0.26674065044476825, 'arun_2010': 656.8178848171871, 'coherence_mimno_2011': -2.7344757481621835}), (7, {'cao_juan_2009': 0.32544881771510403, 'arun_2010': 602.172109322805, 'coherence_mimno_2011': -2.926971897687365}), (9, {'cao_juan_2009': 0.2894893743702142, 'arun_2010': 561.6446652644756, 'coherence_mimno_2011': -2.7499020037770743}), (11, {'cao_juan_2009': 0.33007778613309907, 'arun_2010': 547.2455448964499, 'coherence_mimno_2011': -2.842792191014054}), (13, {'cao_juan_2009': 0.3210137866659002, 'arun_2010': 517.6804852931111, 'coherence_mimno_2011': -2.89831796675738}), (15, {'cao_juan_2009': 0.3041616918424231, 'arun_2010': 504.99160533723904, 'coherence_mimno_2011': -3.045412417666961}), (17, {'cao_juan_2009': 0.30092559859851575, 'arun_2010': 496.4600715028983, 'coherence_mimno_2011': -2.962658590837485}), (19, {'cao_juan_2009': 0.29768353958972854, 'arun_2010': 469.3666347650796, 'coherence_mimno_2011': -2.9174212780420894}), (21, {'cao_juan_2009': 0.2783977464839907, 'arun_2010': 456.07544882668384, 'coherence_mimno_2011': -3.0839747922935987}), (23, {'cao_juan_2009': 0.27048677434184165, 'arun_2010': 452.9416925040876, 'coherence_mimno_2011': -3.256187432010445})]\n"
          ],
          "name": "stdout"
        }
      ]
    },
    {
      "cell_type": "code",
      "metadata": {
        "id": "Xa448jQFxuTr",
        "colab_type": "code",
        "outputId": "2059df23-5aaa-4127-eeda-e0b52a2259a5",
        "colab": {
          "base_uri": "https://localhost:8080/",
          "height": 490
        }
      },
      "source": [
        "plot_eval_results(results_by_n_topics)"
      ],
      "execution_count": 0,
      "outputs": [
        {
          "output_type": "execute_result",
          "data": {
            "text/plain": [
              "(<Figure size 576x432 with 3 Axes>,\n",
              " array([<matplotlib.axes._subplots.AxesSubplot object at 0x7efbbeedf400>,\n",
              "        <matplotlib.axes._subplots.AxesSubplot object at 0x7efbbeecfba8>,\n",
              "        <matplotlib.axes._subplots.AxesSubplot object at 0x7efbbeec4dd8>],\n",
              "       dtype=object))"
            ]
          },
          "metadata": {
            "tags": []
          },
          "execution_count": 70
        },
        {
          "output_type": "display_data",
          "data": {
            "image/png": "[encoded data removed]",
            "text/plain": [
              "<Figure size 576x432 with 3 Axes>"
            ]
          },
          "metadata": {
            "tags": []
          }
        }
      ]
    },
    {
      "cell_type": "markdown",
      "metadata": {
        "colab_type": "text",
        "id": "H10NxkkJ2phE"
      },
      "source": [
        "# **Eval (lower beta)**"
      ]
    },
    {
      "cell_type": "code",
      "metadata": {
        "colab_type": "code",
        "id": "GuizlBTK2phE",
        "outputId": "5c5add07-7ced-453a-9864-d6422f424462",
        "colab": {
          "base_uri": "https://localhost:8080/",
          "height": 77
        }
      },
      "source": [
        "const_params = {'n_iter':1000, 'eta':0.01, 'random_state':20191122}\n",
        "ks = list(range(1, 25, 2))\n",
        "print(ks)\n",
        "varying_params = [dict(n_topics=k, alpha=1/(1*k)) for k in ks]\n",
        "print(varying_params)\n",
        "\n",
        "# no topic models will run the same every time beacuse we are sampling\n",
        "# most of the documents will not have most of the topics\n",
        "# lower k -- smaller proportion of share of topics in each document"
      ],
      "execution_count": 0,
      "outputs": [
        {
          "output_type": "stream",
          "text": [
            "[1, 3, 5, 7, 9, 11, 13, 15, 17, 19, 21, 23]\n",
            "[{'n_topics': 1, 'alpha': 1.0}, {'n_topics': 3, 'alpha': 0.3333333333333333}, {'n_topics': 5, 'alpha': 0.2}, {'n_topics': 7, 'alpha': 0.14285714285714285}, {'n_topics': 9, 'alpha': 0.1111111111111111}, {'n_topics': 11, 'alpha': 0.09090909090909091}, {'n_topics': 13, 'alpha': 0.07692307692307693}, {'n_topics': 15, 'alpha': 0.06666666666666667}, {'n_topics': 17, 'alpha': 0.058823529411764705}, {'n_topics': 19, 'alpha': 0.05263157894736842}, {'n_topics': 21, 'alpha': 0.047619047619047616}, {'n_topics': 23, 'alpha': 0.043478260869565216}]\n"
          ],
          "name": "stdout"
        }
      ]
    },
    {
      "cell_type": "code",
      "metadata": {
        "colab_type": "code",
        "id": "jHiBvkAS2phH",
        "colab": {}
      },
      "source": [
        "from tmtoolkit.topicmod import tm_lda\n",
        "eval_results = tm_lda.evaluate_topic_models(dtm_sm, varying_params, const_params)"
      ],
      "execution_count": 0,
      "outputs": []
    },
    {
      "cell_type": "code",
      "metadata": {
        "colab_type": "code",
        "id": "VF3BVxTc2phJ",
        "outputId": "abff065b-41d6-4f10-df93-7d88dfd03e2a",
        "colab": {
          "base_uri": "https://localhost:8080/",
          "height": 57
        }
      },
      "source": [
        "from tmtoolkit.topicmod.evaluate import results_by_parameter\n",
        "from tmtoolkit.topicmod.visualize import plot_eval_results\n",
        "\n",
        "results_by_n_topics = results_by_parameter(eval_results, 'n_topics')\n",
        "print(results_by_n_topics)"
      ],
      "execution_count": 0,
      "outputs": [
        {
          "output_type": "stream",
          "text": [
            "[(1, {'cao_juan_2009': nan, 'arun_2010': 796.091077326633, 'coherence_mimno_2011': -2.6628224416905812}), (3, {'cao_juan_2009': 0.4257530325126771, 'arun_2010': 704.0580631275859, 'coherence_mimno_2011': -3.9665593220264435}), (5, {'cao_juan_2009': 0.26127225530579845, 'arun_2010': 648.9035643468808, 'coherence_mimno_2011': -3.41328402801489}), (7, {'cao_juan_2009': 0.31463318351744946, 'arun_2010': 594.3226598239023, 'coherence_mimno_2011': -2.960633555483295}), (9, {'cao_juan_2009': 0.31019744905836677, 'arun_2010': 557.038059909632, 'coherence_mimno_2011': -2.779659370657803}), (11, {'cao_juan_2009': 0.34446813963382306, 'arun_2010': 538.0043914848021, 'coherence_mimno_2011': -2.8901440262935405}), (13, {'cao_juan_2009': 0.2906400216765566, 'arun_2010': 505.28112748815784, 'coherence_mimno_2011': -3.008443146888794}), (15, {'cao_juan_2009': 0.31540839254581765, 'arun_2010': 489.6059474200264, 'coherence_mimno_2011': -2.986054641191096}), (17, {'cao_juan_2009': 0.29960348103925694, 'arun_2010': 465.51369178792044, 'coherence_mimno_2011': -3.002233999675819}), (19, {'cao_juan_2009': 0.29520103952818955, 'arun_2010': 456.5196579309456, 'coherence_mimno_2011': -2.9711079221348617}), (21, {'cao_juan_2009': 0.28987821242569317, 'arun_2010': 442.0789042008601, 'coherence_mimno_2011': -2.9877587725045007}), (23, {'cao_juan_2009': 0.29268228334113944, 'arun_2010': 423.8310417625412, 'coherence_mimno_2011': -3.0388046246299147})]\n"
          ],
          "name": "stdout"
        }
      ]
    },
    {
      "cell_type": "code",
      "metadata": {
        "colab_type": "code",
        "id": "hwY6j2UR2phL",
        "outputId": "5129597b-25f1-4f74-923b-c2e5f53626cc",
        "colab": {
          "base_uri": "https://localhost:8080/",
          "height": 490
        }
      },
      "source": [
        "plot_eval_results(results_by_n_topics)"
      ],
      "execution_count": 0,
      "outputs": [
        {
          "output_type": "execute_result",
          "data": {
            "text/plain": [
              "(<Figure size 576x432 with 3 Axes>,\n",
              " array([<matplotlib.axes._subplots.AxesSubplot object at 0x7efbbeeca860>,\n",
              "        <matplotlib.axes._subplots.AxesSubplot object at 0x7efbbef1be80>,\n",
              "        <matplotlib.axes._subplots.AxesSubplot object at 0x7efbbef0eef0>],\n",
              "       dtype=object))"
            ]
          },
          "metadata": {
            "tags": []
          },
          "execution_count": 74
        },
        {
          "output_type": "display_data",
          "data": {
            "image/png": "[encoded data removed]",
            "text/plain": [
              "<Figure size 576x432 with 3 Axes>"
            ]
          },
          "metadata": {
            "tags": []
          }
        }
      ]
    },
    {
      "cell_type": "markdown",
      "metadata": {
        "colab_type": "text",
        "id": "H0VnkWxd2mLc"
      },
      "source": [
        "# **Eval (lower alpha)**"
      ]
    },
    {
      "cell_type": "code",
      "metadata": {
        "colab_type": "code",
        "id": "zleQecMZ2mLe",
        "outputId": "ca316703-e0b8-4caf-f06b-bf6e5cee5970",
        "colab": {
          "base_uri": "https://localhost:8080/",
          "height": 77
        }
      },
      "source": [
        "const_params = {'n_iter':1000, 'eta':0.1, 'random_state':20191122}\n",
        "ks = list(range(1, 25, 2))\n",
        "print(ks)\n",
        "varying_params = [dict(n_topics=k, alpha=1/(10*k)) for k in ks]\n",
        "print(varying_params)\n",
        "\n",
        "# no topic models will run the same every time beacuse we are sampling\n",
        "# most of the documents will not have most of the topics\n",
        "# lower k -- smaller proportion of share of topics in each document"
      ],
      "execution_count": 0,
      "outputs": [
        {
          "output_type": "stream",
          "text": [
            "[1, 3, 5, 7, 9, 11, 13, 15, 17, 19, 21, 23]\n",
            "[{'n_topics': 1, 'alpha': 0.1}, {'n_topics': 3, 'alpha': 0.03333333333333333}, {'n_topics': 5, 'alpha': 0.02}, {'n_topics': 7, 'alpha': 0.014285714285714285}, {'n_topics': 9, 'alpha': 0.011111111111111112}, {'n_topics': 11, 'alpha': 0.00909090909090909}, {'n_topics': 13, 'alpha': 0.007692307692307693}, {'n_topics': 15, 'alpha': 0.006666666666666667}, {'n_topics': 17, 'alpha': 0.0058823529411764705}, {'n_topics': 19, 'alpha': 0.005263157894736842}, {'n_topics': 21, 'alpha': 0.004761904761904762}, {'n_topics': 23, 'alpha': 0.004347826086956522}]\n"
          ],
          "name": "stdout"
        }
      ]
    },
    {
      "cell_type": "code",
      "metadata": {
        "colab_type": "code",
        "id": "77VFq5JQ2mLh",
        "colab": {}
      },
      "source": [
        "from tmtoolkit.topicmod import tm_lda\n",
        "eval_results = tm_lda.evaluate_topic_models(dtm_sm, varying_params, const_params)"
      ],
      "execution_count": 0,
      "outputs": []
    },
    {
      "cell_type": "code",
      "metadata": {
        "colab_type": "code",
        "id": "HS8YKqBG2mLj",
        "outputId": "2f8423f8-7967-4a71-da1d-4422b2676467",
        "colab": {
          "base_uri": "https://localhost:8080/",
          "height": 57
        }
      },
      "source": [
        "from tmtoolkit.topicmod.evaluate import results_by_parameter\n",
        "from tmtoolkit.topicmod.visualize import plot_eval_results\n",
        "\n",
        "results_by_n_topics = results_by_parameter(eval_results, 'n_topics')\n",
        "print(results_by_n_topics)"
      ],
      "execution_count": 0,
      "outputs": [
        {
          "output_type": "stream",
          "text": [
            "[(1, {'cao_juan_2009': nan, 'arun_2010': 796.7360855775535, 'coherence_mimno_2011': -2.6628224416905812}), (3, {'cao_juan_2009': 0.32215421635309655, 'arun_2010': 742.998497607197, 'coherence_mimno_2011': -5.354434178206318}), (5, {'cao_juan_2009': 0.37530998981348407, 'arun_2010': 671.3605900136553, 'coherence_mimno_2011': -2.6674161687955387}), (7, {'cao_juan_2009': 0.38218571205454427, 'arun_2010': 642.230364077185, 'coherence_mimno_2011': -2.7332654267931766}), (9, {'cao_juan_2009': 0.3881575331106755, 'arun_2010': 606.4433762627672, 'coherence_mimno_2011': -2.7254004513049925}), (11, {'cao_juan_2009': 0.3931912293587558, 'arun_2010': 569.4927656984792, 'coherence_mimno_2011': -2.7289966893383517}), (13, {'cao_juan_2009': 0.4167117539873163, 'arun_2010': 558.8391352988743, 'coherence_mimno_2011': -3.033573583994496}), (15, {'cao_juan_2009': 0.3705955294326799, 'arun_2010': 562.092758533572, 'coherence_mimno_2011': -3.1546630724817097}), (17, {'cao_juan_2009': 0.3726196700072066, 'arun_2010': 535.6564836061947, 'coherence_mimno_2011': -4.158828088763264}), (19, {'cao_juan_2009': 0.3934373279687913, 'arun_2010': 520.3763276877366, 'coherence_mimno_2011': -2.895408143606667}), (21, {'cao_juan_2009': 0.34575240590168477, 'arun_2010': 516.9465363716586, 'coherence_mimno_2011': -3.3327402180737002}), (23, {'cao_juan_2009': 0.38638224999773474, 'arun_2010': 510.3248591418358, 'coherence_mimno_2011': -3.9117351856760014})]\n"
          ],
          "name": "stdout"
        }
      ]
    },
    {
      "cell_type": "code",
      "metadata": {
        "colab_type": "code",
        "id": "KW252PqK2mLl",
        "outputId": "7930f0e1-45ed-47d2-ca0a-428bf21262f5",
        "colab": {
          "base_uri": "https://localhost:8080/",
          "height": 490
        }
      },
      "source": [
        "plot_eval_results(results_by_n_topics)"
      ],
      "execution_count": 0,
      "outputs": [
        {
          "output_type": "execute_result",
          "data": {
            "text/plain": [
              "(<Figure size 576x432 with 3 Axes>,\n",
              " array([<matplotlib.axes._subplots.AxesSubplot object at 0x7efbbef6d208>,\n",
              "        <matplotlib.axes._subplots.AxesSubplot object at 0x7efbd2462390>,\n",
              "        <matplotlib.axes._subplots.AxesSubplot object at 0x7efbbeee9208>],\n",
              "       dtype=object))"
            ]
          },
          "metadata": {
            "tags": []
          },
          "execution_count": 79
        },
        {
          "output_type": "display_data",
          "data": {
            "image/png": "[encoded data removed]",
            "text/plain": [
              "<Figure size 576x432 with 3 Axes>"
            ]
          },
          "metadata": {
            "tags": []
          }
        }
      ]
    },
    {
      "cell_type": "markdown",
      "metadata": {
        "id": "PAjr2O5YdDWr",
        "colab_type": "text"
      },
      "source": [
        "# **Topic Names and Classification**"
      ]
    },
    {
      "cell_type": "code",
      "metadata": {
        "id": "_VDWeanWdPuB",
        "colab_type": "code",
        "outputId": "86467a94-8851-4c47-89f6-81e48cfbb3e6",
        "colab": {
          "base_uri": "https://localhost:8080/",
          "height": 77
        }
      },
      "source": [
        "from tmtoolkit.topicmod.model_io import ldamodel_top_doc_topics\n",
        "from tmtoolkit.bow.bow_stats import doc_lengths\n",
        "from tmtoolkit.topicmod.model_stats import generate_topic_labels_from_top_words\n",
        "print(model_sm)\n",
        "doc_topic = model_sm.doc_topic_\n",
        "doc_labels = np.array(preproc_smaller.doc_labels)\n",
        "topic_words = model_sm.topic_word_\n",
        "\n",
        "doc_lengths_sm = doc_lengths(dtm_sm)\n",
        "\n",
        "print(len(doc_topic))\n",
        "print(len(doc_lengths_sm))\n",
        "\n",
        "# remove 'uncommon words' preprocessing\n",
        "topic_labels = generate_topic_labels_from_top_words(\n",
        "    topic_words,\n",
        "    doc_topic,\n",
        "    doc_lengths_sm,\n",
        "    vocab_sm,\n",
        "    lambda_=.1\n",
        ")\n",
        "\n",
        "documentclassifications = ldamodel_top_doc_topics(doc_topic, doc_labels, top_n=2, topic_labels=topic_labels)\n",
        "\n",
        "for index,arrow in documentclassifications.iterrows():\n",
        "  documentclassifications.set_value(index, 'text', corpus[index])"
      ],
      "execution_count": 0,
      "outputs": [
        {
          "output_type": "stream",
          "text": [
            "<lda.lda.LDA object at 0x7efbbef604a8>\n",
            "27081\n",
            "27081\n"
          ],
          "name": "stdout"
        }
      ]
    },
    {
      "cell_type": "code",
      "metadata": {
        "id": "wLsLrCtfdo5e",
        "colab_type": "code",
        "outputId": "28537aca-7238-457c-b005-0ce5055fb27e",
        "colab": {
          "base_uri": "https://localhost:8080/",
          "height": 77
        }
      },
      "source": [
        "print('Results:')\n",
        "lookup = documentclassifications[documentclassifications['text'].str.contains('gift')]\n",
        "print([lookup['text'].iloc[0], lookup['rank_1'].iloc[0]])"
      ],
      "execution_count": 0,
      "outputs": [
        {
          "output_type": "stream",
          "text": [
            "Results:\n",
            "[\"As a Christmas gift for my friend, I ordered a Men's size 8; oops, too small!  After I paid $9.76 to ship it back to exchange for a size 9, the vendor sends me a refund.  I had to re-order the sandal from another vendor and pay $10 more for the sandal.  I received the Men's size 9 one week later than promised (I guess it rode around on the UPS truck for a week before it was finally delivered).  So what, just happy to finally to receive this long awaited gift and give it to my friend.  Oh noooo!  the size 9 is still too small!  Now it is just sitting in my garage on the work bench.  Will have to find someone else to gift it to since it costs too much to ship back.  Oh well.\", '18_gift (0.2145)']\n"
          ],
          "name": "stdout"
        }
      ]
    },
    {
      "cell_type": "code",
      "metadata": {
        "id": "NlSTC_bK0Kun",
        "colab_type": "code",
        "outputId": "d43efe90-58d5-470b-b27a-db776c374dc0",
        "colab": {
          "base_uri": "https://localhost:8080/",
          "height": 57
        }
      },
      "source": [
        "print('Results:')\n",
        "lookup = documentclassifications[documentclassifications['text'].str.contains('like')]\n",
        "print([lookup['text'].iloc[0], lookup['rank_1'].iloc[0]])"
      ],
      "execution_count": 0,
      "outputs": [
        {
          "output_type": "stream",
          "text": [
            "Results:\n",
            "['Comfortable.  Fits like I expected. A bit pricey but its worth it.  Product was just as it was described.  Great', '39_bra (0.2308)']\n"
          ],
          "name": "stdout"
        }
      ]
    },
    {
      "cell_type": "code",
      "metadata": {
        "id": "AWxNkkCQ1X8W",
        "colab_type": "code",
        "outputId": "ea896b25-34a8-4316-85b1-a555255b97e0",
        "colab": {
          "base_uri": "https://localhost:8080/",
          "height": 57
        }
      },
      "source": [
        "print('Results:')\n",
        "lookup = documentclassifications[documentclassifications['text'].str.contains('dislike')]\n",
        "print([lookup['text'].iloc[0], lookup['rank_1'].iloc[0]])"
      ],
      "execution_count": 0,
      "outputs": [
        {
          "output_type": "stream",
          "text": [
            "Results:\n",
            "[\"I  would recommend this to all of mine friends.  I rate it a 5 star because it is very comfortable.  I didn't dislike anything about this sandal. It was for my father in law.\", '11_feedback (0.3388)']\n"
          ],
          "name": "stdout"
        }
      ]
    },
    {
      "cell_type": "code",
      "metadata": {
        "id": "EpEyNN4J1fKZ",
        "colab_type": "code",
        "outputId": "6912d3b0-4060-4581-d788-114ba07affe0",
        "colab": {
          "base_uri": "https://localhost:8080/",
          "height": 77
        }
      },
      "source": [
        "print('Results:')\n",
        "lookup = documentclassifications[documentclassifications['text'].str.contains('suggest')]\n",
        "print([lookup['text'].iloc[0], lookup['rank_1'].iloc[0]])"
      ],
      "execution_count": 0,
      "outputs": [
        {
          "output_type": "stream",
          "text": [
            "Results:\n",
            "['These Sandals are lightweight & very comfortable.  They certainly run small, I definitely suggest to buy a size up! I am so grateful for all the reviews that suggested to buy a size up.  My husband wears a size 11 we bought a 12 and they fit perfect.  We will probably be buying another pair soon!', '2_half (0.3388)']\n"
          ],
          "name": "stdout"
        }
      ]
    },
    {
      "cell_type": "code",
      "metadata": {
        "id": "5WTh50yO1zE-",
        "colab_type": "code",
        "outputId": "8440a3c0-3a3d-47ec-c8c2-1a585fcb0404",
        "colab": {
          "base_uri": "https://localhost:8080/",
          "height": 77
        }
      },
      "source": [
        "print('Results:')\n",
        "lookup = documentclassifications[documentclassifications['text'].str.contains('develope')]\n",
        "print([lookup['text'].iloc[0], lookup['rank_1'].iloc[0]])"
      ],
      "execution_count": 0,
      "outputs": [
        {
          "output_type": "stream",
          "text": [
            "Results:\n",
            "[\"The Supernova Sequence 3 is a solid training shoe for those looking for stability. I bought these shoes expecting a narrow stability trainer, since I have long narrow feet, and knowing adidas' reputation making narrow shoes. These shoes have a very solid feel while running while offering decent cushioning. As expected they are narrow. As much as I like these shoes, on the downside I noticed my large toe becoming sore from pressing down in the shoe, and I developed a blister on the inside of the toe next to my big toe on the left foot and a blister on the tip of the toe next to the big toe on the right foot. Additionally, the arches on both feet became strained and developed minor blisters as well. Finally, I experienced sweaty feet - which I normally don't experience - while wearing these shoes, which may have contributed to the blisters. With all that being said I feel like it is too soon to say weather I would recommend these shoes to anyone. My initial impression of the shoes was great, but as these problems have started to arise I've started to question whether they're the right shoes for me. The shoes I was running in prior to running in the Supernova Sequence 3 is the Brooks Adrenaline 11, which I intend to go back to and see what difference I notice. I typically run 5 - 6 days per week and average 30 - 50 miles per week.\", '25_achilles (0.4435)']\n"
          ],
          "name": "stdout"
        }
      ]
    },
    {
      "cell_type": "code",
      "metadata": {
        "id": "soP4e1FOdvVT",
        "colab_type": "code",
        "outputId": "f61b8500-7993-489c-aa79-96f264169688",
        "colab": {
          "base_uri": "https://localhost:8080/",
          "height": 37
        }
      },
      "source": [
        "from google.colab import drive\n",
        "drive.mount('/content/drive', force_remount=True)\n",
        "documentclassifications.to_excel('drive/My Drive/Colab Notebooks/APRD6343_NEW/topic.documentclassificationnew2.xlsx')"
      ],
      "execution_count": 0,
      "outputs": [
        {
          "output_type": "stream",
          "text": [
            "Mounted at /content/drive\n"
          ],
          "name": "stdout"
        }
      ]
    },
    {
      "cell_type": "markdown",
      "metadata": {
        "id": "x67WWayEiYLC",
        "colab_type": "text"
      },
      "source": [
        ""
      ]
    }
  ]
}