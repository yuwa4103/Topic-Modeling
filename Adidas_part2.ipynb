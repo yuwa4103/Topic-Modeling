{
  "nbformat": 4,
  "nbformat_minor": 0,
  "metadata": {
    "colab": {
      "name": "Adidas_part2.ipynb",
      "provenance": []
    },
    "kernelspec": {
      "name": "python3",
      "display_name": "Python 3"
    }
  },
  "cells": [
    {
      "cell_type": "markdown",
      "metadata": {
        "id": "XY1WfI7dawkM",
        "colab_type": "text"
      },
      "source": [
        "# **Preprocessing**"
      ]
    },
    {
      "cell_type": "code",
      "metadata": {
        "id": "8lZVjJosL0AA",
        "colab_type": "code",
        "outputId": "cb00b1c5-8c5c-4a5a-b8ee-4649d903dacf",
        "colab": {
          "base_uri": "https://localhost:8080/",
          "height": 137
        }
      },
      "source": [
        "import json\n",
        "import pandas as pd\n",
        "import numpy as np\n",
        "\n",
        "from google.colab import drive\n",
        "drive.mount('/content/drive')\n",
        "barbellsreviews = json.load(open('drive/My Drive/Colab Notebooks/APRD6343_NEW/adidasreviews1.json','r'))"
      ],
      "execution_count": 0,
      "outputs": [
        {
          "output_type": "stream",
          "text": [
            "Go to this URL in a browser: https://accounts.google.com/o/oauth2/auth?client_id=947318989803-6bn6qk8qdgf4n4g3pfee6491hc0brc4i.apps.googleusercontent.com&redirect_uri=urn%3aietf%3awg%3aoauth%3a2.0%3aoob&response_type=code&scope=email%20https%3a%2f%2fwww.googleapis.com%2fauth%2fdocs.test%20https%3a%2f%2fwww.googleapis.com%2fauth%2fdrive%20https%3a%2f%2fwww.googleapis.com%2fauth%2fdrive.photos.readonly%20https%3a%2f%2fwww.googleapis.com%2fauth%2fpeopleapi.readonly\n",
            "\n",
            "Enter your authorization code:\n",
            "··········\n",
            "Mounted at /content/drive\n"
          ],
          "name": "stdout"
        }
      ]
    },
    {
      "cell_type": "code",
      "metadata": {
        "id": "JdSrwyQvLx_x",
        "colab_type": "code",
        "colab": {}
      },
      "source": [
        "barbellstext = []\n",
        "for areview in barbellsreviews:\n",
        "  areview = barbellsreviews[areview]\n",
        "  if 'reviewText' in areview:\n",
        "    barbellstext.append(areview['reviewText'])\n",
        "\n",
        "# convert review texts to dictionary\n",
        "barbellsdict = dict(zip(range(len(barbellstext)), barbellstext))"
      ],
      "execution_count": 0,
      "outputs": []
    },
    {
      "cell_type": "code",
      "metadata": {
        "id": "Zf2bvN9XkRfI",
        "colab_type": "code",
        "outputId": "9613004e-bb8c-46bd-b95e-4d081788ffb1",
        "colab": {
          "base_uri": "https://localhost:8080/",
          "height": 1000
        }
      },
      "source": [
        "! pip install tmtoolkit\n",
        "\n",
        "import nltk\n",
        "nltk.download('stopwords')\n",
        "nltk.download('punkt')\n",
        "nltk.download('averaged_perceptron_tagger')\n",
        "nltk.download('wordnet')"
      ],
      "execution_count": 0,
      "outputs": [
        {
          "output_type": "stream",
          "text": [
            "Collecting tmtoolkit\n",
            "\u001b[?25l  Downloading https://files.pythonhosted.org/packages/78/4b/03d1620dc30f99bb03bbcebcb93795f88a49e5875756ebc3871092f04e82/tmtoolkit-0.9.0-py3-none-any.whl (19.9MB)\n",
            "\u001b[K     |████████████████████████████████| 19.9MB 1.4MB/s \n",
            "\u001b[?25hCollecting germalemma>=0.1.3\n",
            "\u001b[?25l  Downloading https://files.pythonhosted.org/packages/c1/94/b335fa67ec8dd6fca977769c17f657526f66e0bcb3a10f44f890ea16555a/germalemma-0.1.3-py3-none-any.whl (2.3MB)\n",
            "\u001b[K     |████████████████████████████████| 2.3MB 37.3MB/s \n",
            "\u001b[?25hRequirement already satisfied: pandas>=0.25.0 in /usr/local/lib/python3.6/dist-packages (from tmtoolkit) (0.25.3)\n",
            "Requirement already satisfied: matplotlib>=3.1.0 in /usr/local/lib/python3.6/dist-packages (from tmtoolkit) (3.1.3)\n",
            "Collecting deprecation>=2.0.0\n",
            "  Downloading https://files.pythonhosted.org/packages/b9/2a/d5084a8781398cea745c01237b95d9762c382697c63760a95cc6a814ad3a/deprecation-2.0.7-py2.py3-none-any.whl\n",
            "Collecting nltk>=3.4.0\n",
            "\u001b[?25l  Downloading https://files.pythonhosted.org/packages/f6/1d/d925cfb4f324ede997f6d47bea4d9babba51b49e87a767c170b77005889d/nltk-3.4.5.zip (1.5MB)\n",
            "\u001b[K     |████████████████████████████████| 1.5MB 40.1MB/s \n",
            "\u001b[?25hRequirement already satisfied: numpy>=1.17.0 in /usr/local/lib/python3.6/dist-packages (from tmtoolkit) (1.17.5)\n",
            "Collecting xlrd>=1.2.0\n",
            "\u001b[?25l  Downloading https://files.pythonhosted.org/packages/b0/16/63576a1a001752e34bf8ea62e367997530dc553b689356b9879339cf45a4/xlrd-1.2.0-py2.py3-none-any.whl (103kB)\n",
            "\u001b[K     |████████████████████████████████| 112kB 57.0MB/s \n",
            "\u001b[?25hCollecting globre>=0.1.5\n",
            "  Downloading https://files.pythonhosted.org/packages/5a/ce/a9e2f3317a458f8c591a1f95d4061d4e241f529ba678292acdcf2d804783/globre-0.1.5.tar.gz\n",
            "Requirement already satisfied: scipy>=1.3.0 in /usr/local/lib/python3.6/dist-packages (from tmtoolkit) (1.4.1)\n",
            "Collecting PatternLite>=3.6\n",
            "\u001b[?25l  Downloading https://files.pythonhosted.org/packages/50/f5/1894eb24102cae0e433c18366ec2a8d945b42cbf128303b67454db8587d8/PatternLite-3.6-py3-none-any.whl (22.1MB)\n",
            "\u001b[K     |████████████████████████████████| 22.1MB 184kB/s \n",
            "\u001b[?25hCollecting Pyphen>=0.9.5\n",
            "\u001b[?25l  Downloading https://files.pythonhosted.org/packages/15/82/08a3629dce8d1f3d91db843bb36d4d7db6b6269d5067259613a0d5c8a9db/Pyphen-0.9.5-py2.py3-none-any.whl (3.0MB)\n",
            "\u001b[K     |████████████████████████████████| 3.0MB 30.0MB/s \n",
            "\u001b[?25hRequirement already satisfied: pytz>=2017.2 in /usr/local/lib/python3.6/dist-packages (from pandas>=0.25.0->tmtoolkit) (2018.9)\n",
            "Requirement already satisfied: python-dateutil>=2.6.1 in /usr/local/lib/python3.6/dist-packages (from pandas>=0.25.0->tmtoolkit) (2.6.1)\n",
            "Requirement already satisfied: cycler>=0.10 in /usr/local/lib/python3.6/dist-packages (from matplotlib>=3.1.0->tmtoolkit) (0.10.0)\n",
            "Requirement already satisfied: kiwisolver>=1.0.1 in /usr/local/lib/python3.6/dist-packages (from matplotlib>=3.1.0->tmtoolkit) (1.1.0)\n",
            "Requirement already satisfied: pyparsing!=2.0.4,!=2.1.2,!=2.1.6,>=2.0.1 in /usr/local/lib/python3.6/dist-packages (from matplotlib>=3.1.0->tmtoolkit) (2.4.6)\n",
            "Requirement already satisfied: packaging in /usr/local/lib/python3.6/dist-packages (from deprecation>=2.0.0->tmtoolkit) (20.1)\n",
            "Requirement already satisfied: six in /usr/local/lib/python3.6/dist-packages (from nltk>=3.4.0->tmtoolkit) (1.12.0)\n",
            "Requirement already satisfied: setuptools in /usr/local/lib/python3.6/dist-packages (from kiwisolver>=1.0.1->matplotlib>=3.1.0->tmtoolkit) (45.1.0)\n",
            "Building wheels for collected packages: nltk, globre\n",
            "  Building wheel for nltk (setup.py) ... \u001b[?25l\u001b[?25hdone\n",
            "  Created wheel for nltk: filename=nltk-3.4.5-cp36-none-any.whl size=1449906 sha256=d6f34bd1cad16e12c6c1922fef58c57047e1e2918109441cd943f9acb03136a9\n",
            "  Stored in directory: /root/.cache/pip/wheels/96/86/f6/68ab24c23f207c0077381a5e3904b2815136b879538a24b483\n",
            "  Building wheel for globre (setup.py) ... \u001b[?25l\u001b[?25hdone\n",
            "  Created wheel for globre: filename=globre-0.1.5-cp36-none-any.whl size=19528 sha256=393cbdeb200a9271a76710130b4d56c22f662eab6c12b7d8a0b9024a63661ed3\n",
            "  Stored in directory: /root/.cache/pip/wheels/c4/3f/7f/be546f6d880521a8a7a1fe84cbe135fa859be63084682d3292\n",
            "Successfully built nltk globre\n",
            "Installing collected packages: nltk, PatternLite, Pyphen, germalemma, deprecation, xlrd, globre, tmtoolkit\n",
            "  Found existing installation: nltk 3.2.5\n",
            "    Uninstalling nltk-3.2.5:\n",
            "      Successfully uninstalled nltk-3.2.5\n",
            "  Found existing installation: xlrd 1.1.0\n",
            "    Uninstalling xlrd-1.1.0:\n",
            "      Successfully uninstalled xlrd-1.1.0\n",
            "Successfully installed PatternLite-3.6 Pyphen-0.9.5 deprecation-2.0.7 germalemma-0.1.3 globre-0.1.5 nltk-3.4.5 tmtoolkit-0.9.0 xlrd-1.2.0\n"
          ],
          "name": "stdout"
        },
        {
          "output_type": "stream",
          "text": [
            "[nltk_data] Downloading package stopwords to /root/nltk_data...\n",
            "[nltk_data]   Unzipping corpora/stopwords.zip.\n",
            "[nltk_data] Downloading package punkt to /root/nltk_data...\n",
            "[nltk_data]   Unzipping tokenizers/punkt.zip.\n",
            "[nltk_data] Downloading package averaged_perceptron_tagger to\n",
            "[nltk_data]     /root/nltk_data...\n",
            "[nltk_data]   Unzipping taggers/averaged_perceptron_tagger.zip.\n",
            "[nltk_data] Downloading package wordnet to /root/nltk_data...\n",
            "[nltk_data]   Unzipping corpora/wordnet.zip.\n"
          ],
          "name": "stderr"
        },
        {
          "output_type": "execute_result",
          "data": {
            "text/plain": [
              "True"
            ]
          },
          "metadata": {
            "tags": []
          },
          "execution_count": 3
        }
      ]
    },
    {
      "cell_type": "code",
      "metadata": {
        "id": "S3F6WiKklZrv",
        "colab_type": "code",
        "colab": {}
      },
      "source": [
        "import random\n",
        "random.seed(20191120) # to make the sampling reproducible\n",
        "np.set_printoptions(precision=5)\n",
        "from tmtoolkit.corpus import Corpus\n",
        "corpus = Corpus()\n",
        "\n",
        "# add documents to corpus\n",
        "for key in barbellsdict:\n",
        "  corpus.add_doc(str(key), barbellsdict[key])"
      ],
      "execution_count": 0,
      "outputs": []
    },
    {
      "cell_type": "code",
      "metadata": {
        "id": "6snYyM82or8r",
        "colab_type": "code",
        "outputId": "0f9ef875-7c1a-4078-a608-79b2ce658ed5",
        "colab": {
          "base_uri": "https://localhost:8080/",
          "height": 57
        }
      },
      "source": [
        "print(len(corpus))\n",
        "corpus.doc_labels\n",
        "corpus['91']"
      ],
      "execution_count": 0,
      "outputs": [
        {
          "output_type": "stream",
          "text": [
            "27511\n"
          ],
          "name": "stdout"
        },
        {
          "output_type": "execute_result",
          "data": {
            "text/plain": [
              "'My daughter kept borrowing the pair my husband has. She lives the textured surface on her feet. They fit perfectly.'"
            ]
          },
          "metadata": {
            "tags": []
          },
          "execution_count": 5
        }
      ]
    },
    {
      "cell_type": "code",
      "metadata": {
        "id": "8XC5EGelporA",
        "colab_type": "code",
        "outputId": "aa07e759-9e80-410a-b84c-1cf517bd0685",
        "colab": {
          "base_uri": "https://localhost:8080/",
          "height": 365
        }
      },
      "source": [
        "import matplotlib\n",
        "matplotlib.pyplot.hist(corpus.doc_lengths.values()) "
      ],
      "execution_count": 0,
      "outputs": [
        {
          "output_type": "execute_result",
          "data": {
            "text/plain": [
              "(array([2.6967e+04, 4.8900e+02, 3.9000e+01, 1.1000e+01, 2.0000e+00,\n",
              "        1.0000e+00, 1.0000e+00, 0.0000e+00, 0.0000e+00, 1.0000e+00]),\n",
              " array([    0. ,  1024.1,  2048.2,  3072.3,  4096.4,  5120.5,  6144.6,\n",
              "         7168.7,  8192.8,  9216.9, 10241. ]),\n",
              " <a list of 10 Patch objects>)"
            ]
          },
          "metadata": {
            "tags": []
          },
          "execution_count": 6
        },
        {
          "output_type": "display_data",
          "data": {
            "image/png": "[encoded data removed]",
            "text/plain": [
              "<Figure size 432x288 with 1 Axes>"
            ]
          },
          "metadata": {
            "tags": []
          }
        }
      ]
    },
    {
      "cell_type": "code",
      "metadata": {
        "id": "iK2ndUIGqGgU",
        "colab_type": "code",
        "outputId": "34448454-af3c-496c-aff5-2d3d6c45c915",
        "colab": {
          "base_uri": "https://localhost:8080/",
          "height": 37
        }
      },
      "source": [
        "# https://tmtoolkit.readthedocs.io/en/latest/preprocessing.html\n",
        "from tmtoolkit.preprocess import TMPreproc\n",
        "\n",
        "preproc = TMPreproc(corpus)\n",
        "preproc.pos_tag()\n",
        "preproc.lemmatize()\n",
        "preproc.tokens_to_lowercase()\n",
        "preproc.remove_special_chars_in_tokens()\n",
        "preproc.add_stopwords(['http','nt'])"
      ],
      "execution_count": 0,
      "outputs": [
        {
          "output_type": "execute_result",
          "data": {
            "text/plain": [
              "<TMPreproc [27511 documents]>"
            ]
          },
          "metadata": {
            "tags": []
          },
          "execution_count": 7
        }
      ]
    },
    {
      "cell_type": "code",
      "metadata": {
        "id": "jhy-cTvrrSby",
        "colab_type": "code",
        "outputId": "ff59cbe2-3df8-4294-cb6a-765b34f60e46",
        "colab": {
          "base_uri": "https://localhost:8080/",
          "height": 37
        }
      },
      "source": [
        "corpus['91']"
      ],
      "execution_count": 0,
      "outputs": [
        {
          "output_type": "execute_result",
          "data": {
            "text/plain": [
              "'My daughter kept borrowing the pair my husband has. She lives the textured surface on her feet. They fit perfectly.'"
            ]
          },
          "metadata": {
            "tags": []
          },
          "execution_count": 8
        }
      ]
    },
    {
      "cell_type": "code",
      "metadata": {
        "id": "CWzRPUV2sNO9",
        "colab_type": "code",
        "outputId": "500a0ae1-3517-4a2f-b591-883c573a8d64",
        "colab": {
          "base_uri": "https://localhost:8080/",
          "height": 477
        }
      },
      "source": [
        "preproc.tokens['91']"
      ],
      "execution_count": 0,
      "outputs": [
        {
          "output_type": "execute_result",
          "data": {
            "text/plain": [
              "['my',\n",
              " 'daughter',\n",
              " 'keep',\n",
              " 'borrow',\n",
              " 'the',\n",
              " 'pair',\n",
              " 'my',\n",
              " 'husband',\n",
              " 'have',\n",
              " '',\n",
              " 'she',\n",
              " 'live',\n",
              " 'the',\n",
              " 'textured',\n",
              " 'surface',\n",
              " 'on',\n",
              " 'her',\n",
              " 'foot',\n",
              " '',\n",
              " 'they',\n",
              " 'fit',\n",
              " 'perfectly',\n",
              " '']"
            ]
          },
          "metadata": {
            "tags": []
          },
          "execution_count": 9
        }
      ]
    },
    {
      "cell_type": "code",
      "metadata": {
        "id": "dqnuPfQsthpN",
        "colab_type": "code",
        "outputId": "8b36bc8b-b0b1-4f48-c13a-9a21d6ad0e97",
        "colab": {
          "base_uri": "https://localhost:8080/",
          "height": 37
        }
      },
      "source": [
        "preproc.vocabulary_size"
      ],
      "execution_count": 0,
      "outputs": [
        {
          "output_type": "execute_result",
          "data": {
            "text/plain": [
              "29204"
            ]
          },
          "metadata": {
            "tags": []
          },
          "execution_count": 10
        }
      ]
    },
    {
      "cell_type": "code",
      "metadata": {
        "id": "h1vLjOuKtlHv",
        "colab_type": "code",
        "colab": {}
      },
      "source": [
        "#preproc.stem()"
      ],
      "execution_count": 0,
      "outputs": []
    },
    {
      "cell_type": "code",
      "metadata": {
        "id": "Tn94Xq95tp9t",
        "colab_type": "code",
        "outputId": "eff0d5fd-827b-4dc8-c96b-5729ed8b362f",
        "colab": {
          "base_uri": "https://localhost:8080/",
          "height": 477
        }
      },
      "source": [
        "preproc.tokens['91']"
      ],
      "execution_count": 0,
      "outputs": [
        {
          "output_type": "execute_result",
          "data": {
            "text/plain": [
              "['my',\n",
              " 'daughter',\n",
              " 'keep',\n",
              " 'borrow',\n",
              " 'the',\n",
              " 'pair',\n",
              " 'my',\n",
              " 'husband',\n",
              " 'have',\n",
              " '',\n",
              " 'she',\n",
              " 'live',\n",
              " 'the',\n",
              " 'textured',\n",
              " 'surface',\n",
              " 'on',\n",
              " 'her',\n",
              " 'foot',\n",
              " '',\n",
              " 'they',\n",
              " 'fit',\n",
              " 'perfectly',\n",
              " '']"
            ]
          },
          "metadata": {
            "tags": []
          },
          "execution_count": 12
        }
      ]
    },
    {
      "cell_type": "code",
      "metadata": {
        "id": "CFE3mZzouhoM",
        "colab_type": "code",
        "outputId": "15e9d49f-46aa-47f3-d23f-4127abb98201",
        "colab": {
          "base_uri": "https://localhost:8080/",
          "height": 433
        }
      },
      "source": [
        "preproc.tokens_datatable"
      ],
      "execution_count": 0,
      "outputs": [
        {
          "output_type": "execute_result",
          "data": {
            "text/html": [
              "<div>\n",
              "<style scoped>\n",
              "    .dataframe tbody tr th:only-of-type {\n",
              "        vertical-align: middle;\n",
              "    }\n",
              "\n",
              "    .dataframe tbody tr th {\n",
              "        vertical-align: top;\n",
              "    }\n",
              "\n",
              "    .dataframe thead th {\n",
              "        text-align: right;\n",
              "    }\n",
              "</style>\n",
              "<table border=\"1\" class=\"dataframe\">\n",
              "  <thead>\n",
              "    <tr style=\"text-align: right;\">\n",
              "      <th></th>\n",
              "      <th>doc</th>\n",
              "      <th>position</th>\n",
              "      <th>token</th>\n",
              "      <th>meta_pos</th>\n",
              "    </tr>\n",
              "  </thead>\n",
              "  <tbody>\n",
              "    <tr>\n",
              "      <th>0</th>\n",
              "      <td>0</td>\n",
              "      <td>0</td>\n",
              "      <td>a</td>\n",
              "      <td>DT</td>\n",
              "    </tr>\n",
              "    <tr>\n",
              "      <th>1</th>\n",
              "      <td>0</td>\n",
              "      <td>1</td>\n",
              "      <td>great</td>\n",
              "      <td>JJ</td>\n",
              "    </tr>\n",
              "    <tr>\n",
              "      <th>2</th>\n",
              "      <td>0</td>\n",
              "      <td>2</td>\n",
              "      <td>shoe</td>\n",
              "      <td>NN</td>\n",
              "    </tr>\n",
              "    <tr>\n",
              "      <th>3</th>\n",
              "      <td>0</td>\n",
              "      <td>3</td>\n",
              "      <td></td>\n",
              "      <td>.</td>\n",
              "    </tr>\n",
              "    <tr>\n",
              "      <th>4</th>\n",
              "      <td>0</td>\n",
              "      <td>4</td>\n",
              "      <td>does</td>\n",
              "      <td>VBZ</td>\n",
              "    </tr>\n",
              "    <tr>\n",
              "      <th>...</th>\n",
              "      <td>...</td>\n",
              "      <td>...</td>\n",
              "      <td>...</td>\n",
              "      <td>...</td>\n",
              "    </tr>\n",
              "    <tr>\n",
              "      <th>36</th>\n",
              "      <td>9999</td>\n",
              "      <td>36</td>\n",
              "      <td>but</td>\n",
              "      <td>CC</td>\n",
              "    </tr>\n",
              "    <tr>\n",
              "      <th>37</th>\n",
              "      <td>9999</td>\n",
              "      <td>37</td>\n",
              "      <td>yo</td>\n",
              "      <td>JJ</td>\n",
              "    </tr>\n",
              "    <tr>\n",
              "      <th>38</th>\n",
              "      <td>9999</td>\n",
              "      <td>38</td>\n",
              "      <td>ucan</td>\n",
              "      <td>JJ</td>\n",
              "    </tr>\n",
              "    <tr>\n",
              "      <th>39</th>\n",
              "      <td>9999</td>\n",
              "      <td>39</td>\n",
              "      <td>expect</td>\n",
              "      <td>NN</td>\n",
              "    </tr>\n",
              "    <tr>\n",
              "      <th>40</th>\n",
              "      <td>9999</td>\n",
              "      <td>40</td>\n",
              "      <td>that</td>\n",
              "      <td>IN</td>\n",
              "    </tr>\n",
              "  </tbody>\n",
              "</table>\n",
              "<p>1549994 rows × 4 columns</p>\n",
              "</div>"
            ],
            "text/plain": [
              "     doc  position   token meta_pos\n",
              "0      0         0       a       DT\n",
              "1      0         1   great       JJ\n",
              "2      0         2    shoe       NN\n",
              "3      0         3                .\n",
              "4      0         4    does      VBZ\n",
              "..   ...       ...     ...      ...\n",
              "36  9999        36     but       CC\n",
              "37  9999        37      yo       JJ\n",
              "38  9999        38    ucan       JJ\n",
              "39  9999        39  expect       NN\n",
              "40  9999        40    that       IN\n",
              "\n",
              "[1549994 rows x 4 columns]"
            ]
          },
          "metadata": {
            "tags": []
          },
          "execution_count": 13
        }
      ]
    },
    {
      "cell_type": "code",
      "metadata": {
        "id": "kE41te-GvEPf",
        "colab_type": "code",
        "outputId": "691e1a18-75b4-4cdc-d20c-cdb4daf9331a",
        "colab": {
          "base_uri": "https://localhost:8080/",
          "height": 57
        }
      },
      "source": [
        "preproc_smaller = preproc.copy()\n",
        "preproc_smaller.filter_for_pos('N')\n",
        "preproc_smaller.clean_tokens(remove_numbers = True, remove_shorter_than = 2)\n",
        "preproc_smaller.remove_common_tokens(df_threshold = 1)\n",
        "#preproc_smaller.remove_uncommon_tokens(df_threshold = 0.005)\n",
        "\n",
        "print(preproc.vocabulary_size)\n",
        "print(preproc_smaller.vocabulary_size)"
      ],
      "execution_count": 0,
      "outputs": [
        {
          "output_type": "stream",
          "text": [
            "29204\n",
            "18503\n"
          ],
          "name": "stdout"
        }
      ]
    },
    {
      "cell_type": "code",
      "metadata": {
        "id": "Px5Z4vAH5Z_e",
        "colab_type": "code",
        "outputId": "b65aed58-b3f0-4963-b014-169c991797b7",
        "colab": {
          "base_uri": "https://localhost:8080/",
          "height": 465
        }
      },
      "source": [
        "preproc_smaller.tokens_dataframe"
      ],
      "execution_count": 0,
      "outputs": [
        {
          "output_type": "execute_result",
          "data": {
            "text/html": [
              "<div>\n",
              "<style scoped>\n",
              "    .dataframe tbody tr th:only-of-type {\n",
              "        vertical-align: middle;\n",
              "    }\n",
              "\n",
              "    .dataframe tbody tr th {\n",
              "        vertical-align: top;\n",
              "    }\n",
              "\n",
              "    .dataframe thead th {\n",
              "        text-align: right;\n",
              "    }\n",
              "</style>\n",
              "<table border=\"1\" class=\"dataframe\">\n",
              "  <thead>\n",
              "    <tr style=\"text-align: right;\">\n",
              "      <th></th>\n",
              "      <th></th>\n",
              "      <th>token</th>\n",
              "      <th>meta_pos</th>\n",
              "    </tr>\n",
              "    <tr>\n",
              "      <th>doc</th>\n",
              "      <th>position</th>\n",
              "      <th></th>\n",
              "      <th></th>\n",
              "    </tr>\n",
              "  </thead>\n",
              "  <tbody>\n",
              "    <tr>\n",
              "      <th rowspan=\"4\" valign=\"top\">0</th>\n",
              "      <th>0</th>\n",
              "      <td>shoe</td>\n",
              "      <td>NN</td>\n",
              "    </tr>\n",
              "    <tr>\n",
              "      <th>1</th>\n",
              "      <td>lot</td>\n",
              "      <td>NN</td>\n",
              "    </tr>\n",
              "    <tr>\n",
              "      <th>2</th>\n",
              "      <td>really</td>\n",
              "      <td>NNP</td>\n",
              "    </tr>\n",
              "    <tr>\n",
              "      <th>3</th>\n",
              "      <td>style</td>\n",
              "      <td>NN</td>\n",
              "    </tr>\n",
              "    <tr>\n",
              "      <th>1</th>\n",
              "      <th>0</th>\n",
              "      <td>pair</td>\n",
              "      <td>NNS</td>\n",
              "    </tr>\n",
              "    <tr>\n",
              "      <th>...</th>\n",
              "      <th>...</th>\n",
              "      <td>...</td>\n",
              "      <td>...</td>\n",
              "    </tr>\n",
              "    <tr>\n",
              "      <th rowspan=\"5\" valign=\"top\">9999</th>\n",
              "      <th>2</th>\n",
              "      <td>week</td>\n",
              "      <td>NN</td>\n",
              "    </tr>\n",
              "    <tr>\n",
              "      <th>3</th>\n",
              "      <td>function</td>\n",
              "      <td>NNS</td>\n",
              "    </tr>\n",
              "    <tr>\n",
              "      <th>4</th>\n",
              "      <td>anything</td>\n",
              "      <td>NN</td>\n",
              "    </tr>\n",
              "    <tr>\n",
              "      <th>5</th>\n",
              "      <td>side</td>\n",
              "      <td>NN</td>\n",
              "    </tr>\n",
              "    <tr>\n",
              "      <th>6</th>\n",
              "      <td>expect</td>\n",
              "      <td>NN</td>\n",
              "    </tr>\n",
              "  </tbody>\n",
              "</table>\n",
              "<p>293810 rows × 2 columns</p>\n",
              "</div>"
            ],
            "text/plain": [
              "                  token meta_pos\n",
              "doc  position                   \n",
              "0    0             shoe       NN\n",
              "     1              lot       NN\n",
              "     2           really      NNP\n",
              "     3            style       NN\n",
              "1    0             pair      NNS\n",
              "...                 ...      ...\n",
              "9999 2             week       NN\n",
              "     3         function      NNS\n",
              "     4         anything       NN\n",
              "     5             side       NN\n",
              "     6           expect       NN\n",
              "\n",
              "[293810 rows x 2 columns]"
            ]
          },
          "metadata": {
            "tags": []
          },
          "execution_count": 15
        }
      ]
    },
    {
      "cell_type": "code",
      "metadata": {
        "id": "Ffoi_2hxxcks",
        "colab_type": "code",
        "outputId": "2bfa976a-a981-4edb-a246-6d52263e8808",
        "colab": {
          "base_uri": "https://localhost:8080/",
          "height": 157
        }
      },
      "source": [
        "print(preproc.tokens['91'])\n",
        "print(preproc_smaller.tokens['91'])\n",
        "print(preproc.tokens['1'])\n",
        "print(preproc_smaller.tokens['1'])\n",
        "print(preproc.tokens['2000'])\n",
        "print(preproc_smaller.tokens['2000'])"
      ],
      "execution_count": 0,
      "outputs": [
        {
          "output_type": "stream",
          "text": [
            "['my', 'daughter', 'keep', 'borrow', 'the', 'pair', 'my', 'husband', 'have', '', 'she', 'live', 'the', 'textured', 'surface', 'on', 'her', 'foot', '', 'they', 'fit', 'perfectly', '']\n",
            "['daughter', 'pair', 'husband', 'surface', 'foot']\n",
            "['i', 'have', '4', 'pair', 'of', 'these', 'shoe', 'and', 'i', 'love', 'them', 'to', 'death', '', 'they', 'be', 'as', 'close', 'to', 'indestructable', 'as', 'any', 'shoe', 'i', 've', 'ever', 'own', '', 'then', 'you', 're', 'probably', 'ask', 'why', 'i', 'have', 'so', 'many', '', 'well', '', 'the', 'answer', 'be', 'that', 'this', 'be', 'the', 'only', 'shoe', 'i', 'know', 'of', 'that', 'come', 'in', 'so', 'many', 'color', '', 'i', 've', 'see', 'at', 'least', '7', 'or', '8', 'color', '', 'and', 'work', 'with', 'just', 'about', 'everything', 'in', 'your', 'wardrobe', '', 'jeans', '', 'khakis', '', 'whatever', 'they', 'work', '', 'and', 'i', 'love', 'em', '', '', '']\n",
            "['pair', 'shoe', 'death', 'shoe', 'well', 'answer', 'shoe', 'color', 'color', 'everything', 'wardrobe', 'jeans']\n",
            "['i', 'love', 'these', 'sandal', '', 'very', 'comfy', 'and', 'stylish', '', 'but', 'be', 'careful', 'not', 'to', 'leave', 'them', 'outside', '', 'first', 'pair', 'i', 'have', 'i', 'make', 'the', 'mistake', 'of', 'leave', 'outside', '', 'and', 'they', 'curl', 'up', 'from', 'the', 'heati', 'love', 'the', 'sandal', 'so', 'much', 'i', 'buy', 'a', 'second', 'pair', 'and', 'do', 'nt', 'use', 'them', 'outside', '', 'however', '', 'leave', 'them', 'in', 'a', 'hot', 'garage', 'for', 'a', 'couple', 'of', 'day', 'cause', 'the', 'same', 'reactionif', 'i', 'buy', 'a', '3rd', 'pair', '', 'which', 'i', 'will', 'if', 'the', 'price', 'drop', 'under', '', '25', '', '', 'i', 'will', 'only', 'keep', 'them', 'in', 'the', 'house', '', 'not', 'the', 'garage', 'or', 'outside', '', 'they', 'be', 'fine', 'to', 'use', 'outdoors', '', 'but', 'they', 'ca', 'nt', 'stand', 'be', 'leave', 'in', 'the', 'heat', 'with', 'no', 'pressure', 'to', 'keep', 'them', 'straight', '']\n",
            "['love', 'sandal', 'pair', 'mistake', 'heati', 'sandal', 'pair', 'garage', 'couple', 'day', 'reactionif', 'pair', 'price', 'drop', 'house', 'garage', 'outside', 'outdoors', 'heat', 'pressure']\n"
          ],
          "name": "stdout"
        }
      ]
    },
    {
      "cell_type": "code",
      "metadata": {
        "id": "BUziT5ftzVhz",
        "colab_type": "code",
        "outputId": "50003154-89d8-4090-a137-b7601133bceb",
        "colab": {
          "base_uri": "https://localhost:8080/",
          "height": 57
        }
      },
      "source": [
        "doc_labels = np.array(preproc.doc_labels)\n",
        "doc_labels[:10]"
      ],
      "execution_count": 0,
      "outputs": [
        {
          "output_type": "execute_result",
          "data": {
            "text/plain": [
              "array(['0', '1', '10', '100', '1000', '10000', '10001', '10002', '10003',\n",
              "       '10004'], dtype='<U5')"
            ]
          },
          "metadata": {
            "tags": []
          },
          "execution_count": 17
        }
      ]
    },
    {
      "cell_type": "code",
      "metadata": {
        "id": "3Z_PNqqPzdYm",
        "colab_type": "code",
        "colab": {}
      },
      "source": [
        "vocab_bg = np.array(preproc.vocabulary)\n",
        "vocab_sm = np.array(preproc_smaller.vocabulary)"
      ],
      "execution_count": 0,
      "outputs": []
    },
    {
      "cell_type": "code",
      "metadata": {
        "colab_type": "code",
        "id": "IPbjRQ7R0l7Q",
        "outputId": "fef91fc5-7c71-4210-be56-5e6e8091b5a1",
        "colab": {
          "base_uri": "https://localhost:8080/",
          "height": 97
        }
      },
      "source": [
        "dtm_bg = preproc.dtm # dtm - document term matrix\n",
        "dtm_sm = preproc_smaller.dtm\n",
        "\n",
        "dtm_bg, dtm_sm"
      ],
      "execution_count": 0,
      "outputs": [
        {
          "output_type": "execute_result",
          "data": {
            "text/plain": [
              "(<27511x29204 sparse matrix of type '<class 'numpy.int32'>'\n",
              " \twith 1034175 stored elements in Compressed Sparse Row format>,\n",
              " <27511x18503 sparse matrix of type '<class 'numpy.int32'>'\n",
              " \twith 250300 stored elements in Compressed Sparse Row format>)"
            ]
          },
          "metadata": {
            "tags": []
          },
          "execution_count": 19
        }
      ]
    },
    {
      "cell_type": "markdown",
      "metadata": {
        "id": "edt0nce8a_rR",
        "colab_type": "text"
      },
      "source": [
        "# **Creating Models**"
      ]
    },
    {
      "cell_type": "code",
      "metadata": {
        "id": "Jgvs09X8f70a",
        "colab_type": "code",
        "outputId": "320fdb26-5edc-468e-fea9-5fc35250ee3b",
        "colab": {
          "base_uri": "https://localhost:8080/",
          "height": 597
        }
      },
      "source": [
        "!pip install tmtoolkit['lda']\n",
        "import logging\n",
        "import warnings\n",
        "from tmtoolkit.topicmod.tm_lda import compute_models_parallel"
      ],
      "execution_count": 0,
      "outputs": [
        {
          "output_type": "stream",
          "text": [
            "Requirement already satisfied: tmtoolkit[lda] in /usr/local/lib/python3.6/dist-packages (0.9.0)\n",
            "Requirement already satisfied: globre>=0.1.5 in /usr/local/lib/python3.6/dist-packages (from tmtoolkit[lda]) (0.1.5)\n",
            "Requirement already satisfied: matplotlib>=3.1.0 in /usr/local/lib/python3.6/dist-packages (from tmtoolkit[lda]) (3.1.3)\n",
            "Requirement already satisfied: pandas>=0.25.0 in /usr/local/lib/python3.6/dist-packages (from tmtoolkit[lda]) (0.25.3)\n",
            "Requirement already satisfied: scipy>=1.3.0 in /usr/local/lib/python3.6/dist-packages (from tmtoolkit[lda]) (1.4.1)\n",
            "Requirement already satisfied: nltk>=3.4.0 in /usr/local/lib/python3.6/dist-packages (from tmtoolkit[lda]) (3.4.5)\n",
            "Requirement already satisfied: deprecation>=2.0.0 in /usr/local/lib/python3.6/dist-packages (from tmtoolkit[lda]) (2.0.7)\n",
            "Requirement already satisfied: germalemma>=0.1.3 in /usr/local/lib/python3.6/dist-packages (from tmtoolkit[lda]) (0.1.3)\n",
            "Requirement already satisfied: xlrd>=1.2.0 in /usr/local/lib/python3.6/dist-packages (from tmtoolkit[lda]) (1.2.0)\n",
            "Requirement already satisfied: numpy>=1.17.0 in /usr/local/lib/python3.6/dist-packages (from tmtoolkit[lda]) (1.17.5)\n",
            "Collecting lda>=1.1.0; extra == \"lda\"\n",
            "\u001b[?25l  Downloading https://files.pythonhosted.org/packages/fd/27/d62628d914bff7f048e2b433c3adea9e7072fa20028f1d4194999051cd9d/lda-1.1.0-cp36-cp36m-manylinux1_x86_64.whl (348kB)\n",
            "\r\u001b[K     |█                               | 10kB 18.4MB/s eta 0:00:01\r\u001b[K     |█▉                              | 20kB 2.2MB/s eta 0:00:01\r\u001b[K     |██▉                             | 30kB 2.8MB/s eta 0:00:01\r\u001b[K     |███▊                            | 40kB 2.0MB/s eta 0:00:01\r\u001b[K     |████▊                           | 51kB 2.3MB/s eta 0:00:01\r\u001b[K     |█████▋                          | 61kB 2.7MB/s eta 0:00:01\r\u001b[K     |██████▋                         | 71kB 2.9MB/s eta 0:00:01\r\u001b[K     |███████▌                        | 81kB 3.1MB/s eta 0:00:01\r\u001b[K     |████████▌                       | 92kB 3.5MB/s eta 0:00:01\r\u001b[K     |█████████▍                      | 102kB 3.4MB/s eta 0:00:01\r\u001b[K     |██████████▍                     | 112kB 3.4MB/s eta 0:00:01\r\u001b[K     |███████████▎                    | 122kB 3.4MB/s eta 0:00:01\r\u001b[K     |████████████▎                   | 133kB 3.4MB/s eta 0:00:01\r\u001b[K     |█████████████▏                  | 143kB 3.4MB/s eta 0:00:01\r\u001b[K     |██████████████▏                 | 153kB 3.4MB/s eta 0:00:01\r\u001b[K     |███████████████                 | 163kB 3.4MB/s eta 0:00:01\r\u001b[K     |████████████████                | 174kB 3.4MB/s eta 0:00:01\r\u001b[K     |█████████████████               | 184kB 3.4MB/s eta 0:00:01\r\u001b[K     |█████████████████▉              | 194kB 3.4MB/s eta 0:00:01\r\u001b[K     |██████████████████▉             | 204kB 3.4MB/s eta 0:00:01\r\u001b[K     |███████████████████▊            | 215kB 3.4MB/s eta 0:00:01\r\u001b[K     |████████████████████▊           | 225kB 3.4MB/s eta 0:00:01\r\u001b[K     |█████████████████████▋          | 235kB 3.4MB/s eta 0:00:01\r\u001b[K     |██████████████████████▋         | 245kB 3.4MB/s eta 0:00:01\r\u001b[K     |███████████████████████▌        | 256kB 3.4MB/s eta 0:00:01\r\u001b[K     |████████████████████████▌       | 266kB 3.4MB/s eta 0:00:01\r\u001b[K     |█████████████████████████▍      | 276kB 3.4MB/s eta 0:00:01\r\u001b[K     |██████████████████████████▍     | 286kB 3.4MB/s eta 0:00:01\r\u001b[K     |███████████████████████████▎    | 296kB 3.4MB/s eta 0:00:01\r\u001b[K     |████████████████████████████▎   | 307kB 3.4MB/s eta 0:00:01\r\u001b[K     |█████████████████████████████▏  | 317kB 3.4MB/s eta 0:00:01\r\u001b[K     |██████████████████████████████▏ | 327kB 3.4MB/s eta 0:00:01\r\u001b[K     |███████████████████████████████ | 337kB 3.4MB/s eta 0:00:01\r\u001b[K     |████████████████████████████████| 348kB 3.4MB/s eta 0:00:01\r\u001b[K     |████████████████████████████████| 358kB 3.4MB/s \n",
            "\u001b[?25hRequirement already satisfied: python-dateutil>=2.1 in /usr/local/lib/python3.6/dist-packages (from matplotlib>=3.1.0->tmtoolkit[lda]) (2.6.1)\n",
            "Requirement already satisfied: pyparsing!=2.0.4,!=2.1.2,!=2.1.6,>=2.0.1 in /usr/local/lib/python3.6/dist-packages (from matplotlib>=3.1.0->tmtoolkit[lda]) (2.4.6)\n",
            "Requirement already satisfied: cycler>=0.10 in /usr/local/lib/python3.6/dist-packages (from matplotlib>=3.1.0->tmtoolkit[lda]) (0.10.0)\n",
            "Requirement already satisfied: kiwisolver>=1.0.1 in /usr/local/lib/python3.6/dist-packages (from matplotlib>=3.1.0->tmtoolkit[lda]) (1.1.0)\n",
            "Requirement already satisfied: pytz>=2017.2 in /usr/local/lib/python3.6/dist-packages (from pandas>=0.25.0->tmtoolkit[lda]) (2018.9)\n",
            "Requirement already satisfied: six in /usr/local/lib/python3.6/dist-packages (from nltk>=3.4.0->tmtoolkit[lda]) (1.12.0)\n",
            "Requirement already satisfied: packaging in /usr/local/lib/python3.6/dist-packages (from deprecation>=2.0.0->tmtoolkit[lda]) (20.1)\n",
            "Requirement already satisfied: Pyphen>=0.9.5 in /usr/local/lib/python3.6/dist-packages (from germalemma>=0.1.3->tmtoolkit[lda]) (0.9.5)\n",
            "Requirement already satisfied: PatternLite>=3.6 in /usr/local/lib/python3.6/dist-packages (from germalemma>=0.1.3->tmtoolkit[lda]) (3.6)\n",
            "Collecting pbr<4,>=0.6\n",
            "\u001b[?25l  Downloading https://files.pythonhosted.org/packages/0c/5d/b077dbf309993d52c1d71e6bf6fe443a8029ea215135ebbe0b1b10e7aefc/pbr-3.1.1-py2.py3-none-any.whl (99kB)\n",
            "\r\u001b[K     |███▎                            | 10kB 19.1MB/s eta 0:00:01\r\u001b[K     |██████▋                         | 20kB 25.7MB/s eta 0:00:01\r\u001b[K     |█████████▉                      | 30kB 33.0MB/s eta 0:00:01\r\u001b[K     |█████████████▏                  | 40kB 22.3MB/s eta 0:00:01\r\u001b[K     |████████████████▍               | 51kB 13.1MB/s eta 0:00:01\r\u001b[K     |███████████████████▊            | 61kB 15.0MB/s eta 0:00:01\r\u001b[K     |███████████████████████         | 71kB 16.7MB/s eta 0:00:01\r\u001b[K     |██████████████████████████▎     | 81kB 13.7MB/s eta 0:00:01\r\u001b[K     |█████████████████████████████▋  | 92kB 15.0MB/s eta 0:00:01\r\u001b[K     |████████████████████████████████| 102kB 7.7MB/s \n",
            "\u001b[?25hRequirement already satisfied: setuptools in /usr/local/lib/python3.6/dist-packages (from kiwisolver>=1.0.1->matplotlib>=3.1.0->tmtoolkit[lda]) (45.1.0)\n",
            "Installing collected packages: pbr, lda\n",
            "Successfully installed lda-1.1.0 pbr-3.1.1\n"
          ],
          "name": "stdout"
        }
      ]
    },
    {
      "cell_type": "code",
      "metadata": {
        "id": "dF8s7IUIbFOx",
        "colab_type": "code",
        "colab": {}
      },
      "source": [
        "# suppress the \"INFO\" messages and warnings from Ida\n",
        "logger = logging.getLogger('lda')\n",
        "#logger.addHandler(logging.NullHandler())\n",
        "logger.addHandler(logging.NullHandler())\n",
        "logger.propagate = False\n",
        "\n",
        "warnings.filterwarnings('ignore')\n",
        "\n",
        "# set data to use\n",
        "dtms = {\n",
        "    'bigger': dtm_bg,\n",
        "    'smaller': dtm_sm\n",
        "}\n",
        "\n",
        "# and fixed hyperparameters\n",
        "lda_params = {\n",
        "    'n_topics': 51,\n",
        "    'eta': .01,  #beta parameter\n",
        "    'n_iter': 1000,\n",
        "    'random_state': 20191122  #to make resutls reproducible\n",
        "}\n"
      ],
      "execution_count": 0,
      "outputs": []
    },
    {
      "cell_type": "code",
      "metadata": {
        "id": "gTY7YyQTgSzM",
        "colab_type": "code",
        "colab": {}
      },
      "source": [
        "models = compute_models_parallel(dtms, constant_parameters=lda_params)"
      ],
      "execution_count": 0,
      "outputs": []
    },
    {
      "cell_type": "code",
      "metadata": {
        "id": "C3mC6x3Vc7t8",
        "colab_type": "code",
        "outputId": "33fc78e0-a28d-4ad6-fb3c-113301e43b53",
        "colab": {
          "base_uri": "https://localhost:8080/",
          "height": 1000
        }
      },
      "source": [
        "from tmtoolkit.topicmod.model_io import print_ldamodel_topic_words\n",
        "\n",
        "model_sm = models['smaller'][0][1]\n",
        "print_ldamodel_topic_words(model_sm.topic_word_, vocab_sm, top_n = 5)"
      ],
      "execution_count": 0,
      "outputs": [
        {
          "output_type": "stream",
          "text": [
            "topic_1\n",
            "> #1. review (0.043179)\n",
            "> #2. thing (0.041998)\n",
            "> #3. star (0.030529)\n",
            "> #4. something (0.029349)\n",
            "> #5. issue (0.027325)\n",
            "topic_2\n",
            "> #1. shoe (0.144163)\n",
            "> #2. pair (0.087196)\n",
            "> #3. leather (0.058962)\n",
            "> #4. adidas (0.049827)\n",
            "> #5. samba (0.045509)\n",
            "topic_3\n",
            "> #1. pant (0.199462)\n",
            "> #2. jacket (0.037684)\n",
            "> #3. leg (0.030459)\n",
            "> #4. size (0.029892)\n",
            "> #5. medium (0.027626)\n",
            "topic_4\n",
            "> #1. shoe (0.166822)\n",
            "> #2. mile (0.045655)\n",
            "> #3. run (0.035701)\n",
            "> #4. running (0.033843)\n",
            "> #5. runner (0.030791)\n",
            "topic_5\n",
            "> #1. bag (0.152110)\n",
            "> #2. pocket (0.069534)\n",
            "> #3. gym (0.042310)\n",
            "> #4. backpack (0.034370)\n",
            "> #5. water (0.026317)\n",
            "topic_6\n",
            "> #1. adidas (0.105966)\n",
            "> #2. men (0.069799)\n",
            "> #3. woman (0.041457)\n",
            "> #4. way (0.025594)\n",
            "> #5. sneaker (0.022845)\n",
            "topic_7\n",
            "> #1. product (0.181712)\n",
            "> #2. quality (0.149530)\n",
            "> #3. price (0.078887)\n",
            "> #4. adidas (0.050630)\n",
            "> #5. brand (0.041995)\n",
            "topic_8\n",
            "> #1. shirt (0.198000)\n",
            "> #2. fit (0.032663)\n",
            "> #3. material (0.032194)\n",
            "> #4. size (0.026256)\n",
            "> #5. wash (0.026256)\n",
            "topic_9\n",
            "> #1. day (0.161150)\n",
            "> #2. foot (0.130154)\n",
            "> #3. time (0.056801)\n",
            "> #4. hour (0.046090)\n",
            "> #5. work (0.039761)\n",
            "topic_10\n",
            "> #1. size (0.316515)\n",
            "> #2. shoe (0.212525)\n",
            "> #3. order (0.061812)\n",
            "> #4. review (0.035206)\n",
            "> #5. amazon (0.029203)\n",
            "topic_11\n",
            "> #1. size (0.112863)\n",
            "> #2. daughter (0.075243)\n",
            "> #3. color (0.058895)\n",
            "> #4. quality (0.048259)\n",
            "> #5. kid (0.045698)\n",
            "topic_12\n",
            "> #1. product (0.165094)\n",
            "> #2. time (0.067284)\n",
            "> #3. quality (0.061259)\n",
            "> #4. item (0.055434)\n",
            "> #5. purchase (0.041978)\n",
            "topic_13\n",
            "> #1. shoe (0.357155)\n",
            "> #2. basketball (0.085446)\n",
            "> #3. support (0.040714)\n",
            "> #4. pair (0.033201)\n",
            "> #5. foot (0.030929)\n",
            "topic_14\n",
            "> #1. short (0.123417)\n",
            "> #2. brief (0.038672)\n",
            "> #3. boxer (0.036697)\n",
            "> #4. material (0.026824)\n",
            "> #5. pair (0.023533)\n",
            "topic_15\n",
            "> #1. boot (0.111092)\n",
            "> #2. foot (0.046530)\n",
            "> #3. weather (0.027053)\n",
            "> #4. winter (0.025250)\n",
            "> #5. fit (0.023086)\n",
            "topic_16\n",
            "> #1. shoe (0.135880)\n",
            "> #2. foot (0.071100)\n",
            "> #3. heel (0.062937)\n",
            "> #4. sole (0.032786)\n",
            "> #5. toe (0.025676)\n",
            "topic_17\n",
            "> #1. gift (0.120832)\n",
            "> #2. husband (0.096288)\n",
            "> #3. son (0.061676)\n",
            "> #4. christmas (0.059998)\n",
            "> #5. bought (0.038181)\n",
            "topic_18\n",
            "> #1. shoe (0.258371)\n",
            "> #2. golf (0.152243)\n",
            "> #3. course (0.050938)\n",
            "> #4. round (0.036749)\n",
            "> #5. foot (0.033060)\n",
            "topic_19\n",
            "> #1. shoe (0.255632)\n",
            "> #2. support (0.110452)\n",
            "> #3. foot (0.098092)\n",
            "> #4. arch (0.062267)\n",
            "> #5. bit (0.027379)\n",
            "topic_20\n",
            "> #1. store (0.115470)\n",
            "> #2. amazon (0.096028)\n",
            "> #3. pair (0.077432)\n",
            "> #4. price (0.069317)\n",
            "> #5. adidas (0.061371)\n",
            "topic_21\n",
            "> #1. pair (0.340735)\n",
            "> #2. shoe (0.194529)\n",
            "> #3. year (0.110145)\n",
            "> #4. time (0.039618)\n",
            "> #5. adidas (0.029669)\n",
            "topic_22\n",
            "> #1. lace (0.091711)\n",
            "> #2. thing (0.041087)\n",
            "> #3. way (0.038703)\n",
            "> #4. problem (0.036685)\n",
            "> #5. top (0.034301)\n",
            "topic_23\n",
            "> #1. great (0.120153)\n",
            "> #2. fit (0.111511)\n",
            "> #3. feel (0.052278)\n",
            "> #4. price (0.048273)\n",
            "> #5. highly (0.039420)\n",
            "topic_24\n",
            "> #1. product (0.062727)\n",
            "> #2. amazon (0.052245)\n",
            "> #3. order (0.039471)\n",
            "> #4. shipping (0.033411)\n",
            "> #5. return (0.033247)\n",
            "topic_25\n",
            "> #1. shoe (0.221889)\n",
            "> #2. price (0.116398)\n",
            "> #3. money (0.062995)\n",
            "> #4. deal (0.037986)\n",
            "> #5. time (0.035917)\n",
            "topic_26\n",
            "> #1. muy (0.040024)\n",
            "> #2. la (0.029526)\n",
            "> #3. que (0.028050)\n",
            "> #4. el (0.025097)\n",
            "> #5. para (0.023621)\n",
            "topic_27\n",
            "> #1. shoe (0.188301)\n",
            "> #2. toe (0.134704)\n",
            "> #3. foot (0.062136)\n",
            "> #4. box (0.061503)\n",
            "> #5. size (0.040792)\n",
            "topic_28\n",
            "> #1. shoe (0.226408)\n",
            "> #2. foot (0.056850)\n",
            "> #3. pair (0.028073)\n",
            "> #4. running (0.027086)\n",
            "> #5. support (0.024687)\n",
            "topic_29\n",
            "> #1. sport (0.078350)\n",
            "> #2. comfy (0.048439)\n",
            "> #3. perfect (0.038618)\n",
            "> #4. work (0.035270)\n",
            "> #5. bra (0.034154)\n",
            "topic_30\n",
            "> #1. shoe (0.221238)\n",
            "> #2. lot (0.084796)\n",
            "> #3. color (0.065332)\n",
            "> #4. compliment (0.053962)\n",
            "> #5. people (0.048180)\n",
            "topic_31\n",
            "> #1. size (0.215835)\n",
            "> #2. shoe (0.188100)\n",
            "> #3. foot (0.086739)\n",
            "> #4. bit (0.078670)\n",
            "> #5. width (0.052783)\n",
            "topic_32\n",
            "> #1. color (0.241738)\n",
            "> #2. picture (0.075382)\n",
            "> #3. blue (0.047347)\n",
            "> #4. pink (0.046604)\n",
            "> #5. stripe (0.029708)\n",
            "topic_33\n",
            "> #1. sock (0.205006)\n",
            "> #2. foot (0.132023)\n",
            "> #3. bottom (0.022738)\n",
            "> #4. way (0.020636)\n",
            "> #5. thing (0.019872)\n",
            "topic_34\n",
            "> #1. adidas (0.187215)\n",
            "> #2. shoe (0.109400)\n",
            "> #3. brand (0.066592)\n",
            "> #4. nike (0.066592)\n",
            "> #5. love (0.035961)\n",
            "topic_35\n",
            "> #1. adidas (0.166818)\n",
            "> #2. model (0.099117)\n",
            "> #3. shoe (0.080702)\n",
            "> #4. pair (0.047664)\n",
            "> #5. design (0.043511)\n",
            "topic_36\n",
            "> #1. cleat (0.137071)\n",
            "> #2. soccer (0.101522)\n",
            "> #3. ball (0.046439)\n",
            "> #4. turf (0.033148)\n",
            "> #5. game (0.025782)\n",
            "topic_37\n",
            "> #1. month (0.126275)\n",
            "> #2. time (0.066716)\n",
            "> #3. wear (0.066716)\n",
            "> #4. week (0.057952)\n",
            "> #5. pair (0.056342)\n",
            "topic_38\n",
            "> #1. shoe (0.234402)\n",
            "> #2. tennis (0.139967)\n",
            "> #3. time (0.045533)\n",
            "> #4. adidas (0.033354)\n",
            "> #5. year (0.028482)\n",
            "topic_39\n",
            "> #1. shoe (0.142417)\n",
            "> #2. water (0.106213)\n",
            "> #3. bottom (0.033975)\n",
            "> #4. hole (0.027798)\n",
            "> #5. beach (0.025225)\n",
            "topic_40\n",
            "> #1. shoe (0.189088)\n",
            "> #2. weight (0.062525)\n",
            "> #3. gym (0.053810)\n",
            "> #4. training (0.033537)\n",
            "> #5. running (0.028232)\n",
            "topic_41\n",
            "> #1. shoe (0.147105)\n",
            "> #2. style (0.108939)\n",
            "> #3. color (0.099157)\n",
            "> #4. fit (0.079403)\n",
            "> #5. comfort (0.074608)\n",
            "topic_42\n",
            "> #1. one (0.042414)\n",
            "> #2. quality (0.041472)\n",
            "> #3. bit (0.039964)\n",
            "> #4. something (0.037325)\n",
            "> #5. material (0.037325)\n",
            "topic_43\n",
            "> #1. shoe (0.223213)\n",
            "> #2. son (0.162853)\n",
            "> #3. price (0.094796)\n",
            "> #4. great (0.074541)\n",
            "> #5. quality (0.049627)\n",
            "topic_44\n",
            "> #1. watch (0.213139)\n",
            "> #2. time (0.070386)\n",
            "> #3. band (0.029058)\n",
            "> #4. button (0.020937)\n",
            "> #5. wrist (0.020576)\n",
            "topic_45\n",
            "> #1. sneaker (0.229175)\n",
            "> #2. pair (0.141285)\n",
            "> #3. adidas (0.044038)\n",
            "> #4. time (0.042937)\n",
            "> #5. style (0.032479)\n",
            "topic_46\n",
            "> #1. son (0.139892)\n",
            "> #2. soccer (0.113529)\n",
            "> #3. year (0.068876)\n",
            "> #4. daughter (0.060802)\n",
            "> #5. school (0.050092)\n",
            "topic_47\n",
            "> #1. sandal (0.174234)\n",
            "> #2. foot (0.097322)\n",
            "> #3. pair (0.053590)\n",
            "> #4. slide (0.049425)\n",
            "> #5. house (0.034154)\n",
            "topic_48\n",
            "> #1. shoe (0.163643)\n",
            "> #2. trail (0.072902)\n",
            "> #3. running (0.030915)\n",
            "> #4. traction (0.028300)\n",
            "> #5. grip (0.022764)\n",
            "topic_49\n",
            "> #1. size (0.480368)\n",
            "> #2. order (0.078356)\n",
            "> #3. half (0.032777)\n",
            "> #4. fit (0.031753)\n",
            "> #5. men (0.026120)\n",
            "topic_50\n",
            "> #1. adidas (0.105700)\n",
            "> #2. material (0.042358)\n",
            "> #3. quality (0.041203)\n",
            "> #4. side (0.030421)\n",
            "> #5. stripe (0.029844)\n",
            "topic_51\n",
            "> #1. shoes (0.072432)\n",
            "> #2. great (0.034333)\n",
            "> #3. buy (0.023866)\n",
            "> #4. good (0.021564)\n",
            "> #5. comfortable (0.019470)\n"
          ],
          "name": "stdout"
        }
      ]
    },
    {
      "cell_type": "code",
      "metadata": {
        "id": "kzOiQdVMfSjE",
        "colab_type": "code",
        "outputId": "4dff25e9-c0d5-414c-9e2b-9d8024beca99",
        "colab": {
          "base_uri": "https://localhost:8080/",
          "height": 1000
        }
      },
      "source": [
        "model_bg = models['bigger'][0][1]\n",
        "print_ldamodel_topic_words(model_bg.topic_word_, vocab_bg, top_n = 5)"
      ],
      "execution_count": 0,
      "outputs": [
        {
          "output_type": "stream",
          "text": [
            "topic_1\n",
            "> #1.  (0.094719)\n",
            "> #2. size (0.079187)\n",
            "> #3. a (0.069545)\n",
            "> #4. i (0.067083)\n",
            "> #5. be (0.029834)\n",
            "topic_2\n",
            "> #1.  (0.133464)\n",
            "> #2. and (0.051605)\n",
            "> #3. shoe (0.046397)\n",
            "> #4. on (0.038603)\n",
            "> #5. the (0.035906)\n",
            "topic_3\n",
            "> #1.  (0.125224)\n",
            "> #2. recommend (0.089309)\n",
            "> #3. i (0.082760)\n",
            "> #4. would (0.070204)\n",
            "> #5. to (0.038544)\n",
            "topic_4\n",
            "> #1.  (0.125522)\n",
            "> #2. be (0.062562)\n",
            "> #3. the (0.058389)\n",
            "> #4. and (0.043921)\n",
            "> #5. i (0.027426)\n",
            "topic_5\n",
            "> #1.  (0.768658)\n",
            "> #2. 34 (0.062228)\n",
            "> #3. adidas (0.006252)\n",
            "> #4. no (0.005731)\n",
            "> #5. 2 (0.005399)\n",
            "topic_6\n",
            "> #1. i (0.103909)\n",
            "> #2.  (0.076150)\n",
            "> #3. to (0.055718)\n",
            "> #4. the (0.037287)\n",
            "> #5. and (0.035187)\n",
            "topic_7\n",
            "> #1.  (0.145309)\n",
            "> #2. as (0.087442)\n",
            "> #3. be (0.077219)\n",
            "> #4. not (0.048701)\n",
            "> #5. the (0.047041)\n",
            "topic_8\n",
            "> #1.  (0.124468)\n",
            "> #2. nt (0.078205)\n",
            "> #3. do (0.060807)\n",
            "> #4. it (0.054853)\n",
            "> #5. i (0.054743)\n",
            "topic_9\n",
            "> #1.  (0.079501)\n",
            "> #2. the (0.068848)\n",
            "> #3. be (0.054530)\n",
            "> #4. to (0.047437)\n",
            "> #5. i (0.045275)\n",
            "topic_10\n",
            "> #1.  (0.111174)\n",
            "> #2. it (0.087182)\n",
            "> #3. shirt (0.048097)\n",
            "> #4. the (0.047909)\n",
            "> #5. be (0.047721)\n",
            "topic_11\n",
            "> #1. the (0.095681)\n",
            "> #2.  (0.059298)\n",
            "> #3. be (0.043418)\n",
            "> #4. shoe (0.042765)\n",
            "> #5. to (0.027915)\n",
            "topic_12\n",
            "> #1. he (0.112479)\n",
            "> #2. my (0.078817)\n",
            "> #3.  (0.073267)\n",
            "> #4. son (0.059482)\n",
            "> #5. for (0.058487)\n",
            "topic_13\n",
            "> #1. i (0.106941)\n",
            "> #2. be (0.057983)\n",
            "> #3. have (0.054935)\n",
            "> #4.  (0.048482)\n",
            "> #5. to (0.034719)\n",
            "topic_14\n",
            "> #1. you (0.148954)\n",
            "> #2.  (0.079416)\n",
            "> #3. if (0.062160)\n",
            "> #4. be (0.038157)\n",
            "> #5. your (0.034573)\n",
            "topic_15\n",
            "> #1.  (0.102741)\n",
            "> #2. be (0.056271)\n",
            "> #3. foot (0.048431)\n",
            "> #4. shoe (0.048147)\n",
            "> #5. the (0.043460)\n",
            "topic_16\n",
            "> #1.  (0.131278)\n",
            "> #2. and (0.052176)\n",
            "> #3. in (0.045607)\n",
            "> #4. for (0.034660)\n",
            "> #5. the (0.032051)\n",
            "topic_17\n",
            "> #1. it (0.210470)\n",
            "> #2. i (0.087202)\n",
            "> #3.  (0.071058)\n",
            "> #4. this (0.049335)\n",
            "> #5. s (0.039877)\n",
            "topic_18\n",
            "> #1.  (0.151385)\n",
            "> #2. a (0.045762)\n",
            "> #3. the (0.045662)\n",
            "> #4. of (0.040063)\n",
            "> #5. adidas (0.032464)\n",
            "topic_19\n",
            "> #1.  (0.085528)\n",
            "> #2. have (0.041435)\n",
            "> #3. i (0.040498)\n",
            "> #4. they (0.038244)\n",
            "> #5. and (0.037357)\n",
            "topic_20\n",
            "> #1. the (0.145253)\n",
            "> #2.  (0.079375)\n",
            "> #3. of (0.055425)\n",
            "> #4. be (0.051964)\n",
            "> #5. to (0.024159)\n",
            "topic_21\n",
            "> #1.  (0.070845)\n",
            "> #2. i (0.052287)\n",
            "> #3. them (0.049768)\n",
            "> #4. a (0.040503)\n",
            "> #5. to (0.033001)\n",
            "topic_22\n",
            "> #1.  (0.130734)\n",
            "> #2. be (0.059372)\n",
            "> #3. the (0.053045)\n",
            "> #4. pant (0.041267)\n",
            "> #5. and (0.034273)\n",
            "topic_23\n",
            "> #1.  (0.138310)\n",
            "> #2. for (0.070961)\n",
            "> #3. and (0.043094)\n",
            "> #4. wear (0.041925)\n",
            "> #5. to (0.035091)\n",
            "topic_24\n",
            "> #1.  (0.110735)\n",
            "> #2. soccer (0.051138)\n",
            "> #3. the (0.044239)\n",
            "> #4. and (0.039484)\n",
            "> #5. for (0.038471)\n",
            "topic_25\n",
            "> #1.  (0.088202)\n",
            "> #2. i (0.061410)\n",
            "> #3. shoe (0.058053)\n",
            "> #4. run (0.044123)\n",
            "> #5. and (0.031980)\n",
            "topic_26\n",
            "> #1.  (0.091865)\n",
            "> #2. it (0.045539)\n",
            "> #3. bag (0.039745)\n",
            "> #4. the (0.035465)\n",
            "> #5. and (0.033689)\n",
            "topic_27\n",
            "> #1.  (0.110971)\n",
            "> #2. and (0.039370)\n",
            "> #3. they (0.037776)\n",
            "> #4. these (0.030938)\n",
            "> #5. be (0.027519)\n",
            "topic_28\n",
            "> #1.  (0.078314)\n",
            "> #2. i (0.076013)\n",
            "> #3. be (0.071589)\n",
            "> #4. the (0.056133)\n",
            "> #5. it (0.035485)\n",
            "topic_29\n",
            "> #1.  (0.093346)\n",
            "> #2. shoe (0.087948)\n",
            "> #3. and (0.050832)\n",
            "> #4. the (0.047875)\n",
            "> #5. for (0.032865)\n",
            "topic_30\n",
            "> #1. the (0.107128)\n",
            "> #2.  (0.064586)\n",
            "> #3. of (0.046171)\n",
            "> #4. a (0.027846)\n",
            "> #5. be (0.023562)\n",
            "topic_31\n",
            "> #1. a (0.133954)\n",
            "> #2.  (0.127917)\n",
            "> #3. be (0.062983)\n",
            "> #4. but (0.060775)\n",
            "> #5. little (0.052272)\n",
            "topic_32\n",
            "> #1.  (0.127983)\n",
            "> #2. they (0.127279)\n",
            "> #3. and (0.060356)\n",
            "> #4. be (0.056896)\n",
            "> #5. these (0.040526)\n",
            "topic_33\n",
            "> #1. i (0.085191)\n",
            "> #2.  (0.079868)\n",
            "> #3. shoe (0.059701)\n",
            "> #4. have (0.058867)\n",
            "> #5. the (0.055629)\n",
            "topic_34\n",
            "> #1. size (0.101776)\n",
            "> #2.  (0.072460)\n",
            "> #3. a (0.068171)\n",
            "> #4. to (0.042375)\n",
            "> #5. i (0.036934)\n",
            "topic_35\n",
            "> #1. i (0.109706)\n",
            "> #2. they (0.076094)\n",
            "> #3.  (0.072311)\n",
            "> #4. nt (0.057610)\n",
            "> #5. them (0.054227)\n",
            "topic_36\n",
            "> #1.  (0.101827)\n",
            "> #2. i (0.099756)\n",
            "> #3. them (0.068179)\n",
            "> #4. they (0.050184)\n",
            "> #5. and (0.049640)\n",
            "topic_37\n",
            "> #1.  (0.145888)\n",
            "> #2. very (0.058004)\n",
            "> #3. good (0.056410)\n",
            "> #4. and (0.054489)\n",
            "> #5. be (0.053875)\n",
            "topic_38\n",
            "> #1. pair (0.090870)\n",
            "> #2. i (0.088946)\n",
            "> #3.  (0.088387)\n",
            "> #4. of (0.046863)\n",
            "> #5. buy (0.042114)\n",
            "topic_39\n",
            "> #1.  (0.146980)\n",
            "> #2. very (0.131882)\n",
            "> #3. be (0.095095)\n",
            "> #4. and (0.072698)\n",
            "> #5. shoe (0.048424)\n",
            "topic_40\n",
            "> #1.  (0.154363)\n",
            "> #2. be (0.073322)\n",
            "> #3. to (0.072278)\n",
            "> #4. and (0.070943)\n",
            "> #5. fit (0.057839)\n",
            "topic_41\n",
            "> #1.  (0.082120)\n",
            "> #2. the (0.060583)\n",
            "> #3. be (0.040315)\n",
            "> #4. and (0.036731)\n",
            "> #5. in (0.030070)\n",
            "topic_42\n",
            "> #1. the (0.083938)\n",
            "> #2.  (0.080545)\n",
            "> #3. adidas (0.057729)\n",
            "> #4. be (0.046035)\n",
            "> #5. of (0.037399)\n",
            "topic_43\n",
            "> #1.  (0.140290)\n",
            "> #2. the (0.043061)\n",
            "> #3. be (0.037441)\n",
            "> #4. and (0.033521)\n",
            "> #5. for (0.032312)\n",
            "topic_44\n",
            "> #1.  (0.164705)\n",
            "> #2. great (0.080658)\n",
            "> #3. for (0.061664)\n",
            "> #4. be (0.055779)\n",
            "> #5. price (0.040575)\n",
            "topic_45\n",
            "> #1. the (0.131366)\n",
            "> #2.  (0.112282)\n",
            "> #3. color (0.057427)\n",
            "> #4. be (0.050579)\n",
            "> #5. in (0.027393)\n",
            "topic_46\n",
            "> #1.  (0.116992)\n",
            "> #2. the (0.070700)\n",
            "> #3. it (0.060245)\n",
            "> #4. watch (0.050401)\n",
            "> #5. be (0.045560)\n",
            "topic_47\n",
            "> #1.  (0.102470)\n",
            "> #2. my (0.077181)\n",
            "> #3. for (0.068299)\n",
            "> #4. she (0.061410)\n",
            "> #5. and (0.039293)\n",
            "topic_48\n",
            "> #1.  (0.070848)\n",
            "> #2. the (0.064332)\n",
            "> #3. sandal (0.044853)\n",
            "> #4. foot (0.038958)\n",
            "> #5. these (0.034821)\n",
            "topic_49\n",
            "> #1.  (0.122622)\n",
            "> #2. y (0.034071)\n",
            "> #3. de (0.026688)\n",
            "> #4. muy (0.025662)\n",
            "> #5. la (0.023017)\n",
            "topic_50\n",
            "> #1.  (0.114408)\n",
            "> #2. the (0.046879)\n",
            "> #3. i (0.038402)\n",
            "> #4. for (0.032187)\n",
            "> #5. price (0.028045)\n",
            "topic_51\n",
            "> #1.  (0.101421)\n",
            "> #2. shoe (0.079959)\n",
            "> #3. the (0.067642)\n",
            "> #4. golf (0.045479)\n",
            "> #5. and (0.041731)\n"
          ],
          "name": "stdout"
        }
      ]
    },
    {
      "cell_type": "code",
      "metadata": {
        "id": "Ww8TJikXDGxc",
        "colab_type": "code",
        "outputId": "48b5b3d1-5cea-4fde-8bd9-6c6b4a511381",
        "colab": {
          "base_uri": "https://localhost:8080/",
          "height": 37
        }
      },
      "source": [
        "import logging\n",
        "import warnings\n",
        "import lda\n",
        "warnings.filterwarnings('ignore')\n",
        "\n",
        "lda_tm = lda.LDA(n_topics=51, n_iter=1000, random_state=20191122, eta=.01 )\n",
        "lda_tm.fit(dtm_sm)"
      ],
      "execution_count": 0,
      "outputs": [
        {
          "output_type": "execute_result",
          "data": {
            "text/plain": [
              "<lda.lda.LDA at 0x7f13cf33fe80>"
            ]
          },
          "metadata": {
            "tags": []
          },
          "execution_count": 25
        }
      ]
    },
    {
      "cell_type": "code",
      "metadata": {
        "id": "7lKMzlCLENO9",
        "colab_type": "code",
        "outputId": "a4640ac2-1111-43d0-87bf-c9f3adf180bc",
        "colab": {
          "base_uri": "https://localhost:8080/",
          "height": 1000
        }
      },
      "source": [
        "topic_word = lda_tm.topic_word_\n",
        "n_top_words = 10\n",
        "for i, topic_dist in enumerate(topic_word):\n",
        "  topic_word = np.array(vocab_sm)[np.argsort(topic_dist)][:-n_top_words - 1:-1]\n",
        "  print('Topic{}:{}'.format(i,' '.join(topic_word)))"
      ],
      "execution_count": 0,
      "outputs": [
        {
          "output_type": "stream",
          "text": [
            "Topic0:review thing star something issue time reason problem people nothing\n",
            "Topic1:shoe pair leather adidas samba year tongue sambas look wear\n",
            "Topic2:pant jacket leg size medium fit length waist material pocket\n",
            "Topic3:shoe mile run running runner adidas marathon cushioning pair week\n",
            "Topic4:bag pocket gym backpack water side bottle room clothes strap\n",
            "Topic5:adidas men woman way sneaker man guy women friend superstar\n",
            "Topic6:product quality price adidas brand great color material fit fabric\n",
            "Topic7:shirt fit material size wash medium fabric quality tshirt tee\n",
            "Topic8:day foot time hour work week pain home couple break\n",
            "Topic9:size shoe order review amazon fit half problem way online\n",
            "Topic10:size daughter color quality kid son month boy baby outfit\n",
            "Topic11:product time quality item purchase delivery thanks excellent condition thank\n",
            "Topic12:shoe basketball support pair foot court price ankle anyone traction\n",
            "Topic13:short brief boxer material pair fabric fit waist leg compression\n",
            "Topic14:boot foot weather winter fit weight adidas snow rain day\n",
            "Topic15:shoe foot heel sole toe problem insole part design material\n",
            "Topic16:gift husband son christmas bought brother time color birthday boyfriend\n",
            "Topic17:shoe golf course round foot spike grip pair hole fit\n",
            "Topic18:shoe support foot arch bit fit sole comfort cushion insole\n",
            "Topic19:store amazon pair price adidas one time brand online day\n",
            "Topic20:pair shoe year time adidas one replacement work others wife\n",
            "Topic21:lace thing way problem top bit foot kind velcro time\n",
            "Topic22:great fit feel price highly look quality weight nice perfect\n",
            "Topic23:product amazon order shipping return seller time item service customer\n",
            "Topic24:shoe price money deal time quality sale dollar store value\n",
            "Topic25:muy la que el para son producto los lo con\n",
            "Topic26:shoe toe foot box size room fit feel plenty front\n",
            "Topic27:shoe foot pair running support pain balance knee new nike\n",
            "Topic28:sport comfy perfect work bra everything activity great wear lot\n",
            "Topic29:shoe lot color compliment people time everyone look anyone friend\n",
            "Topic30:size shoe foot bit width fit snug half length side\n",
            "Topic31:color picture blue pink stripe orange one grey person photo\n",
            "Topic32:sock foot bottom way thing problem time air summer day\n",
            "Topic33:adidas shoe brand nike love pair fan style air anything\n",
            "Topic34:adidas model shoe pair design year style sole fact brand\n",
            "Topic35:cleat soccer ball turf game field boot grass football player\n",
            "Topic36:month time wear week pair year day use couple lot\n",
            "Topic37:shoe tennis time adidas year court barricade month version pair\n",
            "Topic38:shoe water bottom hole beach foot boat day mesh sand\n",
            "Topic39:shoe weight gym training running workout trainer cross class jogging\n",
            "Topic40:shoe style color fit comfort adidas look great design price\n",
            "Topic41:one quality bit something material star month year thing time\n",
            "Topic42:shoe son price great quality size year buy look school\n",
            "Topic43:watch time band button wrist face function day light screen\n",
            "Topic44:sneaker pair adidas time style year one color day price\n",
            "Topic45:son soccer year daughter school season team game practice cleat\n",
            "Topic46:sandal foot pair slide house flop slipper flip strap shower\n",
            "Topic47:shoe trail running traction grip surface tread road rock dirt\n",
            "Topic48:size order half fit men woman review us chart bit\n",
            "Topic49:adidas material quality side stripe bit look logo fan color\n",
            "Topic50:shoes great buy good comfortable im one nice like go\n"
          ],
          "name": "stdout"
        }
      ]
    },
    {
      "cell_type": "code",
      "metadata": {
        "id": "htDhbqdzGOvR",
        "colab_type": "code",
        "outputId": "49a5587b-0ee1-4924-effd-e5541d78970d",
        "colab": {
          "base_uri": "https://localhost:8080/",
          "height": 530
        }
      },
      "source": [
        "from tmtoolkit.topicmod.model_io import ldamodel_top_topic_words\n",
        "tm = pd.DataFrame(ldamodel_top_topic_words(model_sm.topic_word_, vocab_sm, top_n=5)).reset_index()\n",
        "tm = tm.drop(columns = 'topic')\n",
        "tm.head(15)"
      ],
      "execution_count": 0,
      "outputs": [
        {
          "output_type": "execute_result",
          "data": {
            "text/html": [
              "<div>\n",
              "<style scoped>\n",
              "    .dataframe tbody tr th:only-of-type {\n",
              "        vertical-align: middle;\n",
              "    }\n",
              "\n",
              "    .dataframe tbody tr th {\n",
              "        vertical-align: top;\n",
              "    }\n",
              "\n",
              "    .dataframe thead th {\n",
              "        text-align: right;\n",
              "    }\n",
              "</style>\n",
              "<table border=\"1\" class=\"dataframe\">\n",
              "  <thead>\n",
              "    <tr style=\"text-align: right;\">\n",
              "      <th></th>\n",
              "      <th>rank_1</th>\n",
              "      <th>rank_2</th>\n",
              "      <th>rank_3</th>\n",
              "      <th>rank_4</th>\n",
              "      <th>rank_5</th>\n",
              "    </tr>\n",
              "  </thead>\n",
              "  <tbody>\n",
              "    <tr>\n",
              "      <th>0</th>\n",
              "      <td>review (0.04318)</td>\n",
              "      <td>thing (0.042)</td>\n",
              "      <td>star (0.03053)</td>\n",
              "      <td>something (0.02935)</td>\n",
              "      <td>issue (0.02732)</td>\n",
              "    </tr>\n",
              "    <tr>\n",
              "      <th>1</th>\n",
              "      <td>shoe (0.1442)</td>\n",
              "      <td>pair (0.0872)</td>\n",
              "      <td>leather (0.05896)</td>\n",
              "      <td>adidas (0.04983)</td>\n",
              "      <td>samba (0.04551)</td>\n",
              "    </tr>\n",
              "    <tr>\n",
              "      <th>2</th>\n",
              "      <td>pant (0.1995)</td>\n",
              "      <td>jacket (0.03768)</td>\n",
              "      <td>leg (0.03046)</td>\n",
              "      <td>size (0.02989)</td>\n",
              "      <td>medium (0.02763)</td>\n",
              "    </tr>\n",
              "    <tr>\n",
              "      <th>3</th>\n",
              "      <td>shoe (0.1668)</td>\n",
              "      <td>mile (0.04565)</td>\n",
              "      <td>run (0.0357)</td>\n",
              "      <td>running (0.03384)</td>\n",
              "      <td>runner (0.03079)</td>\n",
              "    </tr>\n",
              "    <tr>\n",
              "      <th>4</th>\n",
              "      <td>bag (0.1521)</td>\n",
              "      <td>pocket (0.06953)</td>\n",
              "      <td>gym (0.04231)</td>\n",
              "      <td>backpack (0.03437)</td>\n",
              "      <td>water (0.02632)</td>\n",
              "    </tr>\n",
              "    <tr>\n",
              "      <th>5</th>\n",
              "      <td>adidas (0.106)</td>\n",
              "      <td>men (0.0698)</td>\n",
              "      <td>woman (0.04146)</td>\n",
              "      <td>way (0.02559)</td>\n",
              "      <td>sneaker (0.02284)</td>\n",
              "    </tr>\n",
              "    <tr>\n",
              "      <th>6</th>\n",
              "      <td>product (0.1817)</td>\n",
              "      <td>quality (0.1495)</td>\n",
              "      <td>price (0.07889)</td>\n",
              "      <td>adidas (0.05063)</td>\n",
              "      <td>brand (0.042)</td>\n",
              "    </tr>\n",
              "    <tr>\n",
              "      <th>7</th>\n",
              "      <td>shirt (0.198)</td>\n",
              "      <td>fit (0.03266)</td>\n",
              "      <td>material (0.03219)</td>\n",
              "      <td>size (0.02626)</td>\n",
              "      <td>wash (0.02626)</td>\n",
              "    </tr>\n",
              "    <tr>\n",
              "      <th>8</th>\n",
              "      <td>day (0.1611)</td>\n",
              "      <td>foot (0.1302)</td>\n",
              "      <td>time (0.0568)</td>\n",
              "      <td>hour (0.04609)</td>\n",
              "      <td>work (0.03976)</td>\n",
              "    </tr>\n",
              "    <tr>\n",
              "      <th>9</th>\n",
              "      <td>size (0.3165)</td>\n",
              "      <td>shoe (0.2125)</td>\n",
              "      <td>order (0.06181)</td>\n",
              "      <td>review (0.03521)</td>\n",
              "      <td>amazon (0.0292)</td>\n",
              "    </tr>\n",
              "    <tr>\n",
              "      <th>10</th>\n",
              "      <td>size (0.1129)</td>\n",
              "      <td>daughter (0.07524)</td>\n",
              "      <td>color (0.05889)</td>\n",
              "      <td>quality (0.04826)</td>\n",
              "      <td>kid (0.0457)</td>\n",
              "    </tr>\n",
              "    <tr>\n",
              "      <th>11</th>\n",
              "      <td>product (0.1651)</td>\n",
              "      <td>time (0.06728)</td>\n",
              "      <td>quality (0.06126)</td>\n",
              "      <td>item (0.05543)</td>\n",
              "      <td>purchase (0.04198)</td>\n",
              "    </tr>\n",
              "    <tr>\n",
              "      <th>12</th>\n",
              "      <td>shoe (0.3572)</td>\n",
              "      <td>basketball (0.08545)</td>\n",
              "      <td>support (0.04071)</td>\n",
              "      <td>pair (0.0332)</td>\n",
              "      <td>foot (0.03093)</td>\n",
              "    </tr>\n",
              "    <tr>\n",
              "      <th>13</th>\n",
              "      <td>short (0.1234)</td>\n",
              "      <td>brief (0.03867)</td>\n",
              "      <td>boxer (0.0367)</td>\n",
              "      <td>material (0.02682)</td>\n",
              "      <td>pair (0.02353)</td>\n",
              "    </tr>\n",
              "    <tr>\n",
              "      <th>14</th>\n",
              "      <td>boot (0.1111)</td>\n",
              "      <td>foot (0.04653)</td>\n",
              "      <td>weather (0.02705)</td>\n",
              "      <td>winter (0.02525)</td>\n",
              "      <td>fit (0.02309)</td>\n",
              "    </tr>\n",
              "  </tbody>\n",
              "</table>\n",
              "</div>"
            ],
            "text/plain": [
              "              rank_1  ...              rank_5\n",
              "0   review (0.04318)  ...     issue (0.02732)\n",
              "1      shoe (0.1442)  ...     samba (0.04551)\n",
              "2      pant (0.1995)  ...    medium (0.02763)\n",
              "3      shoe (0.1668)  ...    runner (0.03079)\n",
              "4       bag (0.1521)  ...     water (0.02632)\n",
              "5     adidas (0.106)  ...   sneaker (0.02284)\n",
              "6   product (0.1817)  ...       brand (0.042)\n",
              "7      shirt (0.198)  ...      wash (0.02626)\n",
              "8       day (0.1611)  ...      work (0.03976)\n",
              "9      size (0.3165)  ...     amazon (0.0292)\n",
              "10     size (0.1129)  ...        kid (0.0457)\n",
              "11  product (0.1651)  ...  purchase (0.04198)\n",
              "12     shoe (0.3572)  ...      foot (0.03093)\n",
              "13    short (0.1234)  ...      pair (0.02353)\n",
              "14     boot (0.1111)  ...       fit (0.02309)\n",
              "\n",
              "[15 rows x 5 columns]"
            ]
          },
          "metadata": {
            "tags": []
          },
          "execution_count": 27
        }
      ]
    },
    {
      "cell_type": "code",
      "metadata": {
        "id": "SgDKnAoj36F7",
        "colab_type": "code",
        "outputId": "ae1e7f79-7665-42c4-c279-a7027aa3c8ed",
        "colab": {
          "base_uri": "https://localhost:8080/",
          "height": 1000
        }
      },
      "source": [
        "import re\n",
        "barbellstopics = ''\n",
        "for i in range(len(tm)):\n",
        "  words = list(tm.iloc[i,:])\n",
        "  aline = str(i)+': '+' '.join([re.sub(r'\\s\\(.*?\\)','', w) for w in words])\n",
        "  barbellstopics += aline + '\\n'\n",
        "\n",
        "print(barbellstopics)"
      ],
      "execution_count": 0,
      "outputs": [
        {
          "output_type": "stream",
          "text": [
            "0: review thing star something issue\n",
            "1: shoe pair leather adidas samba\n",
            "2: pant jacket leg size medium\n",
            "3: shoe mile run running runner\n",
            "4: bag pocket gym backpack water\n",
            "5: adidas men woman way sneaker\n",
            "6: product quality price adidas brand\n",
            "7: shirt fit material size wash\n",
            "8: day foot time hour work\n",
            "9: size shoe order review amazon\n",
            "10: size daughter color quality kid\n",
            "11: product time quality item purchase\n",
            "12: shoe basketball support pair foot\n",
            "13: short brief boxer material pair\n",
            "14: boot foot weather winter fit\n",
            "15: shoe foot heel sole toe\n",
            "16: gift husband son christmas bought\n",
            "17: shoe golf course round foot\n",
            "18: shoe support foot arch bit\n",
            "19: store amazon pair price adidas\n",
            "20: pair shoe year time adidas\n",
            "21: lace thing way problem top\n",
            "22: great fit feel price highly\n",
            "23: product amazon order shipping return\n",
            "24: shoe price money deal time\n",
            "25: muy la que el para\n",
            "26: shoe toe foot box size\n",
            "27: shoe foot pair running support\n",
            "28: sport comfy perfect work bra\n",
            "29: shoe lot color compliment people\n",
            "30: size shoe foot bit width\n",
            "31: color picture blue pink stripe\n",
            "32: sock foot bottom way thing\n",
            "33: adidas shoe brand nike love\n",
            "34: adidas model shoe pair design\n",
            "35: cleat soccer ball turf game\n",
            "36: month time wear week pair\n",
            "37: shoe tennis time adidas year\n",
            "38: shoe water bottom hole beach\n",
            "39: shoe weight gym training running\n",
            "40: shoe style color fit comfort\n",
            "41: one quality bit something material\n",
            "42: shoe son price great quality\n",
            "43: watch time band button wrist\n",
            "44: sneaker pair adidas time style\n",
            "45: son soccer year daughter school\n",
            "46: sandal foot pair slide house\n",
            "47: shoe trail running traction grip\n",
            "48: size order half fit men\n",
            "49: adidas material quality side stripe\n",
            "50: shoes great buy good comfortable\n",
            "\n"
          ],
          "name": "stdout"
        }
      ]
    },
    {
      "cell_type": "code",
      "metadata": {
        "id": "wqg6m2qbo_zD",
        "colab_type": "code",
        "colab": {}
      },
      "source": [
        "outputfile = open('drive/My Drive/Colab Notebooks/APRD6343_NEW//adidastopics.txt', 'w')\n",
        "\n",
        "outputfile.write(barbellstopics)\n",
        "outputfile.close()"
      ],
      "execution_count": 0,
      "outputs": []
    },
    {
      "cell_type": "markdown",
      "metadata": {
        "id": "WQEcAEmVsEW1",
        "colab_type": "text"
      },
      "source": [
        "# **Eval**"
      ]
    },
    {
      "cell_type": "code",
      "metadata": {
        "id": "DE7Yl96hsDZc",
        "colab_type": "code",
        "outputId": "538ab607-21ab-43ad-8b7f-438c464d5f6b",
        "colab": {
          "base_uri": "https://localhost:8080/",
          "height": 77
        }
      },
      "source": [
        "const_params = {'n_iter':1000,'eta':0.1,'random_state':20191122}\n",
        "ks = list(range(1,25,2))\n",
        "print(ks)\n",
        "varying_params = [dict(n_topics=k,alpha=1/k) for k in ks]\n",
        "print(varying_params)"
      ],
      "execution_count": 0,
      "outputs": [
        {
          "output_type": "stream",
          "text": [
            "[1, 3, 5, 7, 9, 11, 13, 15, 17, 19, 21, 23]\n",
            "[{'n_topics': 1, 'alpha': 1.0}, {'n_topics': 3, 'alpha': 0.3333333333333333}, {'n_topics': 5, 'alpha': 0.2}, {'n_topics': 7, 'alpha': 0.14285714285714285}, {'n_topics': 9, 'alpha': 0.1111111111111111}, {'n_topics': 11, 'alpha': 0.09090909090909091}, {'n_topics': 13, 'alpha': 0.07692307692307693}, {'n_topics': 15, 'alpha': 0.06666666666666667}, {'n_topics': 17, 'alpha': 0.058823529411764705}, {'n_topics': 19, 'alpha': 0.05263157894736842}, {'n_topics': 21, 'alpha': 0.047619047619047616}, {'n_topics': 23, 'alpha': 0.043478260869565216}]\n"
          ],
          "name": "stdout"
        }
      ]
    },
    {
      "cell_type": "code",
      "metadata": {
        "id": "qSyUVqG1ruPO",
        "colab_type": "code",
        "colab": {}
      },
      "source": [
        "from tmtoolkit.topicmod import tm_lda\n",
        "eval_results= tm_lda.evaluate_topic_models(dtm_sm,\n",
        "    varying_params,\n",
        "    const_params)"
      ],
      "execution_count": 0,
      "outputs": []
    },
    {
      "cell_type": "code",
      "metadata": {
        "id": "fIRZ6kW9v2go",
        "colab_type": "code",
        "outputId": "92cdaf0a-33fc-45e6-c7c9-471bb8163280",
        "colab": {
          "base_uri": "https://localhost:8080/",
          "height": 57
        }
      },
      "source": [
        "from tmtoolkit.topicmod.evaluate import results_by_parameter\n",
        "from tmtoolkit.topicmod.visualize import plot_eval_results\n",
        "\n",
        "results_by_n_topics = results_by_parameter(eval_results, 'n_topics')\n",
        "print(results_by_n_topics)"
      ],
      "execution_count": 0,
      "outputs": [
        {
          "output_type": "stream",
          "text": [
            "[(1, {'cao_juan_2009': nan, 'arun_2010': 805.005057834177, 'coherence_mimno_2011': -2.6644725845377133}), (3, {'cao_juan_2009': 0.45892995271505727, 'arun_2010': 719.6466087359207, 'coherence_mimno_2011': -3.1784512792100372}), (5, {'cao_juan_2009': 0.3318598434412148, 'arun_2010': 669.4083265143413, 'coherence_mimno_2011': -2.7674269751783824}), (7, {'cao_juan_2009': 0.33655188453873064, 'arun_2010': 620.380518141799, 'coherence_mimno_2011': -2.7168856751976014}), (9, {'cao_juan_2009': 0.3159394939433998, 'arun_2010': 572.56737380744, 'coherence_mimno_2011': -2.805511005369491}), (11, {'cao_juan_2009': 0.32709443991625836, 'arun_2010': 545.5819337442427, 'coherence_mimno_2011': -2.8236526268881987}), (13, {'cao_juan_2009': 0.2893329839463507, 'arun_2010': 530.0451937382779, 'coherence_mimno_2011': -2.9610868212570884}), (15, {'cao_juan_2009': 0.28261392690122233, 'arun_2010': 500.52195288216245, 'coherence_mimno_2011': -2.93534480580948}), (17, {'cao_juan_2009': 0.28833490307459786, 'arun_2010': 490.54694994749457, 'coherence_mimno_2011': -3.0825143290366244}), (19, {'cao_juan_2009': 0.27678398016025396, 'arun_2010': 471.9306291938541, 'coherence_mimno_2011': -3.126938222202072}), (21, {'cao_juan_2009': 0.2659699772511061, 'arun_2010': 468.5084984191266, 'coherence_mimno_2011': -3.122008602124142}), (23, {'cao_juan_2009': 0.26559764678341596, 'arun_2010': 447.7264219289211, 'coherence_mimno_2011': -3.1587910123874816})]\n"
          ],
          "name": "stdout"
        }
      ]
    },
    {
      "cell_type": "code",
      "metadata": {
        "id": "Xa448jQFxuTr",
        "colab_type": "code",
        "outputId": "1083ee1a-33f4-4de5-af38-56d5d1c66ad8",
        "colab": {
          "base_uri": "https://localhost:8080/",
          "height": 490
        }
      },
      "source": [
        "plot_eval_results(results_by_n_topics)"
      ],
      "execution_count": 0,
      "outputs": [
        {
          "output_type": "execute_result",
          "data": {
            "text/plain": [
              "(<Figure size 576x432 with 3 Axes>,\n",
              " array([<matplotlib.axes._subplots.AxesSubplot object at 0x7f13cf2c4828>,\n",
              "        <matplotlib.axes._subplots.AxesSubplot object at 0x7f13cf2b00f0>,\n",
              "        <matplotlib.axes._subplots.AxesSubplot object at 0x7f13cf297278>],\n",
              "       dtype=object))"
            ]
          },
          "metadata": {
            "tags": []
          },
          "execution_count": 33
        },
        {
          "output_type": "display_data",
          "data": {
            "image/png": "[encoded data removed]",
            "text/plain": [
              "<Figure size 576x432 with 3 Axes>"
            ]
          },
          "metadata": {
            "tags": []
          }
        }
      ]
    },
    {
      "cell_type": "markdown",
      "metadata": {
        "colab_type": "text",
        "id": "H10NxkkJ2phE"
      },
      "source": [
        "# **Eval (lower beta)**"
      ]
    },
    {
      "cell_type": "code",
      "metadata": {
        "colab_type": "code",
        "id": "GuizlBTK2phE",
        "outputId": "e2959aaf-81c6-4f2d-a8ba-1066d87ff9c2",
        "colab": {
          "base_uri": "https://localhost:8080/",
          "height": 77
        }
      },
      "source": [
        "const_params = {'n_iter':1000, 'eta':0.01, 'random_state':20191122}\n",
        "ks = list(range(1, 25, 2))\n",
        "print(ks)\n",
        "varying_params = [dict(n_topics=k, alpha=1/(1*k)) for k in ks]\n",
        "print(varying_params)\n",
        "\n",
        "# no topic models will run the same every time beacuse we are sampling\n",
        "# most of the documents will not have most of the topics\n",
        "# lower k -- smaller proportion of share of topics in each document"
      ],
      "execution_count": 0,
      "outputs": [
        {
          "output_type": "stream",
          "text": [
            "[1, 3, 5, 7, 9, 11, 13, 15, 17, 19, 21, 23]\n",
            "[{'n_topics': 1, 'alpha': 1.0}, {'n_topics': 3, 'alpha': 0.3333333333333333}, {'n_topics': 5, 'alpha': 0.2}, {'n_topics': 7, 'alpha': 0.14285714285714285}, {'n_topics': 9, 'alpha': 0.1111111111111111}, {'n_topics': 11, 'alpha': 0.09090909090909091}, {'n_topics': 13, 'alpha': 0.07692307692307693}, {'n_topics': 15, 'alpha': 0.06666666666666667}, {'n_topics': 17, 'alpha': 0.058823529411764705}, {'n_topics': 19, 'alpha': 0.05263157894736842}, {'n_topics': 21, 'alpha': 0.047619047619047616}, {'n_topics': 23, 'alpha': 0.043478260869565216}]\n"
          ],
          "name": "stdout"
        }
      ]
    },
    {
      "cell_type": "code",
      "metadata": {
        "colab_type": "code",
        "id": "jHiBvkAS2phH",
        "colab": {}
      },
      "source": [
        "from tmtoolkit.topicmod import tm_lda\n",
        "eval_results = tm_lda.evaluate_topic_models(dtm_sm, varying_params, const_params)"
      ],
      "execution_count": 0,
      "outputs": []
    },
    {
      "cell_type": "code",
      "metadata": {
        "colab_type": "code",
        "id": "VF3BVxTc2phJ",
        "outputId": "675a7d46-837e-4d3b-e984-265ee34b9aeb",
        "colab": {
          "base_uri": "https://localhost:8080/",
          "height": 57
        }
      },
      "source": [
        "from tmtoolkit.topicmod.evaluate import results_by_parameter\n",
        "from tmtoolkit.topicmod.visualize import plot_eval_results\n",
        "\n",
        "results_by_n_topics = results_by_parameter(eval_results, 'n_topics')\n",
        "print(results_by_n_topics)"
      ],
      "execution_count": 0,
      "outputs": [
        {
          "output_type": "stream",
          "text": [
            "[(1, {'cao_juan_2009': nan, 'arun_2010': 804.3574048052549, 'coherence_mimno_2011': -2.6644725845377133}), (3, {'cao_juan_2009': 0.45136412574881507, 'arun_2010': 715.8131728403546, 'coherence_mimno_2011': -2.886155391632517}), (5, {'cao_juan_2009': 0.33278456564274517, 'arun_2010': 652.8555969751487, 'coherence_mimno_2011': -4.097490646049252}), (7, {'cao_juan_2009': 0.31371421307298053, 'arun_2010': 600.4170183470861, 'coherence_mimno_2011': -2.8512872815233905}), (9, {'cao_juan_2009': 0.3162481775932692, 'arun_2010': 569.792975764771, 'coherence_mimno_2011': -2.8377750643313715}), (11, {'cao_juan_2009': 0.3310329435206143, 'arun_2010': 536.264518563413, 'coherence_mimno_2011': -2.8748650148552497}), (13, {'cao_juan_2009': 0.3133111321073433, 'arun_2010': 521.4484784213327, 'coherence_mimno_2011': -2.953300972201798}), (15, {'cao_juan_2009': 0.30388853511880237, 'arun_2010': 482.0063739851495, 'coherence_mimno_2011': -2.93322881946446}), (17, {'cao_juan_2009': 0.3235854336874739, 'arun_2010': 472.7598580049729, 'coherence_mimno_2011': -2.989936299738158}), (19, {'cao_juan_2009': 0.2998974878030024, 'arun_2010': 459.16211892951225, 'coherence_mimno_2011': -3.040437772544952}), (21, {'cao_juan_2009': 0.3008543113316308, 'arun_2010': 446.3155541127495, 'coherence_mimno_2011': -3.048103581124566}), (23, {'cao_juan_2009': 0.2910980939608166, 'arun_2010': 433.07293600249824, 'coherence_mimno_2011': -3.1024049996541705})]\n"
          ],
          "name": "stdout"
        }
      ]
    },
    {
      "cell_type": "code",
      "metadata": {
        "colab_type": "code",
        "id": "hwY6j2UR2phL",
        "outputId": "1b689294-54ea-4808-a98b-27866b3163d1",
        "colab": {
          "base_uri": "https://localhost:8080/",
          "height": 490
        }
      },
      "source": [
        "plot_eval_results(results_by_n_topics)"
      ],
      "execution_count": 0,
      "outputs": [
        {
          "output_type": "execute_result",
          "data": {
            "text/plain": [
              "(<Figure size 576x432 with 3 Axes>,\n",
              " array([<matplotlib.axes._subplots.AxesSubplot object at 0x7f13cf2f7160>,\n",
              "        <matplotlib.axes._subplots.AxesSubplot object at 0x7f13cf337438>,\n",
              "        <matplotlib.axes._subplots.AxesSubplot object at 0x7f13cf2cb080>],\n",
              "       dtype=object))"
            ]
          },
          "metadata": {
            "tags": []
          },
          "execution_count": 37
        },
        {
          "output_type": "display_data",
          "data": {
            "image/png": "[encoded data removed]",
            "text/plain": [
              "<Figure size 576x432 with 3 Axes>"
            ]
          },
          "metadata": {
            "tags": []
          }
        }
      ]
    },
    {
      "cell_type": "markdown",
      "metadata": {
        "colab_type": "text",
        "id": "H0VnkWxd2mLc"
      },
      "source": [
        "# **Eval (lower alpha)**"
      ]
    },
    {
      "cell_type": "code",
      "metadata": {
        "colab_type": "code",
        "id": "zleQecMZ2mLe",
        "outputId": "0a0d5281-542c-4604-ba21-0636ffcebcd8",
        "colab": {
          "base_uri": "https://localhost:8080/",
          "height": 77
        }
      },
      "source": [
        "const_params = {'n_iter':1000, 'eta':0.1, 'random_state':20191122}\n",
        "ks = list(range(1, 25, 2))\n",
        "print(ks)\n",
        "varying_params = [dict(n_topics=k, alpha=1/(10*k)) for k in ks]\n",
        "print(varying_params)\n",
        "\n",
        "# no topic models will run the same every time beacuse we are sampling\n",
        "# most of the documents will not have most of the topics\n",
        "# lower k -- smaller proportion of share of topics in each document"
      ],
      "execution_count": 0,
      "outputs": [
        {
          "output_type": "stream",
          "text": [
            "[1, 3, 5, 7, 9, 11, 13, 15, 17, 19, 21, 23]\n",
            "[{'n_topics': 1, 'alpha': 0.1}, {'n_topics': 3, 'alpha': 0.03333333333333333}, {'n_topics': 5, 'alpha': 0.02}, {'n_topics': 7, 'alpha': 0.014285714285714285}, {'n_topics': 9, 'alpha': 0.011111111111111112}, {'n_topics': 11, 'alpha': 0.00909090909090909}, {'n_topics': 13, 'alpha': 0.007692307692307693}, {'n_topics': 15, 'alpha': 0.006666666666666667}, {'n_topics': 17, 'alpha': 0.0058823529411764705}, {'n_topics': 19, 'alpha': 0.005263157894736842}, {'n_topics': 21, 'alpha': 0.004761904761904762}, {'n_topics': 23, 'alpha': 0.004347826086956522}]\n"
          ],
          "name": "stdout"
        }
      ]
    },
    {
      "cell_type": "code",
      "metadata": {
        "colab_type": "code",
        "id": "77VFq5JQ2mLh",
        "colab": {}
      },
      "source": [
        "from tmtoolkit.topicmod import tm_lda\n",
        "eval_results = tm_lda.evaluate_topic_models(dtm_sm, varying_params, const_params)"
      ],
      "execution_count": 0,
      "outputs": []
    },
    {
      "cell_type": "code",
      "metadata": {
        "colab_type": "code",
        "id": "HS8YKqBG2mLj",
        "outputId": "bd36c870-6aff-4e82-b147-0bbfb24621dd",
        "colab": {
          "base_uri": "https://localhost:8080/",
          "height": 57
        }
      },
      "source": [
        "from tmtoolkit.topicmod.evaluate import results_by_parameter\n",
        "from tmtoolkit.topicmod.visualize import plot_eval_results\n",
        "\n",
        "results_by_n_topics = results_by_parameter(eval_results, 'n_topics')\n",
        "print(results_by_n_topics)"
      ],
      "execution_count": 0,
      "outputs": [
        {
          "output_type": "stream",
          "text": [
            "[(1, {'cao_juan_2009': nan, 'arun_2010': 805.005057834177, 'coherence_mimno_2011': -2.6644725845377133}), (3, {'cao_juan_2009': 0.21263288898423774, 'arun_2010': 762.3140519573898, 'coherence_mimno_2011': -2.6500103696929016}), (5, {'cao_juan_2009': 0.37763513515099867, 'arun_2010': 706.4616958662255, 'coherence_mimno_2011': -2.6096050815269827}), (7, {'cao_juan_2009': 0.40598870078687405, 'arun_2010': 626.0491916685501, 'coherence_mimno_2011': -2.6431837405769163}), (9, {'cao_juan_2009': 0.39210975162893974, 'arun_2010': 584.590471172668, 'coherence_mimno_2011': -2.732666076327904}), (11, {'cao_juan_2009': 0.39010079916338736, 'arun_2010': 579.1604438510697, 'coherence_mimno_2011': -2.7567506657711465}), (13, {'cao_juan_2009': 0.37092845407325303, 'arun_2010': 561.133583601376, 'coherence_mimno_2011': -2.8899641041744184}), (15, {'cao_juan_2009': 0.37273224802790295, 'arun_2010': 544.2535703880899, 'coherence_mimno_2011': -3.052491111101533}), (17, {'cao_juan_2009': 0.3625088836647948, 'arun_2010': 531.3352618129732, 'coherence_mimno_2011': -2.9136774986276484}), (19, {'cao_juan_2009': 0.35821348065689124, 'arun_2010': 526.5677176943909, 'coherence_mimno_2011': -4.010073871104763}), (21, {'cao_juan_2009': 0.33859415601341897, 'arun_2010': 531.2587899157222, 'coherence_mimno_2011': -4.447434042548913}), (23, {'cao_juan_2009': 0.33286629842524396, 'arun_2010': 518.6042861592798, 'coherence_mimno_2011': -4.66373220581074})]\n"
          ],
          "name": "stdout"
        }
      ]
    },
    {
      "cell_type": "code",
      "metadata": {
        "colab_type": "code",
        "id": "KW252PqK2mLl",
        "outputId": "17254372-6f70-48a3-f391-6adaf4540614",
        "colab": {
          "base_uri": "https://localhost:8080/",
          "height": 490
        }
      },
      "source": [
        "plot_eval_results(results_by_n_topics)"
      ],
      "execution_count": 0,
      "outputs": [
        {
          "output_type": "execute_result",
          "data": {
            "text/plain": [
              "(<Figure size 576x432 with 3 Axes>,\n",
              " array([<matplotlib.axes._subplots.AxesSubplot object at 0x7f13cf3347f0>,\n",
              "        <matplotlib.axes._subplots.AxesSubplot object at 0x7f13cf2d8dd8>,\n",
              "        <matplotlib.axes._subplots.AxesSubplot object at 0x7f13cf258518>],\n",
              "       dtype=object))"
            ]
          },
          "metadata": {
            "tags": []
          },
          "execution_count": 41
        },
        {
          "output_type": "display_data",
          "data": {
            "image/png": "[encoded data removed]",
            "text/plain": [
              "<Figure size 576x432 with 3 Axes>"
            ]
          },
          "metadata": {
            "tags": []
          }
        }
      ]
    },
    {
      "cell_type": "markdown",
      "metadata": {
        "id": "PAjr2O5YdDWr",
        "colab_type": "text"
      },
      "source": [
        "# **Topic Names and Classification**"
      ]
    },
    {
      "cell_type": "code",
      "metadata": {
        "id": "_VDWeanWdPuB",
        "colab_type": "code",
        "outputId": "3bdc3be4-d0df-4345-89d4-4cb5eaa04976",
        "colab": {
          "base_uri": "https://localhost:8080/",
          "height": 77
        }
      },
      "source": [
        "from tmtoolkit.topicmod.model_io import ldamodel_top_doc_topics\n",
        "from tmtoolkit.bow.bow_stats import doc_lengths\n",
        "from tmtoolkit.topicmod.model_stats import generate_topic_labels_from_top_words\n",
        "print(model_sm)\n",
        "doc_topic = model_sm.doc_topic_\n",
        "doc_labels = np.array(preproc_smaller.doc_labels)\n",
        "topic_words = model_sm.topic_word_\n",
        "\n",
        "doc_lengths_sm = doc_lengths(dtm_sm)\n",
        "\n",
        "print(len(doc_topic))\n",
        "print(len(doc_lengths_sm))\n",
        "\n",
        "# remove 'uncommon words' preprocessing\n",
        "topic_labels = generate_topic_labels_from_top_words(\n",
        "    topic_words,\n",
        "    doc_topic,\n",
        "    doc_lengths_sm,\n",
        "    vocab_sm,\n",
        "    lambda_=.1\n",
        ")\n",
        "\n",
        "documentclassifications = ldamodel_top_doc_topics(doc_topic, doc_labels, top_n=2, topic_labels=topic_labels)\n",
        "\n",
        "for index,arrow in documentclassifications.iterrows():\n",
        "  documentclassifications.set_value(index, 'text', corpus[index])"
      ],
      "execution_count": 0,
      "outputs": [
        {
          "output_type": "stream",
          "text": [
            "<lda.lda.LDA object at 0x7f13cf34a3c8>\n",
            "27511\n",
            "27511\n"
          ],
          "name": "stdout"
        }
      ]
    },
    {
      "cell_type": "code",
      "metadata": {
        "id": "wLsLrCtfdo5e",
        "colab_type": "code",
        "outputId": "24f1e49d-2c8a-4801-9d45-c3e52d35d914",
        "colab": {
          "base_uri": "https://localhost:8080/",
          "height": 77
        }
      },
      "source": [
        "print('Results:')\n",
        "lookup = documentclassifications[documentclassifications['text'].str.contains('gift')]\n",
        "print([lookup['text'].iloc[0], lookup['rank_1'].iloc[0]])"
      ],
      "execution_count": 0,
      "outputs": [
        {
          "output_type": "stream",
          "text": [
            "Results:\n",
            "[\"Great sandals! Bought them as a Christmas gift for my husband. He has narrow, long feet and he usually wears a size 11. I'm glad I read some reviews about these running a size smaller. I got him a size 12 and they fit him like a glove! He says they're like walking on a cloud.\", '49_chart (0.3168)']\n"
          ],
          "name": "stdout"
        }
      ]
    },
    {
      "cell_type": "code",
      "metadata": {
        "id": "NlSTC_bK0Kun",
        "colab_type": "code",
        "outputId": "df86d12c-5040-46a2-9c88-632bcb6e4fa4",
        "colab": {
          "base_uri": "https://localhost:8080/",
          "height": 77
        }
      },
      "source": [
        "print('Results:')\n",
        "lookup = documentclassifications[documentclassifications['text'].str.contains('like')]\n",
        "print([lookup['text'].iloc[0], lookup['rank_1'].iloc[0]])"
      ],
      "execution_count": 0,
      "outputs": [
        {
          "output_type": "stream",
          "text": [
            "Results:\n",
            "[\"just like in the picture, nothing much. the display is too dark, it is hard to see the number, only when i press the light button i can see clearly the number. i don't recommend it.\", '44_watch (0.3694)']\n"
          ],
          "name": "stdout"
        }
      ]
    },
    {
      "cell_type": "code",
      "metadata": {
        "id": "AWxNkkCQ1X8W",
        "colab_type": "code",
        "outputId": "95d06c40-99f5-476d-be5e-a28de9ec1d7f",
        "colab": {
          "base_uri": "https://localhost:8080/",
          "height": 77
        }
      },
      "source": [
        "print('Results:')\n",
        "lookup = documentclassifications[documentclassifications['text'].str.contains('dislike')]\n",
        "print([lookup['text'].iloc[0], lookup['rank_1'].iloc[0]])"
      ],
      "execution_count": 0,
      "outputs": [
        {
          "output_type": "stream",
          "text": [
            "Results:\n",
            "[\"I  would recommend this to all of mine friends.  I rate it a 5 star because it is very comfortable.  I didn't dislike anything about this sandal. It was for my father in law.\", '17_gift (0.2562)']\n"
          ],
          "name": "stdout"
        }
      ]
    },
    {
      "cell_type": "code",
      "metadata": {
        "id": "EpEyNN4J1fKZ",
        "colab_type": "code",
        "outputId": "c4013831-d9b5-45e6-a73a-500f6909d7a7",
        "colab": {
          "base_uri": "https://localhost:8080/",
          "height": 77
        }
      },
      "source": [
        "print('Results:')\n",
        "lookup = documentclassifications[documentclassifications['text'].str.contains('suggest')]\n",
        "print([lookup['text'].iloc[0], lookup['rank_1'].iloc[0]])"
      ],
      "execution_count": 0,
      "outputs": [
        {
          "output_type": "stream",
          "text": [
            "Results:\n",
            "['These Sandals are lightweight & very comfortable.  They certainly run small, I definitely suggest to buy a size up! I am so grateful for all the reviews that suggested to buy a size up.  My husband wears a size 11 we bought a 12 and they fit perfect.  We will probably be buying another pair soon!', '10_mo (0.3388)']\n"
          ],
          "name": "stdout"
        }
      ]
    },
    {
      "cell_type": "code",
      "metadata": {
        "id": "5WTh50yO1zE-",
        "colab_type": "code",
        "outputId": "a976cb1e-f78e-4388-8177-d9e9fff4fdf0",
        "colab": {
          "base_uri": "https://localhost:8080/",
          "height": 77
        }
      },
      "source": [
        "print('Results:')\n",
        "lookup = documentclassifications[documentclassifications['text'].str.contains('develope')]\n",
        "print([lookup['text'].iloc[0], lookup['rank_1'].iloc[0]])"
      ],
      "execution_count": 0,
      "outputs": [
        {
          "output_type": "stream",
          "text": [
            "Results:\n",
            "['My Adidas Adissage sandals are very comfortable. I started wearing them when I developed plantar fascitis. I highly recommend them.', '47_sandal (0.3069)']\n"
          ],
          "name": "stdout"
        }
      ]
    },
    {
      "cell_type": "code",
      "metadata": {
        "id": "soP4e1FOdvVT",
        "colab_type": "code",
        "outputId": "a0e752ce-8be3-4315-911e-f06e0dc632cd",
        "colab": {
          "base_uri": "https://localhost:8080/",
          "height": 37
        }
      },
      "source": [
        "from google.colab import drive\n",
        "drive.mount('/content/drive', force_remount=True)\n",
        "documentclassifications.to_excel('drive/My Drive/Colab Notebooks/APRD6343_NEW/topic.documentclassificationnew.xlsx')"
      ],
      "execution_count": 0,
      "outputs": [
        {
          "output_type": "stream",
          "text": [
            "Mounted at /content/drive\n"
          ],
          "name": "stdout"
        }
      ]
    },
    {
      "cell_type": "markdown",
      "metadata": {
        "id": "x67WWayEiYLC",
        "colab_type": "text"
      },
      "source": [
        ""
      ]
    }
  ]
}